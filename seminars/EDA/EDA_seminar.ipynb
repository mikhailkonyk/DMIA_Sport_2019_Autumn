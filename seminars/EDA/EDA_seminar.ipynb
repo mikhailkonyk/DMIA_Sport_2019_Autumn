{
 "cells": [
  {
   "cell_type": "code",
   "execution_count": null,
   "metadata": {},
   "outputs": [],
   "source": [
    "import pandas as pd\n",
    "import numpy as np\n",
    "import seaborn as sns\n",
    "import matplotlib.pyplot as plt\n",
    "%matplotlib inline"
   ]
  },
  {
   "cell_type": "code",
   "execution_count": null,
   "metadata": {},
   "outputs": [],
   "source": [
    "'''\n",
    "Используется искусственно сгенерированный датасет.\n",
    "Рассматривается конвеер по производству пирожных. Надо предсказать невкусные! \n",
    "'''"
   ]
  },
  {
   "cell_type": "code",
   "execution_count": null,
   "metadata": {},
   "outputs": [],
   "source": [
    "df= pd.read_csv('df_for_EDA.csv')"
   ]
  },
  {
   "cell_type": "code",
   "execution_count": null,
   "metadata": {},
   "outputs": [],
   "source": [
    "# Исследуем признаки"
   ]
  },
  {
   "cell_type": "code",
   "execution_count": null,
   "metadata": {},
   "outputs": [],
   "source": [
    "df.describe(include='all')"
   ]
  },
  {
   "cell_type": "code",
   "execution_count": null,
   "metadata": {},
   "outputs": [],
   "source": [
    "df.head()"
   ]
  },
  {
   "cell_type": "markdown",
   "metadata": {},
   "source": [
    "# Date"
   ]
  },
  {
   "cell_type": "code",
   "execution_count": null,
   "metadata": {},
   "outputs": [],
   "source": [
    "df.date.min()"
   ]
  },
  {
   "cell_type": "code",
   "execution_count": null,
   "metadata": {},
   "outputs": [],
   "source": [
    "df.date.max()"
   ]
  },
  {
   "cell_type": "code",
   "execution_count": null,
   "metadata": {},
   "outputs": [],
   "source": [
    "df[df.is_test==0].sort_values('date').date.iloc[[0,-1]]"
   ]
  },
  {
   "cell_type": "code",
   "execution_count": null,
   "metadata": {},
   "outputs": [],
   "source": [
    "df[df.is_test==1].sort_values('date').date.iloc[[0,-1]]"
   ]
  },
  {
   "cell_type": "markdown",
   "metadata": {},
   "source": [
    "Видим что трейн и тест разделены не по времени"
   ]
  },
  {
   "cell_type": "code",
   "execution_count": null,
   "metadata": {},
   "outputs": [],
   "source": [
    "# поисследуем что можно сказать о частоте появления объектов\n",
    "df.date = pd.to_datetime(df.date)\n",
    "df.sort_values('date').date.diff().describe()"
   ]
  },
  {
   "cell_type": "code",
   "execution_count": null,
   "metadata": {},
   "outputs": [],
   "source": [
    "# Индексы остановок\n",
    "diff_date = df.sort_values('date').date.diff().dt.seconds\n",
    "diff_date[diff_date > 300]"
   ]
  },
  {
   "cell_type": "code",
   "execution_count": null,
   "metadata": {},
   "outputs": [],
   "source": [
    "# Нарисуем что было с таргетом в момент остановок"
   ]
  },
  {
   "cell_type": "code",
   "execution_count": null,
   "metadata": {},
   "outputs": [],
   "source": [
    "df = df.sort_values('date')\n",
    "df = df.reset_index()\n",
    "df.rename(columns={'index': 'old_index'}, inplace=True)"
   ]
  },
  {
   "cell_type": "code",
   "execution_count": null,
   "metadata": {},
   "outputs": [],
   "source": [
    "for v in [498, 556, 2252, 199, 183, 903]:\n",
    "    new_idx = df[df.old_index == v].index[0]\n",
    "    idxs = [i for i in range(new_idx - 10, new_idx + 10)]\n",
    "    fig, axes = plt.subplots(figsize=(20, 5))\n",
    "    plt.plot_date(df.date.loc[idxs], df.target.loc[idxs])\n",
    "    plt.axvline(df.date[new_idx], color='orange')\n",
    "    plt.axvline(df.date[new_idx - 1], color='orange')\n",
    "    plt.title = 'v=='+str(v);"
   ]
  },
  {
   "cell_type": "markdown",
   "metadata": {},
   "source": [
    "Если долго смотреть на эти графики, что можно заметить, что сразу после остановки у нескольких объектов таргет либо 1, либо неизвестен. Это можно использовать либо в качестве постобработки, либо  ввести признак - сколько времени прошло с момента остановки"
   ]
  },
  {
   "cell_type": "markdown",
   "metadata": {},
   "source": [
    "# Customer"
   ]
  },
  {
   "cell_type": "code",
   "execution_count": null,
   "metadata": {},
   "outputs": [],
   "source": [
    "fig, ax=plt.subplots(figsize=(15, 4))\n",
    "plt.subplot(1, 2, 1)\n",
    "sns.countplot(df[df.is_test==0].customer, order=df.customer.unique()).set_title('train');\n",
    "plt.subplot(1, 2, 2)\n",
    "sns.countplot(df[df.is_test==1].customer).set_title('test');"
   ]
  },
  {
   "cell_type": "code",
   "execution_count": null,
   "metadata": {},
   "outputs": [],
   "source": [
    "fig, ax=plt.subplots(figsize=(15, 4))\n",
    "plt.subplot(1, 2, 1)\n",
    "sns.countplot(x='customer', hue='target', data=df[df.is_test==0], \n",
    "              order=df.customer.unique()).set_title('train');"
   ]
  },
  {
   "cell_type": "markdown",
   "metadata": {},
   "source": [
    "# num_of_pink_flowers"
   ]
  },
  {
   "cell_type": "code",
   "execution_count": null,
   "metadata": {},
   "outputs": [],
   "source": [
    "df.num_of_pink_flowers.nunique()"
   ]
  },
  {
   "cell_type": "code",
   "execution_count": null,
   "metadata": {},
   "outputs": [],
   "source": [
    "df.num_of_pink_flowers.isnull().sum()"
   ]
  },
  {
   "cell_type": "code",
   "execution_count": null,
   "metadata": {},
   "outputs": [],
   "source": [
    "fig, ax=plt.subplots(figsize=(15, 4))\n",
    "plt.subplot(1, 2, 1)\n",
    "sns.distplot(df[df.is_test==0].num_of_pink_flowers.dropna()).set_title('train');\n",
    "plt.subplot(1, 2, 2)\n",
    "sns.distplot(df[df.is_test==1].num_of_pink_flowers.dropna()).set_title('test');"
   ]
  },
  {
   "cell_type": "code",
   "execution_count": null,
   "metadata": {},
   "outputs": [],
   "source": [
    "fig, ax=plt.subplots(figsize=(15, 4))\n",
    "plt.subplot(1, 2, 1)\n",
    "sns.countplot(x='num_of_pink_flowers', hue='target', data=df[df.is_test==0]).set_title('train');"
   ]
  },
  {
   "cell_type": "markdown",
   "metadata": {},
   "source": [
    "# Flour"
   ]
  },
  {
   "cell_type": "code",
   "execution_count": null,
   "metadata": {},
   "outputs": [],
   "source": [
    "fig, ax=plt.subplots(figsize=(15, 4))\n",
    "plt.subplot(1, 2, 1)\n",
    "sns.distplot(df[df.is_test==0].flour.dropna(), kde=False, bins=100).set_title('train');\n",
    "plt.subplot(1, 2, 2)\n",
    "sns.distplot(df[df.is_test==1].flour.dropna(), kde=False, bins=100).set_title('test');"
   ]
  },
  {
   "cell_type": "code",
   "execution_count": null,
   "metadata": {},
   "outputs": [],
   "source": [
    "df[df.flour < 50]"
   ]
  },
  {
   "cell_type": "code",
   "execution_count": null,
   "metadata": {},
   "outputs": [],
   "source": [
    "df[df.flour < 50].flour.describe()"
   ]
  },
  {
   "cell_type": "code",
   "execution_count": null,
   "metadata": {},
   "outputs": [],
   "source": [
    "df[df.flour>50].flour.describe()"
   ]
  },
  {
   "cell_type": "markdown",
   "metadata": {},
   "source": [
    "# temperature"
   ]
  },
  {
   "cell_type": "code",
   "execution_count": null,
   "metadata": {},
   "outputs": [],
   "source": [
    "fig, ax=plt.subplots(figsize=(15, 4))\n",
    "plt.subplot(1, 2, 1)\n",
    "sns.distplot(df[df.is_test==0].temperature.dropna(), bins=40).set_title('train');\n",
    "plt.subplot(1, 2, 2)\n",
    "sns.distplot(df[df.is_test==1].temperature.dropna(), bins=40).set_title('test');"
   ]
  },
  {
   "cell_type": "code",
   "execution_count": null,
   "metadata": {},
   "outputs": [],
   "source": [
    "fig, ax=plt.subplots(figsize=(10, 5))\n",
    "sns.boxplot(x='target', y='temperature', data=df[df.is_test==0])"
   ]
  },
  {
   "cell_type": "code",
   "execution_count": null,
   "metadata": {},
   "outputs": [],
   "source": [
    "fig, ax=plt.subplots(figsize=(10, 5))\n",
    "sns.violinplot(x='target', y='temperature', data=df[df.is_test==0])"
   ]
  },
  {
   "cell_type": "markdown",
   "metadata": {},
   "source": [
    "# type"
   ]
  },
  {
   "cell_type": "code",
   "execution_count": null,
   "metadata": {},
   "outputs": [],
   "source": [
    "fig, ax=plt.subplots(figsize=(15, 4))\n",
    "plt.subplot(1, 2, 1)\n",
    "sns.countplot(df[df.is_test==0].type).set_title('train');\n",
    "plt.subplot(1, 2, 2)\n",
    "sns.countplot(df[df.is_test==1].type).set_title('test');"
   ]
  },
  {
   "cell_type": "code",
   "execution_count": null,
   "metadata": {},
   "outputs": [],
   "source": [
    "fig, ax=plt.subplots(figsize=(15, 4))\n",
    "plt.subplot(1, 2, 1)\n",
    "sns.countplot(x='type', hue='target', data=df[df.is_test==0]).set_title('train');"
   ]
  },
  {
   "cell_type": "code",
   "execution_count": null,
   "metadata": {},
   "outputs": [],
   "source": [
    "# не успели эту часть на семинаре"
   ]
  },
  {
   "cell_type": "code",
   "execution_count": null,
   "metadata": {},
   "outputs": [],
   "source": [
    "# смотрим на признак\n",
    "df[['date', 'type', 'target']][-50:]"
   ]
  },
  {
   "cell_type": "code",
   "execution_count": null,
   "metadata": {},
   "outputs": [],
   "source": [
    "# Видим что изделия одного типа идут партиями. Что происходит когда одна партия сменяет другую, "
   ]
  },
  {
   "cell_type": "code",
   "execution_count": null,
   "metadata": {},
   "outputs": [],
   "source": [
    "# Нарисуем последние 200 точек. Будем искать индексы когда партия одного типа \n",
    "# менялась на партию другого типа\n",
    "tmp = df.iloc[-201:-1, :]['type'].values != df.iloc[-200:, :]['type'].values\n",
    "change_idx = df.iloc[-200:, :][tmp].index"
   ]
  },
  {
   "cell_type": "code",
   "execution_count": null,
   "metadata": {},
   "outputs": [],
   "source": [
    "df.date[55]"
   ]
  },
  {
   "cell_type": "code",
   "execution_count": null,
   "metadata": {},
   "outputs": [],
   "source": [
    "maper = {'A': 'blue', 'B': 'green', 'C': 'red', 'D': 'orange'}\n",
    "fig, axes = plt.subplots(figsize=(20, 5))\n",
    "for pcolor, gp in df.assign(color=lambda x: x.type.map(maper))[-200:].groupby('color'):\n",
    "    plt.plot_date(gp['date'], gp['target'], marker='o', color=pcolor) \n",
    "for i in change_idx:\n",
    "    plt.axvline(df.date[i], color='gray', ls='--')"
   ]
  },
  {
   "cell_type": "markdown",
   "metadata": {},
   "source": [
    "На этом пестром графике видно, что все объекты после смены партии имеют таргет==1 или неизвестный. Те признак как давно была смена типа выглядит полезным. "
   ]
  },
  {
   "cell_type": "markdown",
   "metadata": {},
   "source": [
    "# Взаимодействия"
   ]
  },
  {
   "cell_type": "code",
   "execution_count": null,
   "metadata": {},
   "outputs": [],
   "source": [
    "sns.catplot(x='type', y='temperature', data=df, height=5, aspect=1.5);"
   ]
  },
  {
   "cell_type": "code",
   "execution_count": null,
   "metadata": {},
   "outputs": [],
   "source": [
    "sns.catplot(x='type', y='temperature', hue='target', data=df[df.is_test==0], height=5, aspect=1.5);"
   ]
  },
  {
   "cell_type": "code",
   "execution_count": null,
   "metadata": {},
   "outputs": [],
   "source": []
  }
 ],
 "metadata": {
  "kernelspec": {
   "display_name": "Python 3",
   "language": "python",
   "name": "python3"
  },
  "language_info": {
   "codemirror_mode": {
    "name": "ipython",
    "version": 3
   },
   "file_extension": ".py",
   "mimetype": "text/x-python",
   "name": "python",
   "nbconvert_exporter": "python",
   "pygments_lexer": "ipython3",
   "version": "3.7.1"
  }
 },
 "nbformat": 4,
 "nbformat_minor": 2
}
