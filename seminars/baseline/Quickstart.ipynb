{
 "cells": [
  {
   "cell_type": "markdown",
   "metadata": {},
   "source": [
    "# Baseline framework. Step 1. Quickstart for getting repository and data.\n",
    "\n",
    "This notebook aims to provide an example of a baseline in ML competition.\n",
    "\n",
    "As an example a Titanic competition on Kaggle was chosen https://www.kaggle.com/c/titanic\n",
    "\n",
    "## Establish repository\n",
    "\n",
    "First, lets create a folder structure which will suit our needs. An interesting example could be found at https://github.com/drivendata/cookiecutter-data-science\n",
    "\n",
    "Based on that example a more simpler folder structure could be suggested for ML competitions and this tutorial in particular. For example:\n",
    "\n",
    "```\n",
    "├── README.md          <- The top-level README for developers using this project.\n",
    "├── data\n",
    "│   ├── external       <- Data from third party sources.\n",
    "│   ├── processed      <- The final, canonical data sets for modeling.\n",
    "│   └── raw            <- The original, immutable data dump.\n",
    "│\n",
    "├── models             <- Trained and serialized models, model predictions, or model summaries\n",
    "│\n",
    "├── notebooks          <- Jupyter notebooks. Naming convention is a number (for ordering),\n",
    "│                         the creator's initials, and a short `-` delimited description, e.g.\n",
    "│                         `1.0-jqp-initial-data-exploration`.\n",
    "│\n",
    "├── reports            <- Generated analysis as HTML, PDF, LaTeX, etc.\n",
    "│   └── figures        <- Generated graphics and figures to be used in reporting\n",
    "│\n",
    "├── requirements.txt   <- The requirements file for reproducing the analysis environment, e.g.\n",
    "│                         generated with `pip freeze > requirements.txt`\n",
    "│\n",
    "└── submissions        <- Folder for submission files\n",
    "```\n",
    "\n",
    "Lets create this structure in the cell below. If you want, you could go forward and adapt more extensive folder structure following the link above."
   ]
  },
  {
   "cell_type": "code",
   "execution_count": 1,
   "metadata": {},
   "outputs": [
    {
     "name": "stdout",
     "output_type": "stream",
     "text": [
      "/Users/aguschin/Git/dmia/DMIA_Sport_2019_Spring_dev/seminars/baselines\n"
     ]
    }
   ],
   "source": [
    "%cd ~/Git/dmia/DMIA_Sport_2019_Spring_dev/seminars/baselines/"
   ]
  },
  {
   "cell_type": "code",
   "execution_count": 2,
   "metadata": {},
   "outputs": [
    {
     "name": "stdout",
     "output_type": "stream",
     "text": [
      ".\n",
      "├── README.md\n",
      "├── data\n",
      "│   ├── external\n",
      "│   ├── processed\n",
      "│   └── raw\n",
      "├── models\n",
      "├── notebooks\n",
      "├── reports\n",
      "│   └── figures\n",
      "├── requirements.txt\n",
      "└── submissions\n",
      "\n",
      "9 directories, 2 files\n",
      "Initialized empty Git repository in /Users/aguschin/Git/dmia/DMIA_Sport_2019_Spring_dev/seminars/baselines/kaggle_titanic/.git/\n",
      "Updated git hooks.\n",
      "Git LFS initialized.\n",
      "Tracking \"*.csv\"\n",
      "Tracking \"*.csv.gz\"\n",
      "[master (root-commit) cc53cd9] create repository\n",
      " 8 files changed, 91 insertions(+)\n",
      " create mode 100644 .gitattributes\n",
      " create mode 100644 .gitignore\n",
      " create mode 100644 README.md\n",
      " create mode 100644 models/.gitkeep\n",
      " create mode 100644 notebooks/.gitkeep\n",
      " create mode 100644 reports/figures/.gitkeep\n",
      " create mode 100644 requirements.txt\n",
      " create mode 100644 submissions/.gitkeep\n",
      "On branch master\n",
      "nothing to commit, working tree clean\n"
     ]
    },
    {
     "name": "stderr",
     "output_type": "stream",
     "text": [
      "2019-10-19 17:02:09 URL:https://raw.githubusercontent.com/drivendata/cookiecutter-data-science/master/%7B%7B%20cookiecutter.repo_name%20%7D%7D/.gitignore [1003/1003] -> \".gitignore\" [1]\n",
      "The following paths are ignored by one of your .gitignore files:\n",
      "data\n",
      "Use -f if you really want to add them.\n"
     ]
    }
   ],
   "source": [
    "%%bash\n",
    "\n",
    "export FOLDER='kaggle_titanic'\n",
    "export LC_ALL=en_US.UTF-8\n",
    "\n",
    "# create folder and content\n",
    "rm -rf $FOLDER\n",
    "mkdir $FOLDER\n",
    "cd $FOLDER\n",
    "mkdir -p {data/{external,processed,raw},models,notebooks,reports/figures,submissions}\n",
    "touch {models,notebooks,reports/figures,submissions}/.gitkeep\n",
    "touch README.md requirements.txt\n",
    "wget https://raw.githubusercontent.com/drivendata/cookiecutter-data-science/master/%7B%7B%20cookiecutter.repo_name%20%7D%7D/.gitignore -nv\n",
    "# pip freeze > requirements.txt\n",
    "# conda env export > conda.yaml\n",
    "# pipreqs .\n",
    "# cp Quickstart.ipynb $FOLDER ???\n",
    "tree .\n",
    "\n",
    "# initialise repository\n",
    "# git lfs usage is recommended https://git-lfs.github.com\n",
    "git init\n",
    "git lfs install\n",
    "git lfs track \"*.csv\"\n",
    "git lfs track \"*.csv.gz\"\n",
    "git add .gitignore .gitattributes\n",
    "git add *\n",
    "git commit -m \"create repository\"\n",
    "git status\n",
    "# git remote add origin https://github.com/username/reponame.git\n",
    "# git push -u origin master"
   ]
  },
  {
   "cell_type": "markdown",
   "metadata": {},
   "source": [
    "## Clone existing repo"
   ]
  },
  {
   "cell_type": "code",
   "execution_count": null,
   "metadata": {},
   "outputs": [],
   "source": [
    "%%bash\n",
    "\n",
    "git clone https://github.com/username/reponame.git"
   ]
  },
  {
   "cell_type": "markdown",
   "metadata": {},
   "source": [
    "## Download data\n",
    "\n",
    "https://github.com/Kaggle/kaggle-api"
   ]
  },
  {
   "cell_type": "code",
   "execution_count": 4,
   "metadata": {},
   "outputs": [
    {
     "name": "stdout",
     "output_type": "stream",
     "text": [
      "/Users/aguschin/Git/dmia/DMIA_Sport_2019_Spring_dev/seminars/baselines/kaggle_titanic/notebooks\n"
     ]
    }
   ],
   "source": [
    "%cd kaggle_titanic/notebooks/"
   ]
  },
  {
   "cell_type": "code",
   "execution_count": 5,
   "metadata": {},
   "outputs": [
    {
     "name": "stdout",
     "output_type": "stream",
     "text": [
      "Downloading titanic.zip to ../data/raw\n",
      "\n",
      "Archive:  titanic.zip\n",
      "  inflating: train.csv               \n",
      "  inflating: test.csv                \n",
      "  inflating: gender_submission.csv   \n"
     ]
    },
    {
     "name": "stderr",
     "output_type": "stream",
     "text": [
      "100%|██████████| 33.9k/33.9k [00:00<00:00, 1.28MB/s]\n"
     ]
    }
   ],
   "source": [
    "%%bash\n",
    "\n",
    "export COMPETITION='titanic'\n",
    "kaggle competitions download -c titanic -p ../data/raw\n",
    "cd ../data/raw && unzip titanic.zip"
   ]
  },
  {
   "cell_type": "code",
   "execution_count": null,
   "metadata": {
    "collapsed": true
   },
   "outputs": [],
   "source": []
  }
 ],
 "metadata": {
  "kernelspec": {
   "display_name": "py36",
   "language": "python",
   "name": "py36"
  },
  "language_info": {
   "codemirror_mode": {
    "name": "ipython",
    "version": 3
   },
   "file_extension": ".py",
   "mimetype": "text/x-python",
   "name": "python",
   "nbconvert_exporter": "python",
   "pygments_lexer": "ipython3",
   "version": "3.6.9"
  },
  "toc": {
   "base_numbering": 1,
   "nav_menu": {},
   "number_sections": true,
   "sideBar": true,
   "skip_h1_title": false,
   "title_cell": "Table of Contents",
   "title_sidebar": "Contents",
   "toc_cell": false,
   "toc_position": {},
   "toc_section_display": true,
   "toc_window_display": false
  }
 },
 "nbformat": 4,
 "nbformat_minor": 2
}
