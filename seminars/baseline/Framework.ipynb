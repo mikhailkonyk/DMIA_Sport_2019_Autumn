{
 "cells": [
  {
   "cell_type": "markdown",
   "metadata": {},
   "source": [
    "# Baseline framework. Step 3. Framework for experiments and submissions.\n",
    "\n",
    "This notebook aims to provide an example of a baseline in ML competition.\n",
    "\n",
    "As an example a Titanic competition on Kaggle was chosen https://www.kaggle.com/c/titanic"
   ]
  },
  {
   "cell_type": "code",
   "execution_count": 2,
   "metadata": {},
   "outputs": [],
   "source": [
    "REPOSITORY_NAME = 'kaggle_titanic'\n",
    "\n",
    "%cd {REPOSITORY_NAME}/notebooks/"
   ]
  },
  {
   "cell_type": "markdown",
   "metadata": {},
   "source": [
    "## Import libraries"
   ]
  },
  {
   "cell_type": "code",
   "execution_count": 3,
   "metadata": {},
   "outputs": [
    {
     "name": "stderr",
     "output_type": "stream",
     "text": [
      "/Users/aguschin/anaconda3/envs/py36/lib/python3.6/site-packages/lightgbm/__init__.py:46: UserWarning: Starting from version 2.2.1, the library file in distribution wheels for macOS is built by the Apple Clang (Xcode_8.3.3) compiler.\n",
      "This means that in case of installing LightGBM from PyPI via the ``pip install lightgbm`` command, you don't need to install the gcc compiler anymore.\n",
      "Instead of that, you need to install the OpenMP library, which is required for running LightGBM on the system with the Apple Clang compiler.\n",
      "You can install the OpenMP library by the following command: ``brew install libomp``.\n",
      "  \"You can install the OpenMP library by the following command: ``brew install libomp``.\", UserWarning)\n"
     ]
    }
   ],
   "source": [
    "import os\n",
    "import json\n",
    "\n",
    "import numpy as np\n",
    "import pandas as pd\n",
    "import seaborn as sns\n",
    "from matplotlib import pyplot as plt\n",
    "import sklearn\n",
    "from sklearn.model_selection import train_test_split\n",
    "from sklearn.base import BaseEstimator, TransformerMixin\n",
    "from sklearn.preprocessing import LabelEncoder\n",
    "from sklearn.model_selection import KFold\n",
    "from sklearn.metrics import log_loss, roc_auc_score\n",
    "from sklearn.dummy import DummyClassifier\n",
    "from sklearn.linear_model import LogisticRegression\n",
    "from sklearn.neighbors import KNeighborsClassifier\n",
    "from sklearn.ensemble import RandomForestClassifier\n",
    "from lightgbm import LGBMClassifier\n",
    "\n",
    "\n",
    "%matplotlib inline\n",
    "pd.set_option('display.max_rows', 100)\n",
    "pd.set_option('display.max_columns', 100)"
   ]
  },
  {
   "cell_type": "markdown",
   "metadata": {},
   "source": [
    "## Read the data"
   ]
  },
  {
   "cell_type": "code",
   "execution_count": 4,
   "metadata": {},
   "outputs": [],
   "source": [
    "train = pd.read_csv('../data/raw/train.csv')\n",
    "test = pd.read_csv('../data/raw/test.csv')\n",
    "\n",
    "sample_submission = pd.read_csv('../data/raw/gender_submission.csv')"
   ]
  },
  {
   "cell_type": "markdown",
   "metadata": {},
   "source": [
    "## Prepare experiment results storage"
   ]
  },
  {
   "cell_type": "code",
   "execution_count": 5,
   "metadata": {},
   "outputs": [],
   "source": [
    "class ScoreStore:\n",
    "    \"\"\"\n",
    "    storing experiment results in file\n",
    "    \"\"\"\n",
    "    def __init__(self, path_to_file: str):\n",
    "        self.path_to_file = path_to_file\n",
    "\n",
    "    def store(self, score: dict, add_timestamp=True):\n",
    "        if add_timestamp:\n",
    "            score['timestamp'] = str(pd.Timestamp.now())\n",
    "        with open(self.path_to_file, 'a') as f:\n",
    "            f.write(json.dumps(score))\n",
    "            f.write('\\n')\n",
    "            \n",
    "    def read(self):    \n",
    "        with open(self.path_to_file, 'r') as f:\n",
    "            content = f.readlines()\n",
    "        content = [json.loads(row) for row in content]\n",
    "        scores_df = pd.DataFrame(content)\n",
    "        return scores_df"
   ]
  },
  {
   "cell_type": "code",
   "execution_count": 6,
   "metadata": {},
   "outputs": [],
   "source": [
    "!rm ../reports/experiments.log\n",
    "score_store = ScoreStore('../reports/experiments.log')"
   ]
  },
  {
   "cell_type": "markdown",
   "metadata": {},
   "source": [
    "## Dummy submission\n",
    "\n",
    "- metric\n",
    "- dummy prediction\n",
    "- kaggle api submission & getting results (function?)\n",
    "- val vs LB score comparison"
   ]
  },
  {
   "cell_type": "markdown",
   "metadata": {},
   "source": [
    "metric or loss function"
   ]
  },
  {
   "cell_type": "code",
   "execution_count": 7,
   "metadata": {},
   "outputs": [],
   "source": [
    "# check if metric is already in sklearn.metrics\n",
    "from sklearn.metrics import accuracy_score"
   ]
  },
  {
   "cell_type": "code",
   "execution_count": 8,
   "metadata": {
    "collapsed": true
   },
   "outputs": [
    {
     "data": {
      "text/plain": [
       "0.3333333333333333"
      ]
     },
     "execution_count": 8,
     "metadata": {},
     "output_type": "execute_result"
    }
   ],
   "source": [
    "# if not, write and test it\n",
    "# having the same arguments as in sklearn.metrics function is nice\n",
    "def accuracy(y_true, y_pred):\n",
    "    assert len(y_true) == len(y_pred), 'different vector lengths'\n",
    "    return (y_true == y_pred).mean()\n",
    "\n",
    "accuracy(\n",
    "    np.array([0, 1, 2]),\n",
    "    np.array([0, 0, 0])\n",
    ")"
   ]
  },
  {
   "cell_type": "markdown",
   "metadata": {},
   "source": [
    "dummy prediction"
   ]
  },
  {
   "cell_type": "code",
   "execution_count": 9,
   "metadata": {},
   "outputs": [
    {
     "data": {
      "text/plain": [
       "0    549\n",
       "1    342\n",
       "Name: Survived, dtype: int64"
      ]
     },
     "execution_count": 9,
     "metadata": {},
     "output_type": "execute_result"
    }
   ],
   "source": [
    "ycol = 'Survived'\n",
    "train[ycol].value_counts()"
   ]
  },
  {
   "cell_type": "code",
   "execution_count": 10,
   "metadata": {},
   "outputs": [
    {
     "data": {
      "text/plain": [
       "0.6161616161616161"
      ]
     },
     "execution_count": 10,
     "metadata": {},
     "output_type": "execute_result"
    }
   ],
   "source": [
    "accuracy(train[ycol], train[ycol] * 0)"
   ]
  },
  {
   "cell_type": "code",
   "execution_count": 11,
   "metadata": {},
   "outputs": [],
   "source": [
    "sample_submission[ycol] = 0"
   ]
  },
  {
   "cell_type": "code",
   "execution_count": 12,
   "metadata": {},
   "outputs": [],
   "source": [
    "submission_name = 'constant.csv'\n",
    "submission_path = os.path.join('../submissions/', submission_name)\n",
    "sample_submission.to_csv(submission_path, index=False)"
   ]
  },
  {
   "cell_type": "code",
   "execution_count": 13,
   "metadata": {},
   "outputs": [],
   "source": [
    "to_log = dict(fileName=submission_name, metric='accuracy', score_mean=0.61)\n",
    "score_store.store(to_log)"
   ]
  },
  {
   "cell_type": "markdown",
   "metadata": {},
   "source": [
    "## Validation\n",
    "\n",
    "- train/val split\n",
    "- dump used split ids & upload to git for exchange\n",
    "- cv function?\n",
    "- submit & score comparison (?)\n",
    "- val/test switch (dev/prod)\n",
    "- calc val std\n",
    "- a possibility to change seed sometimes\n",
    "- dump val + test predictions & upload to git for exchange\n",
    "\n",
    "Два сценария:\n",
    "1. более удобный когда есть test.csv; больше шанс по своей ошибке сделать себе лик при генерации фичей или допустить ошибку в кросс-валидации :)\n",
    "    \n",
    "    > использовать ids в функциях по валидации, трейн не делить на трейн/валидацию, трейн и тест объединять\n",
    "1. более удобный, когда нет test.csv\n",
    "\n",
    "    > разбивать на x_train, x_test и использовать трансформеры\n",
    "    \n",
    "### Scenario 2\n",
    "\n",
    "restart & run all your notebook every time you want to change validation mode and re-run next cell\n",
    "thus you will make sure that:\n",
    "- your results are repeatable\n",
    "- your notebook is not too complicated for \"Run All\"\n",
    "\n",
    "The last one is important because:\n",
    "- more complicated your notebook is, more likely you will make a mistake\n",
    "- the moment you start to notice it is a good time to make some clean-up\n",
    "\n",
    "#### example\n",
    "For example, if your EDA or data preprocessing or model tuning starts to be very complicated and need a takes a lot of space in notebook or time to run, you could take it to some other notebook and dump intermediate results on disk.\n",
    "\n",
    "If you have one complicated notebook \"Framework.ipynb\" containing:\n",
    "- EDA\n",
    "- Data processing\n",
    "- Modeling\n",
    "- Submitting\n",
    "\n",
    "Split it and dump intermediate results in \"../data/processed/\":\n",
    "- Eda.ipynb\n",
    "- DataProcessing.ipynb\n",
    "- ModelAndSubmit.ipynb"
   ]
  },
  {
   "cell_type": "code",
   "execution_count": 24,
   "metadata": {},
   "outputs": [],
   "source": [
    "MODE = 'validation_dump'\n",
    "idcol = 'PassengerId'\n",
    "\n",
    "if MODE == 'validation_dump':\n",
    "    X = train[[c for c in train if c != ycol]].copy()\n",
    "    y = train[ycol].copy()\n",
    "    x_train, x_test, y_train, y_test = train_test_split(X, y, test_size=0.2, random_state=0)\n",
    "    \n",
    "    # dump used split ids as backup\n",
    "    x_train[[idcol]].to_csv('../data/processed/x_train_ids.csv', index=False)\n",
    "    x_test[[idcol]].to_csv('../data/processed/x_test_ids.csv', index=False)\n",
    "\n",
    "elif MODE == 'validation_load':\n",
    "    x_train_ids = pd.read_csv('../data/processed/x_train_ids.csv')\n",
    "    x_test_ids = pd.read_csv('../data/processed/x_test_ids.csv')\n",
    "\n",
    "    x_train = X.set_index(idcol).loc[x_train_ids[idcol]]\n",
    "    x_test = X.set_index(idcol).loc[x_test_ids[idcol]]\n",
    "\n",
    "elif MODE == 'test':\n",
    "    x_train = train[[c for c in train if c != ycol]].copy()\n",
    "    y_train = train[ycol].copy()\n",
    "    x_test = test.copy()\n",
    "    y_test = np.random.choice(y, size=len(x_test))"
   ]
  },
  {
   "cell_type": "code",
   "execution_count": 25,
   "metadata": {},
   "outputs": [
    {
     "name": "stdout",
     "output_type": "stream",
     "text": [
      "PassengerId\n",
      "141\n",
      "440\n",
      "818\n"
     ]
    }
   ],
   "source": [
    "!head -4 ../data/processed/x_train_ids.csv"
   ]
  },
  {
   "cell_type": "code",
   "execution_count": 27,
   "metadata": {
    "collapsed": true
   },
   "outputs": [],
   "source": [
    "FUNCTION = log_loss\n",
    "\n",
    "\n",
    "def cv_mode(CV):\n",
    "    if CV:\n",
    "        cv = KFold(n_splits=5, shuffle=False, random_state=42).split(data.iloc[:train.shape[0]])    \n",
    "    else:\n",
    "        i_tr = data.iloc[:train.shape[0]].index\n",
    "        i_tst = data.iloc[train.shape[0]:].index\n",
    "        cv = (i_tr, i_tst)\n",
    "    return cv\n",
    "\n",
    "\n",
    "def make_prediction(model, X_train, y_train, X_test):\n",
    "    model.fit(X_train, y_train)\n",
    "    prediction = model.predict_proba(X_test)\n",
    "    return prediction\n",
    "\n",
    "    \n",
    "def cross_val(model, X, y):\n",
    "    cv = KFold(n_splits=3, shuffle=True, random_state=0).split(X)\n",
    "    scores = []\n",
    "    for itr, ival in cv:\n",
    "        y_pred = make_prediction(model, X.iloc[itr], y.iloc[itr], X.iloc[ival])\n",
    "        score = FUNCTION(y.iloc[ival], y_pred)\n",
    "        scores.append(score)\n",
    "    return np.mean(scores), np.std(scores)\n",
    "\n",
    "\n",
    "clf = DummyClassifier('prior')\n",
    "\n",
    "score_mean, score_std = cross_val(clf, x_train, y_train)\n",
    "to_log = dict(clf=str(clf), metric=log_loss.__name__, score_mean=score_mean, score_std=score_std)\n",
    "score_store.store(to_log)"
   ]
  },
  {
   "cell_type": "code",
   "execution_count": 28,
   "metadata": {},
   "outputs": [
    {
     "data": {
      "text/html": [
       "<div>\n",
       "<style scoped>\n",
       "    .dataframe tbody tr th:only-of-type {\n",
       "        vertical-align: middle;\n",
       "    }\n",
       "\n",
       "    .dataframe tbody tr th {\n",
       "        vertical-align: top;\n",
       "    }\n",
       "\n",
       "    .dataframe thead th {\n",
       "        text-align: right;\n",
       "    }\n",
       "</style>\n",
       "<table border=\"1\" class=\"dataframe\">\n",
       "  <thead>\n",
       "    <tr style=\"text-align: right;\">\n",
       "      <th></th>\n",
       "      <th>clf</th>\n",
       "      <th>fileName</th>\n",
       "      <th>metric</th>\n",
       "      <th>score_mean</th>\n",
       "      <th>score_std</th>\n",
       "      <th>timestamp</th>\n",
       "    </tr>\n",
       "  </thead>\n",
       "  <tbody>\n",
       "    <tr>\n",
       "      <th>0</th>\n",
       "      <td>NaN</td>\n",
       "      <td>constant.csv</td>\n",
       "      <td>accuracy</td>\n",
       "      <td>0.610000</td>\n",
       "      <td>NaN</td>\n",
       "      <td>2019-10-18 13:10:33.551342</td>\n",
       "    </tr>\n",
       "    <tr>\n",
       "      <th>1</th>\n",
       "      <td>DummyClassifier(constant=None, random_state=No...</td>\n",
       "      <td>NaN</td>\n",
       "      <td>log_loss</td>\n",
       "      <td>0.667854</td>\n",
       "      <td>0.014531</td>\n",
       "      <td>2019-10-18 13:15:58.234647</td>\n",
       "    </tr>\n",
       "  </tbody>\n",
       "</table>\n",
       "</div>"
      ],
      "text/plain": [
       "                                                 clf      fileName    metric  \\\n",
       "0                                                NaN  constant.csv  accuracy   \n",
       "1  DummyClassifier(constant=None, random_state=No...           NaN  log_loss   \n",
       "\n",
       "   score_mean  score_std                   timestamp  \n",
       "0    0.610000        NaN  2019-10-18 13:10:33.551342  \n",
       "1    0.667854   0.014531  2019-10-18 13:15:58.234647  "
      ]
     },
     "execution_count": 28,
     "metadata": {},
     "output_type": "execute_result"
    }
   ],
   "source": [
    "score_store.read()"
   ]
  },
  {
   "cell_type": "code",
   "execution_count": null,
   "metadata": {},
   "outputs": [],
   "source": []
  },
  {
   "cell_type": "markdown",
   "metadata": {},
   "source": [
    "### Scenario 1\n",
    "сейчас тут просто наброски кода для примера"
   ]
  },
  {
   "cell_type": "code",
   "execution_count": 34,
   "metadata": {
    "collapsed": true
   },
   "outputs": [],
   "source": [
    "# Объединим трейн и тест\n",
    "\n",
    "test['price'] = -1\n",
    "\n",
    "data = pd.concat([train, test], 0)\n",
    "data.reset_index(drop=True, inplace=True)"
   ]
  },
  {
   "cell_type": "code",
   "execution_count": null,
   "metadata": {},
   "outputs": [],
   "source": [
    "from sklearn.model_selection import KFold\n",
    "\n",
    "# Эта функция определяет что нам сейчас нужно на некотором наборе данных. Кросс валидация, или предсказания для теста.\n",
    "\n",
    "def cv_mode(CV):\n",
    "    \n",
    "    if CV:\n",
    "    \n",
    "        cv = KFold(n_splits=5, shuffle=False, random_state=42).split(data.iloc[:train.shape[0]])\n",
    "    \n",
    "    else:\n",
    "        i_tr = data.iloc[:train.shape[0]].index\n",
    "        i_tst = data.iloc[train.shape[0]:].index\n",
    "        cv = (i_tr, i_tst)\n",
    "    \n",
    "    return cv"
   ]
  },
  {
   "cell_type": "code",
   "execution_count": 37,
   "metadata": {
    "collapsed": true
   },
   "outputs": [],
   "source": [
    "# Получить предсказания, кросс-валидация, файл с решением\n",
    "\n",
    "def make_prediction(model, X, y, i_tr, i_tst):\n",
    "    X_train, X_test = X.iloc[i_tr, :], X.iloc[i_tst, :]\n",
    "    y_train, y_test = y.iloc[i_tr], y.iloc[i_tst]\n",
    "    model.fit(X_train, y_train)\n",
    "    prediction = model.predict(X_test)\n",
    "    return prediction, MAPE(y_test, prediction)\n",
    "        \n",
    "    \n",
    "def cross_val(model, X, y, CV=True):\n",
    "    cv = cv_mode(CV)\n",
    "    scores = []\n",
    "    for i_tr, i_tst in cv:\n",
    "        _, score = make_prediction(model, X, y, i_tr, i_tst)\n",
    "        scores.append(score)\n",
    "    return np.mean(scores), np.std(scores)\n",
    "\n",
    "\n",
    "def make_subm(model, X, y, filename, CV=False):\n",
    "    cv = cv_mode(CV)\n",
    "    (i_tr, i_tst) = cv\n",
    "    prediction, _ = make_prediction(model, X, y, i_tr, i_tst)\n",
    "    subm['price'] = prediction\n",
    "    subm.to_csv(filename, index=False)\n",
    "    pass\n",
    "\n"
   ]
  },
  {
   "cell_type": "markdown",
   "metadata": {},
   "source": [
    "## Data preprocessing\n",
    "- dump intermediate results with joblib\n",
    "- quick preprocessing + simple model baseline\n",
    "- try sklearn Pipeline ?\n",
    "- show sklearn Transformer ?"
   ]
  },
  {
   "cell_type": "code",
   "execution_count": 29,
   "metadata": {},
   "outputs": [],
   "source": [
    "class DataTransformer(BaseEstimator, TransformerMixin):\n",
    "\n",
    "    def fit(self, X, y=None):\n",
    "        self.label_encoders = dict()\n",
    "        for column in ['Sex', 'Cabin', 'Embarked']:\n",
    "            self.label_encoders[column] = LabelEncoder().fit(X[column].fillna('MISSING'))\n",
    "        return self\n",
    "\n",
    "    def transform(self, X):\n",
    "        X = X.copy()\n",
    "        for column, le in self.label_encoders.items():\n",
    "            X[column] = X[column].fillna('MISSING')\n",
    "            X.loc[~X[column].isin(le.classes_), column] = 'MISSING'\n",
    "            X[column + '_le'] = le.transform(X[column])\n",
    "        return X"
   ]
  },
  {
   "cell_type": "code",
   "execution_count": 30,
   "metadata": {},
   "outputs": [],
   "source": [
    "transformer = DataTransformer().fit(x_train)\n",
    "x_train_ = transformer.transform(x_train)\n",
    "x_test_ = transformer.transform(x_test)"
   ]
  },
  {
   "cell_type": "code",
   "execution_count": null,
   "metadata": {},
   "outputs": [],
   "source": []
  },
  {
   "cell_type": "markdown",
   "metadata": {},
   "source": [
    "## Model exploration\n",
    "- try different models\n",
    "- try some tuning\n",
    "- analyse model performance results"
   ]
  },
  {
   "cell_type": "code",
   "execution_count": 31,
   "metadata": {},
   "outputs": [
    {
     "name": "stdout",
     "output_type": "stream",
     "text": [
      "LogisticRegression(C=1.0, class_weight=None, dual=False, fit_intercept=True,\n",
      "                   intercept_scaling=1, l1_ratio=None, max_iter=100,\n",
      "                   multi_class='warn', n_jobs=None, penalty='l2',\n",
      "                   random_state=None, solver='warn', tol=0.0001, verbose=0,\n",
      "                   warm_start=False)\n",
      "0.485596929681158 0.04441021605665752\n",
      "\n",
      "KNeighborsClassifier(algorithm='auto', leaf_size=30, metric='minkowski',\n",
      "                     metric_params=None, n_jobs=None, n_neighbors=5, p=2,\n",
      "                     weights='uniform')\n",
      "2.347854167292343 0.5856196604035674\n",
      "\n",
      "RandomForestClassifier(bootstrap=True, class_weight=None, criterion='gini',\n",
      "                       max_depth=None, max_features='auto', max_leaf_nodes=None,\n",
      "                       min_impurity_decrease=0.0, min_impurity_split=None,\n",
      "                       min_samples_leaf=1, min_samples_split=2,\n",
      "                       min_weight_fraction_leaf=0.0, n_estimators='warn',\n",
      "                       n_jobs=None, oob_score=False, random_state=None,\n",
      "                       verbose=0, warm_start=False)\n",
      "1.604999327110218 0.696229267981384\n",
      "\n",
      "LGBMClassifier(boosting_type='gbdt', class_weight=None, colsample_bytree=1.0,\n",
      "               importance_type='split', learning_rate=0.1, max_depth=-1,\n",
      "               min_child_samples=20, min_child_weight=0.001, min_split_gain=0.0,\n",
      "               n_estimators=100, n_jobs=-1, num_leaves=31, objective=None,\n",
      "               random_state=None, reg_alpha=0.0, reg_lambda=0.0, silent=True,\n",
      "               subsample=1.0, subsample_for_bin=200000, subsample_freq=0)\n"
     ]
    },
    {
     "name": "stderr",
     "output_type": "stream",
     "text": [
      "/Users/aguschin/anaconda3/envs/py36/lib/python3.6/site-packages/sklearn/linear_model/logistic.py:432: FutureWarning:\n",
      "\n",
      "Default solver will be changed to 'lbfgs' in 0.22. Specify a solver to silence this warning.\n",
      "\n",
      "/Users/aguschin/anaconda3/envs/py36/lib/python3.6/site-packages/sklearn/linear_model/logistic.py:432: FutureWarning:\n",
      "\n",
      "Default solver will be changed to 'lbfgs' in 0.22. Specify a solver to silence this warning.\n",
      "\n",
      "/Users/aguschin/anaconda3/envs/py36/lib/python3.6/site-packages/sklearn/linear_model/logistic.py:432: FutureWarning:\n",
      "\n",
      "Default solver will be changed to 'lbfgs' in 0.22. Specify a solver to silence this warning.\n",
      "\n",
      "/Users/aguschin/anaconda3/envs/py36/lib/python3.6/site-packages/sklearn/ensemble/forest.py:245: FutureWarning:\n",
      "\n",
      "The default value of n_estimators will change from 10 in version 0.20 to 100 in 0.22.\n",
      "\n"
     ]
    },
    {
     "name": "stdout",
     "output_type": "stream",
     "text": [
      "0.6119220117887324 0.12801896634362545\n",
      "\n"
     ]
    }
   ],
   "source": [
    "for clf in [\n",
    "    LogisticRegression(),\n",
    "    KNeighborsClassifier(),\n",
    "    RandomForestClassifier(),\n",
    "    LGBMClassifier(),\n",
    "]:\n",
    "    print(clf)\n",
    "    score_mean, score_std = cross_val(clf, x_train_.select_dtypes(exclude='O').fillna(0), y_train)\n",
    "    print(score_mean, score_std, end='\\n\\n')\n",
    "    to_log = dict(clf=str(clf), metric=log_loss.__name__, score_mean=score_mean, score_std=score_std)\n",
    "    score_store.store(to_log)"
   ]
  },
  {
   "cell_type": "code",
   "execution_count": 32,
   "metadata": {},
   "outputs": [
    {
     "data": {
      "text/html": [
       "<div>\n",
       "<style scoped>\n",
       "    .dataframe tbody tr th:only-of-type {\n",
       "        vertical-align: middle;\n",
       "    }\n",
       "\n",
       "    .dataframe tbody tr th {\n",
       "        vertical-align: top;\n",
       "    }\n",
       "\n",
       "    .dataframe thead th {\n",
       "        text-align: right;\n",
       "    }\n",
       "</style>\n",
       "<table border=\"1\" class=\"dataframe\">\n",
       "  <thead>\n",
       "    <tr style=\"text-align: right;\">\n",
       "      <th></th>\n",
       "      <th>clf</th>\n",
       "      <th>fileName</th>\n",
       "      <th>metric</th>\n",
       "      <th>score_mean</th>\n",
       "      <th>score_std</th>\n",
       "      <th>timestamp</th>\n",
       "    </tr>\n",
       "  </thead>\n",
       "  <tbody>\n",
       "    <tr>\n",
       "      <th>0</th>\n",
       "      <td>NaN</td>\n",
       "      <td>constant.csv</td>\n",
       "      <td>accuracy</td>\n",
       "      <td>0.610000</td>\n",
       "      <td>NaN</td>\n",
       "      <td>2019-10-18 13:10:33.551342</td>\n",
       "    </tr>\n",
       "    <tr>\n",
       "      <th>1</th>\n",
       "      <td>DummyClassifier(constant=None, random_state=No...</td>\n",
       "      <td>NaN</td>\n",
       "      <td>log_loss</td>\n",
       "      <td>0.667854</td>\n",
       "      <td>0.014531</td>\n",
       "      <td>2019-10-18 13:15:58.234647</td>\n",
       "    </tr>\n",
       "    <tr>\n",
       "      <th>2</th>\n",
       "      <td>LogisticRegression(C=1.0, class_weight=None, d...</td>\n",
       "      <td>NaN</td>\n",
       "      <td>log_loss</td>\n",
       "      <td>0.485597</td>\n",
       "      <td>0.044410</td>\n",
       "      <td>2019-10-18 13:16:22.137659</td>\n",
       "    </tr>\n",
       "    <tr>\n",
       "      <th>3</th>\n",
       "      <td>KNeighborsClassifier(algorithm='auto', leaf_si...</td>\n",
       "      <td>NaN</td>\n",
       "      <td>log_loss</td>\n",
       "      <td>2.347854</td>\n",
       "      <td>0.585620</td>\n",
       "      <td>2019-10-18 13:16:22.160313</td>\n",
       "    </tr>\n",
       "    <tr>\n",
       "      <th>4</th>\n",
       "      <td>RandomForestClassifier(bootstrap=True, class_w...</td>\n",
       "      <td>NaN</td>\n",
       "      <td>log_loss</td>\n",
       "      <td>1.604999</td>\n",
       "      <td>0.696229</td>\n",
       "      <td>2019-10-18 13:16:22.227084</td>\n",
       "    </tr>\n",
       "    <tr>\n",
       "      <th>5</th>\n",
       "      <td>LGBMClassifier(boosting_type='gbdt', class_wei...</td>\n",
       "      <td>NaN</td>\n",
       "      <td>log_loss</td>\n",
       "      <td>0.611922</td>\n",
       "      <td>0.128019</td>\n",
       "      <td>2019-10-18 13:16:23.203036</td>\n",
       "    </tr>\n",
       "  </tbody>\n",
       "</table>\n",
       "</div>"
      ],
      "text/plain": [
       "                                                 clf      fileName    metric  \\\n",
       "0                                                NaN  constant.csv  accuracy   \n",
       "1  DummyClassifier(constant=None, random_state=No...           NaN  log_loss   \n",
       "2  LogisticRegression(C=1.0, class_weight=None, d...           NaN  log_loss   \n",
       "3  KNeighborsClassifier(algorithm='auto', leaf_si...           NaN  log_loss   \n",
       "4  RandomForestClassifier(bootstrap=True, class_w...           NaN  log_loss   \n",
       "5  LGBMClassifier(boosting_type='gbdt', class_wei...           NaN  log_loss   \n",
       "\n",
       "   score_mean  score_std                   timestamp  \n",
       "0    0.610000        NaN  2019-10-18 13:10:33.551342  \n",
       "1    0.667854   0.014531  2019-10-18 13:15:58.234647  \n",
       "2    0.485597   0.044410  2019-10-18 13:16:22.137659  \n",
       "3    2.347854   0.585620  2019-10-18 13:16:22.160313  \n",
       "4    1.604999   0.696229  2019-10-18 13:16:22.227084  \n",
       "5    0.611922   0.128019  2019-10-18 13:16:23.203036  "
      ]
     },
     "execution_count": 32,
     "metadata": {},
     "output_type": "execute_result"
    }
   ],
   "source": [
    "score_store.read()"
   ]
  },
  {
   "cell_type": "code",
   "execution_count": 33,
   "metadata": {},
   "outputs": [
    {
     "data": {
      "text/plain": [
       "<matplotlib.axes._subplots.AxesSubplot at 0x1a20c1df60>"
      ]
     },
     "execution_count": 33,
     "metadata": {},
     "output_type": "execute_result"
    },
    {
     "data": {
      "image/png": "[encoded data removed]",
      "text/plain": [
       "<Figure size 1152x576 with 1 Axes>"
      ]
     },
     "metadata": {
      "needs_background": "light"
     },
     "output_type": "display_data"
    }
   ],
   "source": [
    "plt.figure(figsize=(16, 8))\n",
    "val_scores_subset = score_store.read().query('metric == \"log_loss\"').sort_values('score_mean')\n",
    "sns.barplot(data=val_scores_subset, x='score_mean', y='clf')"
   ]
  },
  {
   "cell_type": "code",
   "execution_count": 189,
   "metadata": {},
   "outputs": [
    {
     "data": {
      "text/plain": [
       "(0.6176005090381698, 0.15641759171620387)"
      ]
     },
     "execution_count": 189,
     "metadata": {},
     "output_type": "execute_result"
    }
   ],
   "source": [
    "model = LGBMClassifier()\n",
    "cross_val(model, x_train_.select_dtypes(exclude='O'), y_train)"
   ]
  },
  {
   "cell_type": "code",
   "execution_count": null,
   "metadata": {},
   "outputs": [],
   "source": []
  },
  {
   "cell_type": "markdown",
   "metadata": {},
   "source": [
    "## Submit & commit\n",
    "- git add -An\n",
    "- gitignore\n",
    "- git lfs + gitattributes"
   ]
  },
  {
   "cell_type": "code",
   "execution_count": null,
   "metadata": {},
   "outputs": [],
   "source": [
    "MESSAGE = 'LGBM-super-stacked + NN averaged 10 fold'\n",
    "submit.to_csv(FILE)"
   ]
  },
  {
   "cell_type": "code",
   "execution_count": 259,
   "metadata": {},
   "outputs": [
    {
     "name": "stdout",
     "output_type": "stream",
     "text": [
      "[master e999d16] $MESSAGE\n",
      " 4 files changed, 662 insertions(+)\n",
      " create mode 100644 reports/experiments.csv\n",
      " create mode 100644 reports/pandas_profiling_report_raw_test_data.html\n",
      " create mode 100644 reports/pandas_profiling_report_raw_train_data.html\n",
      " create mode 100644 submissions/submissions.csv\n"
     ]
    }
   ],
   "source": [
    "%%bash\n",
    "\n",
    "export COMPETITION=\"titanic\"\n",
    "export MESSAGE=\"constant submission\"\n",
    "export SUBMISSION_PATH=\"../submissions/constant.csv\"\n",
    "\n",
    "# git pull\n",
    "git add -A\n",
    "git commit -m '$MESSAGE'\n",
    "# git push\n",
    "# kaggle competitions submit -c $COMPETITION -f $SUBMISSION_PATH -m \"$MESSAGE\"\n",
    "sleep 1\n",
    "kaggle competitions submissions -c $COMPETITION -v > ../reports/submissions.csv"
   ]
  },
  {
   "cell_type": "code",
   "execution_count": null,
   "metadata": {},
   "outputs": [],
   "source": []
  },
  {
   "cell_type": "code",
   "execution_count": 36,
   "metadata": {},
   "outputs": [
    {
     "data": {
      "text/plain": [
       "array([5, 4, 2, 1, 3])"
      ]
     },
     "execution_count": 36,
     "metadata": {},
     "output_type": "execute_result"
    }
   ],
   "source": [
    "ns = np.arange(1, 6)\n",
    "np.random.shuffle(ns)\n",
    "ns"
   ]
  },
  {
   "cell_type": "code",
   "execution_count": null,
   "metadata": {},
   "outputs": [],
   "source": []
  },
  {
   "cell_type": "markdown",
   "metadata": {},
   "source": [
    "## Visualising your progress\n",
    "- Store experiment (val) results and submit results in one table\n",
    "- Store val results and LB results for each submit\n",
    "- Describe submission in tags to make further analysis easier\n",
    "- "
   ]
  },
  {
   "cell_type": "code",
   "execution_count": 14,
   "metadata": {},
   "outputs": [],
   "source": [
    "submission_scores = pd.read_csv('../reports/submissions.csv')\n",
    "submission_scores = submission_scores.query('publicScore != \"None\"')\n",
    "submission_scores['publicScore'] = submission_scores['publicScore'].astype(float)"
   ]
  },
  {
   "cell_type": "code",
   "execution_count": 15,
   "metadata": {},
   "outputs": [
    {
     "data": {
      "text/html": [
       "<div>\n",
       "<style scoped>\n",
       "    .dataframe tbody tr th:only-of-type {\n",
       "        vertical-align: middle;\n",
       "    }\n",
       "\n",
       "    .dataframe tbody tr th {\n",
       "        vertical-align: top;\n",
       "    }\n",
       "\n",
       "    .dataframe thead th {\n",
       "        text-align: right;\n",
       "    }\n",
       "</style>\n",
       "<table border=\"1\" class=\"dataframe\">\n",
       "  <thead>\n",
       "    <tr style=\"text-align: right;\">\n",
       "      <th></th>\n",
       "      <th>fileName</th>\n",
       "      <th>date</th>\n",
       "      <th>description</th>\n",
       "      <th>status</th>\n",
       "      <th>publicScore</th>\n",
       "      <th>privateScore</th>\n",
       "    </tr>\n",
       "  </thead>\n",
       "  <tbody>\n",
       "    <tr>\n",
       "      <th>0</th>\n",
       "      <td>constant.csv</td>\n",
       "      <td>2019-10-16 06:15:28</td>\n",
       "      <td>constant submission</td>\n",
       "      <td>complete</td>\n",
       "      <td>0.62679</td>\n",
       "      <td>None</td>\n",
       "    </tr>\n",
       "    <tr>\n",
       "      <th>1</th>\n",
       "      <td>constant.csv</td>\n",
       "      <td>2019-10-16 06:10:41</td>\n",
       "      <td>constant submission</td>\n",
       "      <td>complete</td>\n",
       "      <td>0.62679</td>\n",
       "      <td>None</td>\n",
       "    </tr>\n",
       "    <tr>\n",
       "      <th>2</th>\n",
       "      <td>submit01.csv</td>\n",
       "      <td>2015-09-24 12:26:52</td>\n",
       "      <td>None</td>\n",
       "      <td>complete</td>\n",
       "      <td>0.73205</td>\n",
       "      <td>None</td>\n",
       "    </tr>\n",
       "  </tbody>\n",
       "</table>\n",
       "</div>"
      ],
      "text/plain": [
       "       fileName                 date          description    status  \\\n",
       "0  constant.csv  2019-10-16 06:15:28  constant submission  complete   \n",
       "1  constant.csv  2019-10-16 06:10:41  constant submission  complete   \n",
       "2  submit01.csv  2015-09-24 12:26:52                 None  complete   \n",
       "\n",
       "   publicScore privateScore  \n",
       "0      0.62679         None  \n",
       "1      0.62679         None  \n",
       "2      0.73205         None  "
      ]
     },
     "execution_count": 15,
     "metadata": {},
     "output_type": "execute_result"
    }
   ],
   "source": [
    "submission_scores"
   ]
  },
  {
   "cell_type": "markdown",
   "metadata": {},
   "source": [
    "https://seaborn.pydata.org/examples/horizontal_barplot.html"
   ]
  },
  {
   "cell_type": "code",
   "execution_count": 16,
   "metadata": {},
   "outputs": [
    {
     "data": {
      "text/plain": [
       "<matplotlib.axes._subplots.AxesSubplot at 0x1a1bc16400>"
      ]
     },
     "execution_count": 16,
     "metadata": {},
     "output_type": "execute_result"
    },
    {
     "data": {
      "image/png": "[encoded data removed]",
      "text/plain": [
       "<Figure size 432x288 with 1 Axes>"
      ]
     },
     "metadata": {
      "needs_background": "light"
     },
     "output_type": "display_data"
    }
   ],
   "source": [
    "sns.barplot(data=submission_scores, x='publicScore', y='fileName')"
   ]
  },
  {
   "cell_type": "markdown",
   "metadata": {},
   "source": [
    "Сравним результаты на валидации и паблик LB"
   ]
  },
  {
   "cell_type": "code",
   "execution_count": 17,
   "metadata": {},
   "outputs": [
    {
     "data": {
      "text/html": [
       "<div>\n",
       "<style scoped>\n",
       "    .dataframe tbody tr th:only-of-type {\n",
       "        vertical-align: middle;\n",
       "    }\n",
       "\n",
       "    .dataframe tbody tr th {\n",
       "        vertical-align: top;\n",
       "    }\n",
       "\n",
       "    .dataframe thead th {\n",
       "        text-align: right;\n",
       "    }\n",
       "</style>\n",
       "<table border=\"1\" class=\"dataframe\">\n",
       "  <thead>\n",
       "    <tr style=\"text-align: right;\">\n",
       "      <th></th>\n",
       "      <th>fileName</th>\n",
       "      <th>date</th>\n",
       "      <th>description</th>\n",
       "      <th>status</th>\n",
       "      <th>publicScore</th>\n",
       "      <th>privateScore</th>\n",
       "      <th>metric</th>\n",
       "      <th>score_mean</th>\n",
       "      <th>timestamp</th>\n",
       "    </tr>\n",
       "  </thead>\n",
       "  <tbody>\n",
       "    <tr>\n",
       "      <th>0</th>\n",
       "      <td>constant.csv</td>\n",
       "      <td>2019-10-16 06:15:28</td>\n",
       "      <td>constant submission</td>\n",
       "      <td>complete</td>\n",
       "      <td>0.62679</td>\n",
       "      <td>None</td>\n",
       "      <td>accuracy</td>\n",
       "      <td>0.61</td>\n",
       "      <td>2019-10-18 13:10:33.551342</td>\n",
       "    </tr>\n",
       "    <tr>\n",
       "      <th>1</th>\n",
       "      <td>constant.csv</td>\n",
       "      <td>2019-10-16 06:10:41</td>\n",
       "      <td>constant submission</td>\n",
       "      <td>complete</td>\n",
       "      <td>0.62679</td>\n",
       "      <td>None</td>\n",
       "      <td>accuracy</td>\n",
       "      <td>0.61</td>\n",
       "      <td>2019-10-18 13:10:33.551342</td>\n",
       "    </tr>\n",
       "  </tbody>\n",
       "</table>\n",
       "</div>"
      ],
      "text/plain": [
       "       fileName                 date          description    status  \\\n",
       "0  constant.csv  2019-10-16 06:15:28  constant submission  complete   \n",
       "1  constant.csv  2019-10-16 06:10:41  constant submission  complete   \n",
       "\n",
       "   publicScore privateScore    metric  score_mean                   timestamp  \n",
       "0      0.62679         None  accuracy        0.61  2019-10-18 13:10:33.551342  \n",
       "1      0.62679         None  accuracy        0.61  2019-10-18 13:10:33.551342  "
      ]
     },
     "execution_count": 17,
     "metadata": {},
     "output_type": "execute_result"
    }
   ],
   "source": [
    "val_lb_scores = submission_scores.merge(score_store.read(), on=['fileName'])\n",
    "val_lb_scores"
   ]
  },
  {
   "cell_type": "code",
   "execution_count": 23,
   "metadata": {},
   "outputs": [
    {
     "data": {
      "image/png": "[encoded data removed]",
      "text/plain": [
       "<Figure size 432x288 with 1 Axes>"
      ]
     },
     "metadata": {
      "needs_background": "light"
     },
     "output_type": "display_data"
    }
   ],
   "source": [
    "sns.scatterplot(data=val_lb_scores, x='score_mean', y='publicScore', hue='fileName')\n",
    "plt.grid()"
   ]
  },
  {
   "cell_type": "code",
   "execution_count": null,
   "metadata": {
    "collapsed": true
   },
   "outputs": [],
   "source": []
  }
 ],
 "metadata": {
  "kernelspec": {
   "display_name": "py36",
   "language": "python",
   "name": "py36"
  },
  "language_info": {
   "codemirror_mode": {
    "name": "ipython",
    "version": 3
   },
   "file_extension": ".py",
   "mimetype": "text/x-python",
   "name": "python",
   "nbconvert_exporter": "python",
   "pygments_lexer": "ipython3",
   "version": "3.6.9"
  },
  "toc": {
   "base_numbering": 1,
   "nav_menu": {},
   "number_sections": true,
   "sideBar": true,
   "skip_h1_title": false,
   "title_cell": "Table of Contents",
   "title_sidebar": "Contents",
   "toc_cell": false,
   "toc_position": {},
   "toc_section_display": true,
   "toc_window_display": false
  }
 },
 "nbformat": 4,
 "nbformat_minor": 2
}
