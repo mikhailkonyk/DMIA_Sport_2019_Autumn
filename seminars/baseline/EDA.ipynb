{
 "cells": [
  {
   "cell_type": "markdown",
   "metadata": {},
   "source": [
    "# Baseline framework. Step 2. Standalone EDA notebook\n",
    "\n",
    "This notebook aim is to demonstrate that having standalone notebook for EDA is a good idea.\n",
    "\n",
    "Why?\n",
    "- it is a good idea to restart and \"Run all\" your notebook to make sure (a) results are reproducible, (b) the notebook is clear enough to do it. If you make it this way, your EDA visualisations and plots will not be plotted over and over again (it is important espesially if this takes a lot of time).\n",
    "- Your main experimentation notebook won't be overloaded with tons of figures and printed dataframes, so it will be easier to find what you want there.\n",
    "- When you are waiting for complex models to train or huge data to process, you could go to this notebook and crunch your data.\n",
    "\n",
    "As an example a Titanic competition on Kaggle was chosen https://www.kaggle.com/c/titanic"
   ]
  },
  {
   "cell_type": "code",
   "execution_count": 1,
   "metadata": {},
   "outputs": [
    {
     "name": "stdout",
     "output_type": "stream",
     "text": [
      "/Users/aguschin/Git/dmia/DMIA_Sport_2019_Spring_dev/seminars/baselines/kaggle_titanic/notebooks\n"
     ]
    }
   ],
   "source": [
    "REPOSITORY_NAME = 'kaggle_titanic'\n",
    "\n",
    "%cd {REPOSITORY_NAME}/notebooks/"
   ]
  },
  {
   "cell_type": "markdown",
   "metadata": {},
   "source": [
    "## Import"
   ]
  },
  {
   "cell_type": "code",
   "execution_count": 2,
   "metadata": {},
   "outputs": [],
   "source": [
    "import pandas as pd\n",
    "import pandas_profiling"
   ]
  },
  {
   "cell_type": "markdown",
   "metadata": {},
   "source": [
    "## Read the data"
   ]
  },
  {
   "cell_type": "code",
   "execution_count": 3,
   "metadata": {},
   "outputs": [],
   "source": [
    "train = pd.read_csv('../data/raw/train.csv')\n",
    "test = pd.read_csv('../data/raw/test.csv')\n",
    "\n",
    "sample_submission = pd.read_csv('../data/raw/gender_submission.csv')"
   ]
  },
  {
   "cell_type": "markdown",
   "metadata": {},
   "source": [
    "## Look at the data\n",
    "- always run some automated plotting to save your time (pandas-profiling, for example)\n",
    "- it is convenient to keep different notebooks for EDA (and commit them to github too, ofk)\n",
    "- always check EDA kernels and discussions on forums to make sure you didnt miss something important"
   ]
  },
  {
   "cell_type": "code",
   "execution_count": 5,
   "metadata": {},
   "outputs": [],
   "source": [
    "profile = train.profile_report(title='Titanic Raw Train Data')\n",
    "profile.to_file(output_file='../reports/pandas_profiling_report_raw_train_data.html')"
   ]
  },
  {
   "cell_type": "code",
   "execution_count": 6,
   "metadata": {},
   "outputs": [],
   "source": [
    "profile = train.profile_report(title='Titanic Raw Test Data')\n",
    "profile.to_file(output_file='../reports/pandas_profiling_report_raw_test_data.html')"
   ]
  },
  {
   "cell_type": "code",
   "execution_count": 8,
   "metadata": {},
   "outputs": [
    {
     "name": "stdout",
     "output_type": "stream",
     "text": [
      "\u001b[01;34m../\u001b[00m\n",
      "├── README.md\n",
      "├── \u001b[01;34mdata\u001b[00m\n",
      "│   ├── \u001b[01;34mexternal\u001b[00m\n",
      "│   ├── \u001b[01;34mprocessed\u001b[00m\n",
      "│   └── \u001b[01;34mraw\u001b[00m\n",
      "│       ├── gender_submission.csv\n",
      "│       ├── test.csv\n",
      "│       ├── \u001b[01;31mtitanic.zip\u001b[00m\n",
      "│       └── train.csv\n",
      "├── \u001b[01;34mmodels\u001b[00m\n",
      "├── \u001b[01;34mnotebooks\u001b[00m\n",
      "├── \u001b[01;34mreports\u001b[00m\n",
      "│   ├── \u001b[01;34mfigures\u001b[00m\n",
      "│   ├── pandas_profiling_report_raw_test_data.html\n",
      "│   └── pandas_profiling_report_raw_train_data.html\n",
      "├── requirements.txt\n",
      "└── \u001b[01;34msubmissions\u001b[00m\n",
      "\n",
      "9 directories, 8 files\n"
     ]
    }
   ],
   "source": [
    "!tree ../"
   ]
  },
  {
   "cell_type": "code",
   "execution_count": null,
   "metadata": {},
   "outputs": [],
   "source": []
  },
  {
   "cell_type": "code",
   "execution_count": null,
   "metadata": {},
   "outputs": [],
   "source": []
  }
 ],
 "metadata": {
  "kernelspec": {
   "display_name": "py36",
   "language": "python",
   "name": "py36"
  },
  "language_info": {
   "codemirror_mode": {
    "name": "ipython",
    "version": 3
   },
   "file_extension": ".py",
   "mimetype": "text/x-python",
   "name": "python",
   "nbconvert_exporter": "python",
   "pygments_lexer": "ipython3",
   "version": "3.6.9"
  }
 },
 "nbformat": 4,
 "nbformat_minor": 2
}
