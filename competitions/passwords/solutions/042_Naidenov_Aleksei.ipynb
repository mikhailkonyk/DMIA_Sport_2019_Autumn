{
 "cells": [
  {
   "cell_type": "code",
   "execution_count": 1,
   "metadata": {},
   "outputs": [],
   "source": [
    "# либы шаблона (нужны всегда)\n",
    "from tqdm import tqdm\n",
    "import pandas as pd\n",
    "import numpy as np\n",
    "from sklearn.model_selection import train_test_split"
   ]
  },
  {
   "cell_type": "code",
   "execution_count": null,
   "metadata": {},
   "outputs": [],
   "source": [
    "# либы текущего решения (нужны здесь)\n",
    "from sklearn.model_selection import cross_val_score\n",
    "from sklearn.naive_bayes import BernoulliNB"
   ]
  },
  {
   "cell_type": "markdown",
   "metadata": {},
   "source": [
    "получаем данные"
   ]
  },
  {
   "cell_type": "code",
   "execution_count": 4,
   "metadata": {},
   "outputs": [],
   "source": [
    "%%time\n",
    "X = pd.read_csv('data/train.csv').drop('Times', 1)\n",
    "y = pd.read_csv('data/train.csv')['Times']\n",
    "\n",
    "MODE = 'validation'\n",
    "if MODE == 'validation':\n",
    "    x_train, x_test, y_train, y_test = train_test_split(X, y, test_size=0.3, random_state=1)\n",
    "elif MODE == 'test':\n",
    "    x_train = X\n",
    "    y_train = y\n",
    "    x_test = pd.read_csv('data/test.csv')\n",
    " "
   ]
  },
  {
   "cell_type": "markdown",
   "metadata": {},
   "source": [
    "определяем метрику"
   ]
  },
  {
   "cell_type": "code",
   "execution_count": 31,
   "metadata": {},
   "outputs": [],
   "source": [
    "def rmsle(y_pred, y_test) : \n",
    "    return np.sqrt(np.mean((np.log(1+y_pred) - np.log(1+y_test))**2))"
   ]
  },
  {
   "cell_type": "markdown",
   "metadata": {},
   "source": [
    "### Решение"
   ]
  },
  {
   "cell_type": "markdown",
   "metadata": {},
   "source": [
    "Определяем шаблоны паролей"
   ]
  },
  {
   "cell_type": "code",
   "execution_count": 7,
   "metadata": {},
   "outputs": [],
   "source": [
    "patterns_match = [\n",
    "    r'^[\\d]{4}$', r'^[\\d]{6}$', r'^[\\d]{8}$', r'^[\\d]{8,}$', r'^[\\d]{4,8}$',\n",
    "    r'^[\\d]+$', r'^[a-z]+$', r'^[A-Z]', r'^[A-Z]+$', r'^[A-Z][a-z]',\n",
    "    r'^[A-Za-z]+[0-9]+$', r'^[A-Za-z]+1$', r'^1[A-Za-z]+$', r'^[A-Z]+[0-9]+$', r'^[a-z]+[0-9]+$',\n",
    "    r'^[0-9]+[a-z]+$', r'^[0-9]+[a-zA-Z]+$', r'^[a-z]+[0-9]{3,}$', r'^[a-z]+[0-9]$', r'^[a-z]+[0-9]{1,3}$', r'^[A-Za-z]+[0-9]+[A-Za-z]+', r'^[A-Za-z]+[0-9]+[A-Za-z]+[0-9]+',\n",
    "    r'([\\d]{2,})(\\1)+', r'.*([\\w]+)(\\1)+.*'\n",
    "    \n",
    "]"
   ]
  },
  {
   "cell_type": "markdown",
   "metadata": {},
   "source": [
    "Находим соответствие каждому шаблону"
   ]
  },
  {
   "cell_type": "code",
   "execution_count": 8,
   "metadata": {},
   "outputs": [
    {
     "name": "stderr",
     "output_type": "stream",
     "text": [
      "100%|██████████████████████████████████████████████████████████████████████████████████| 24/24 [02:08<00:00,  5.37s/it]\n"
     ]
    }
   ],
   "source": [
    "df_t = pd.DataFrame()\n",
    "df_v = pd.DataFrame()\n",
    "for pat in tqdm(patterns_match):\n",
    "    df_t[str(pat)] = x_train['Password'].str.match(pat)\n",
    "    df_v[str(pat)] = x_test['Password'].str.match(pat)"
   ]
  },
  {
   "cell_type": "code",
   "execution_count": 18,
   "metadata": {},
   "outputs": [],
   "source": [
    "df_t = df_t.fillna(0)"
   ]
  },
  {
   "cell_type": "markdown",
   "metadata": {},
   "source": [
    "Вместо оригинального целевого признака, используем бинарный (больше 1 или нет)"
   ]
  },
  {
   "cell_type": "code",
   "execution_count": 9,
   "metadata": {},
   "outputs": [],
   "source": [
    "y_train_bin = y_train > 1"
   ]
  },
  {
   "cell_type": "markdown",
   "metadata": {},
   "source": [
    "Обучаем NaiveBayes и предсказываем бинарный целевой признак для теста"
   ]
  },
  {
   "cell_type": "code",
   "execution_count": 11,
   "metadata": {},
   "outputs": [],
   "source": [
    "nb = BernoulliNB()"
   ]
  },
  {
   "cell_type": "code",
   "execution_count": 19,
   "metadata": {},
   "outputs": [
    {
     "data": {
      "text/plain": [
       "array([0.34037206, 0.34151768, 0.34253936, 0.34883956])"
      ]
     },
     "execution_count": 19,
     "metadata": {},
     "output_type": "execute_result"
    }
   ],
   "source": [
    "# качество ни к черту, попробуем дальше\n",
    "cross_val_score(nb, df_t, y_train_bin, cv=4, scoring='precision')"
   ]
  },
  {
   "cell_type": "code",
   "execution_count": 21,
   "metadata": {},
   "outputs": [
    {
     "data": {
      "text/plain": [
       "BernoulliNB(alpha=1.0, binarize=0.0, class_prior=None, fit_prior=True)"
      ]
     },
     "execution_count": 21,
     "metadata": {},
     "output_type": "execute_result"
    }
   ],
   "source": [
    "nb.fit(df_t, y_train_bin)"
   ]
  },
  {
   "cell_type": "code",
   "execution_count": 24,
   "metadata": {},
   "outputs": [],
   "source": [
    "y_preds_train_bin = nb.predict(df_t)\n",
    "y_preds_bin = nb.predict(df_v)"
   ]
  },
  {
   "cell_type": "markdown",
   "metadata": {},
   "source": [
    "Для каждого предсказанного класса находим оптимальное константное решение"
   ]
  },
  {
   "cell_type": "code",
   "execution_count": 27,
   "metadata": {},
   "outputs": [
    {
     "data": {
      "text/plain": [
       "2.025422289268158"
      ]
     },
     "execution_count": 27,
     "metadata": {},
     "output_type": "execute_result"
    }
   ],
   "source": [
    "c1 = np.exp(np.log(y_train[y_preds_train_bin] + 1).mean()) - 1\n",
    "c1"
   ]
  },
  {
   "cell_type": "code",
   "execution_count": 28,
   "metadata": {},
   "outputs": [
    {
     "data": {
      "text/plain": [
       "1.2171156525958042"
      ]
     },
     "execution_count": 28,
     "metadata": {},
     "output_type": "execute_result"
    }
   ],
   "source": [
    "c2 = np.exp(np.log(y_train[~y_preds_train_bin] + 1).mean()) - 1\n",
    "c2"
   ]
  },
  {
   "cell_type": "markdown",
   "metadata": {},
   "source": [
    "Создаем решение: для теста предсказываем бинарный целевой признак, и в соответсвии с ним выдаем оптимальную константу (c1 или c2)"
   ]
  },
  {
   "cell_type": "code",
   "execution_count": 34,
   "metadata": {},
   "outputs": [
    {
     "name": "stdout",
     "output_type": "stream",
     "text": [
      "0.401423028644326\n"
     ]
    }
   ],
   "source": [
    "c1 = np.exp(np.log(y_train[y_preds_train_bin] + 1).mean()) - 1\n",
    "c2 = np.exp(np.log(y_train[~y_preds_train_bin] + 1).mean()) - 1\n",
    "ypred = pd.Series(c2, index=y_test.index)\n",
    "ypred[y_preds_bin] = c1\n",
    "\n",
    "if MODE == 'validation':\n",
    "    print(rmsle(y_test, ypred))\n",
    "elif MODE == 'test':\n",
    "    ypred.rename('Times').reset_index().rename({'index': 'Id'}, axis=1).to_csv('submit_trial_next.csv', index=False)"
   ]
  },
  {
   "cell_type": "code",
   "execution_count": null,
   "metadata": {},
   "outputs": [],
   "source": []
  }
 ],
 "metadata": {
  "kernelspec": {
   "display_name": "Python 3 REG.DS",
   "language": "python",
   "name": "python3_regru"
  },
  "language_info": {
   "codemirror_mode": {
    "name": "ipython",
    "version": 3
   },
   "file_extension": ".py",
   "mimetype": "text/x-python",
   "name": "python",
   "nbconvert_exporter": "python",
   "pygments_lexer": "ipython3",
   "version": "3.6.8"
  }
 },
 "nbformat": 4,
 "nbformat_minor": 2
}
