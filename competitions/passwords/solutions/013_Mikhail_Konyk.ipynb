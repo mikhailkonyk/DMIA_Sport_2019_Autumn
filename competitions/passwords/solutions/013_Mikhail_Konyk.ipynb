{
  "nbformat": 4,
  "nbformat_minor": 0,
  "metadata": {
    "kernelspec": {
      "name": "python3",
      "display_name": "Python 3"
    },
    "colab": {
      "name": "013_Mikhail_Konyk.ipynb",
      "provenance": [],
      "collapsed_sections": [
        "8XZ4TmR_HAqb",
        "sph3i_m86PEe",
        "btvM8uLs0bEy",
        "rwpXzOvqi8rP",
        "HgbaIaumJZNQ",
        "875yWetixEtB"
      ],
      "toc_visible": true,
      "machine_shape": "hm"
    },
    "accelerator": "GPU"
  },
  "cells": [
    {
      "cell_type": "markdown",
      "metadata": {
        "id": "t7FM9vafJ7ET",
        "colab_type": "text"
      },
      "source": [
        "# Feature generation"
      ]
    },
    {
      "cell_type": "code",
      "metadata": {
        "id": "LZrsiNAXHApp",
        "colab_type": "code",
        "colab": {}
      },
      "source": [
        "import pandas as pd\n",
        "import numpy as np\n",
        "from sklearn.linear_model import LinearRegression , SGDRegressor, LogisticRegression, Lasso\n",
        "from sklearn import tree\n",
        "from sklearn.model_selection import train_test_split\n",
        "import seaborn as sns\n",
        "import matplotlib.pyplot as plt\n",
        "from sklearn.metrics import mean_squared_log_error\n",
        "from sklearn.metrics import mean_squared_error\n",
        "from sklearn.model_selection import GridSearchCV\n",
        "import json\n",
        "from sklearn.ensemble import RandomForestRegressor\n",
        "from sklearn.ensemble import ExtraTreesRegressor\n",
        "from xgboost import XGBRegressor"
      ],
      "execution_count": 0,
      "outputs": []
    },
    {
      "cell_type": "markdown",
      "metadata": {
        "id": "3u2S7lNnSIk2",
        "colab_type": "text"
      },
      "source": [
        "## Выделение морфологических фичей"
      ]
    },
    {
      "cell_type": "code",
      "metadata": {
        "id": "PnX7LXT3HAps",
        "colab_type": "code",
        "colab": {}
      },
      "source": [
        "data = pd.read_csv(\"train.csv\")\n",
        "data.dropna(inplace=True)\n",
        "data.reset_index(drop=True, inplace=True)\n",
        "\n",
        "data_test = pd.read_csv(\"Xtest.csv\")\n",
        "data_test.fillna(\"*****\", inplace=True)"
      ],
      "execution_count": 0,
      "outputs": []
    },
    {
      "cell_type": "code",
      "metadata": {
        "id": "cWUAizcgUL_Q",
        "colab_type": "code",
        "colab": {}
      },
      "source": [
        "!pip install polyglot\n",
        "!pip install morfessor"
      ],
      "execution_count": 0,
      "outputs": []
    },
    {
      "cell_type": "code",
      "metadata": {
        "id": "79y_JeftUtRP",
        "colab_type": "code",
        "colab": {}
      },
      "source": [
        "%%bash\n",
        "polyglot download morph2.en morph2.ar"
      ],
      "execution_count": 0,
      "outputs": []
    },
    {
      "cell_type": "code",
      "metadata": {
        "id": "FaabWEXmUuX1",
        "colab_type": "code",
        "colab": {}
      },
      "source": [
        "from polyglot.text import Text, Word"
      ],
      "execution_count": 0,
      "outputs": []
    },
    {
      "cell_type": "markdown",
      "metadata": {
        "id": "NCJolcpjVpJk",
        "colab_type": "text"
      },
      "source": [
        "### Генерация частотного словаря"
      ]
    },
    {
      "cell_type": "code",
      "metadata": {
        "id": "UjJhYgo2Vsf9",
        "colab_type": "code",
        "colab": {}
      },
      "source": [
        "# Сгенерируем частотный словарь морфем\n",
        "freq_dict = {}"
      ],
      "execution_count": 0,
      "outputs": []
    },
    {
      "cell_type": "code",
      "metadata": {
        "id": "6SE0NuuYU-m0",
        "colab_type": "code",
        "colab": {}
      },
      "source": [
        "for w in list(data.Password):\n",
        "    w = Word(w, language=\"en\")\n",
        "    for morphem in w:\n",
        "        if morphem in freq_dict:\n",
        "            freq_dict[morphem] += 1\n",
        "        else:\n",
        "            freq_dict[morphem] = 1"
      ],
      "execution_count": 0,
      "outputs": []
    },
    {
      "cell_type": "markdown",
      "metadata": {
        "id": "21q-oskYWYyt",
        "colab_type": "text"
      },
      "source": [
        "### Создадим список 'осмысленных' морфем(те которые есть в словаре nltk)"
      ]
    },
    {
      "cell_type": "code",
      "metadata": {
        "id": "kphIZHwlXGvI",
        "colab_type": "code",
        "colab": {}
      },
      "source": [
        "morphem_dict = {}\n",
        "for morphem in freq_dict:\n",
        "    if morphem in words.words():\n",
        "        morphem_dict[morphem] = 1\n",
        "smart_morphemes = [k for k, v in freq_dict.items()]"
      ],
      "execution_count": 0,
      "outputs": []
    },
    {
      "cell_type": "markdown",
      "metadata": {
        "id": "rXk2iKS6XOpc",
        "colab_type": "text"
      },
      "source": [
        "### Cгенерируем для train и test признак - число морфем"
      ]
    },
    {
      "cell_type": "code",
      "metadata": {
        "id": "Ic0GZWePXX65",
        "colab_type": "code",
        "colab": {}
      },
      "source": [
        "test_morph_numbers = np.zeros(len(test_data))\n",
        "i = 0\n",
        "for w in list(data_test.Password):\n",
        "    w = Word(w, language=\"en\")\n",
        "    test_morph_numbers[i] = len(w.morphemes)\n",
        "    i += 1"
      ],
      "execution_count": 0,
      "outputs": []
    },
    {
      "cell_type": "code",
      "metadata": {
        "id": "Of6ab1BGYMW_",
        "colab_type": "code",
        "colab": {}
      },
      "source": [
        "morph_numbers = np.zeros(len(data))\n",
        "i = 0\n",
        "for w in list(data.Password):\n",
        "    w = Word(w, language=\"en\")\n",
        "    morph_numbers[i] = len(w.morphemes)\n",
        "    i += 1"
      ],
      "execution_count": 0,
      "outputs": []
    },
    {
      "cell_type": "markdown",
      "metadata": {
        "id": "NbuUH_pQTUBU",
        "colab_type": "text"
      },
      "source": [
        "# Создание датафрейма со всеми фичами(новые + морфологические)"
      ]
    },
    {
      "cell_type": "code",
      "metadata": {
        "id": "B32Y4Xf6P-YF",
        "colab_type": "code",
        "colab": {}
      },
      "source": [
        "'''\n",
        "read_file = open('indicators.json')\n",
        "indicators = np.array(json.load(read_file))\n",
        "'''"
      ],
      "execution_count": 0,
      "outputs": []
    },
    {
      "cell_type": "code",
      "metadata": {
        "id": "RiDwYOPUliai",
        "colab_type": "code",
        "colab": {}
      },
      "source": [
        "read_file = open('morph_numbers.json')\n",
        "morph_numbers = np.array(json.load(read_file))"
      ],
      "execution_count": 0,
      "outputs": []
    },
    {
      "cell_type": "code",
      "metadata": {
        "id": "vQNtZ32irlp1",
        "colab_type": "code",
        "colab": {}
      },
      "source": [
        "# Загружаем частотный словарь\n",
        "file = open(\"freq_dict.json\")\n",
        "freq_dict = json.load(file)\n",
        "# Генерим список наиболее частых морфем длины 3 и по частоте более 1500 и не числа \n",
        "top_morphemes = [k for k, v in freq_dict.items() if v > 30500 and not k.isdigit() and len(k) >= 3]"
      ],
      "execution_count": 0,
      "outputs": []
    },
    {
      "cell_type": "code",
      "metadata": {
        "id": "UksMEBwUy9qc",
        "colab_type": "code",
        "colab": {}
      },
      "source": [
        "def is_onesymb(word):\n",
        "    c = word[0]\n",
        "    for i in word:\n",
        "        if i != c:\n",
        "           return 0\n",
        "    return 1"
      ],
      "execution_count": 0,
      "outputs": []
    },
    {
      "cell_type": "code",
      "metadata": {
        "id": "YUiOIMu7m3VN",
        "colab_type": "code",
        "colab": {}
      },
      "source": [
        "def is_sequence(digit):\n",
        "  \n",
        "    if (''.join(sorted(digit))[:5].find(\"12345\") != -1):\n",
        "        return 1\n",
        "    if (''.join(sorted(digit))[:5].find(\"1234\") != -1):\n",
        "        return 1\n",
        "    if (digit.find(\"qwer\") != -1):\n",
        "        return 1\n",
        "    if (digit.find(\"zxcv\") != -1):\n",
        "        return 1\n",
        "    return 0\n",
        "\n"
      ],
      "execution_count": 0,
      "outputs": []
    },
    {
      "cell_type": "code",
      "metadata": {
        "id": "GIrnXCXpWNti",
        "colab_type": "code",
        "colab": {}
      },
      "source": [
        "def is_data(word):\n",
        "    #\"ddmmyyyy\"\n",
        "    if len(word) == 8:\n",
        "        if (\"01\" <= word[:2] <= \"31\") and (\"01\" <= word[2:4] <= \"12\") and (\"1900\" <= word[4:] <= \"2300\"):\n",
        "            return 1\n",
        "    #\"ddmmyy\" or \"dmyyyy\"\n",
        "    elif len(word) == 6:\n",
        "        if (\"01\" <= word[:2] <= \"31\") and (\"01\" <= word[2:4] <= \"12\") and (\"00\" <= word[4:] <= \"99\"):\n",
        "            return 1\n",
        "        if (\"1\" <= word[:2] <= \"9\") and (\"1\" <= word[2:4] <= \"9\") and (\"1900\" <= word[4:] <= \"2300\"):\n",
        "            return 1\n",
        "    \n",
        "    #\"ddmyyyy\"\n",
        "    elif len(word) == 7:\n",
        "        if (\"01\" <= word[:2] <= \"31\") and (\"1\" <= word[2:3] <= \"9\") and (\"1900\" <= word[4:] <= \"2300\"):\n",
        "            return 1\n",
        "    \n",
        "    return 0"
      ],
      "execution_count": 0,
      "outputs": []
    },
    {
      "cell_type": "code",
      "metadata": {
        "id": "Px97HEFJHAp2",
        "colab_type": "code",
        "colab": {}
      },
      "source": [
        "def Create_DF(data,array_morphemes, numbers):\n",
        "    array_passwords = list(data.Password)\n",
        "    length_array_passwords = len(array_passwords)\n",
        "    array_lengths = np.full(length_array_passwords,-777)\n",
        "    ####_letter\n",
        "    number_letters = 0\n",
        "    array_number_letters = np.full(length_array_passwords,-777) \n",
        "    ####_CAPS_letter\n",
        "    number_CAPS_letters = 0\n",
        "    array_number_CAPS_letters = np.full(length_array_passwords,-777)\n",
        "    ####_digit\n",
        "    number_digits = 0\n",
        "    array_number_digits = np.full(length_array_passwords,-777)\n",
        "    ####_symbol\n",
        "    number_symbols = 0\n",
        "    array_number_symbols = np.full(length_array_passwords,-777)\n",
        "    ####______________\n",
        "    array_isdigit = np.full(length_array_passwords, 0)\n",
        "    array_ispolyndrom = np.full(length_array_passwords, 0)\n",
        "    array_isdata = np.full(length_array_passwords, 0)\n",
        "    array_issequence = np.full(length_array_passwords, 0)\n",
        "    array_isonesymb = np.full(length_array_passwords, 0)\n",
        "\n",
        "    matrix_morphemes = np.full((length_array_passwords,len(array_morphemes)),-777).astype(int)\n",
        "\n",
        "    i=0\n",
        "    k = 0\n",
        "    while i != length_array_passwords:\n",
        "        for char in array_passwords[i]:\n",
        "            ord_char = ord(char)\n",
        "            if (ord_char >= ord('0')) & (ord_char <= ord('9')):#digits\n",
        "                number_digits += 1\n",
        "            elif (ord_char >= ord('A')) & (ord_char <= ord('Z')):#CAPS_letter\n",
        "                number_CAPS_letters += 1\n",
        "            elif (ord_char >= ord('a')) & (ord_char <= ord('z')):#letter\n",
        "                number_letters += 1\n",
        "            else : #symbol\n",
        "                number_symbols += 1\n",
        "        ####_find_in_str\n",
        "        \n",
        "        ### Morphemes search\n",
        "        for str_morphemes in array_morphemes:\n",
        "            indicator = array_passwords[i].find(str_morphemes)\n",
        "            if indicator == -1:\n",
        "                matrix_morphemes[i][k] = 0\n",
        "            else:\n",
        "                matrix_morphemes[i][k] = 1\n",
        "            k += 1 \n",
        "        k = 0\n",
        "\n",
        "        #ispolyndrom\n",
        "        array_ispolyndrom[i] = (array_passwords[i] == array_passwords[i][::-1])\n",
        "        #isdigit\n",
        "        array_isdigit[i] = array_passwords[i].isdigit()\n",
        "        if (array_isdigit[i]):\n",
        "            array_isdata[i] = is_data(array_passwords[i])\n",
        "        array_issequence[i] = is_sequence(array_passwords[i])\n",
        "        array_isonesymb[i] = is_onesymb(array_passwords[i])\n",
        "\n",
        "        ####_lenght\n",
        "        array_lengths[i] = len(array_passwords[i]) \n",
        "        ####_digit\n",
        "        array_number_digits[i] = number_digits\n",
        "        number_digits = 0 \n",
        "        ####_letter\n",
        "        array_number_letters[i] = number_letters\n",
        "        number_letters = 0\n",
        "        ####_CAPS_letter\n",
        "        array_number_CAPS_letters[i] = number_CAPS_letters\n",
        "        number_CAPS_letters = 0\n",
        "        ####_symbol\n",
        "        array_number_symbols[i] = number_symbols\n",
        "        number_symbols  = 0 \n",
        "        i+=1\n",
        "\n",
        "    data1 = pd.DataFrame({'Password'     : list(data.Password),\n",
        "                         'lenght'        : array_lengths.astype(int),\n",
        "                         'is_word'       : array_number_letters.astype(int) == array_lengths.astype(int),\n",
        "                         'CAPS_letter'   : array_number_CAPS_letters.astype(int),\n",
        "                         'is_digit'      : array_isdigit.astype(int),\n",
        "                         'is_polyndrom'  : array_ispolyndrom.astype(int),\n",
        "                         'is_data'       : array_isdata.astype(int),\n",
        "                         'is_sequence'   : array_issequence.astype(int),\n",
        "                          'onesymbol'    : array_isonesymb.astype(int),\n",
        "                          'morph_numbers'     : numbers.astype(int),\n",
        "                          })\n",
        "    col1 = ['Password','lenght', 'is_digit', 'is_word', 'is_polyndrom', 'is_data',\n",
        "            'is_sequence', 'onesymbol',  'morph_numbers' ]\n",
        "    data1 = data1[col1]\n",
        "    data2 = pd.DataFrame(matrix_morphemes , columns = array_morphemes)\n",
        "    if \"Times\" in data:\n",
        "      data = pd.concat([data1, data.Times],axis = 1)\n",
        "      return data\n",
        "    else:\n",
        "      return data1\n"
      ],
      "execution_count": 0,
      "outputs": []
    },
    {
      "cell_type": "code",
      "metadata": {
        "id": "jszmWOq2HAp4",
        "colab_type": "code",
        "outputId": "43ea18a0-e3c9-4702-f689-f59f633c2fdd",
        "colab": {
          "base_uri": "https://localhost:8080/",
          "height": 51
        }
      },
      "source": [
        "%%time\n",
        "data_1 = Create_DF(data, top_morphemes, morph_numbers)"
      ],
      "execution_count": 11,
      "outputs": [
        {
          "output_type": "stream",
          "text": [
            "CPU times: user 38.5 s, sys: 214 ms, total: 38.7 s\n",
            "Wall time: 38.7 s\n"
          ],
          "name": "stdout"
        }
      ]
    },
    {
      "cell_type": "code",
      "metadata": {
        "id": "vi-BvspZfT5X",
        "colab_type": "code",
        "outputId": "c625ec0a-36fa-418c-f6dc-e24ed2c00a1e",
        "colab": {
          "base_uri": "https://localhost:8080/",
          "height": 204
        }
      },
      "source": [
        "data_1.head()"
      ],
      "execution_count": 12,
      "outputs": [
        {
          "output_type": "execute_result",
          "data": {
            "text/html": [
              "<div>\n",
              "<style scoped>\n",
              "    .dataframe tbody tr th:only-of-type {\n",
              "        vertical-align: middle;\n",
              "    }\n",
              "\n",
              "    .dataframe tbody tr th {\n",
              "        vertical-align: top;\n",
              "    }\n",
              "\n",
              "    .dataframe thead th {\n",
              "        text-align: right;\n",
              "    }\n",
              "</style>\n",
              "<table border=\"1\" class=\"dataframe\">\n",
              "  <thead>\n",
              "    <tr style=\"text-align: right;\">\n",
              "      <th></th>\n",
              "      <th>Password</th>\n",
              "      <th>lenght</th>\n",
              "      <th>is_digit</th>\n",
              "      <th>is_word</th>\n",
              "      <th>is_polyndrom</th>\n",
              "      <th>is_data</th>\n",
              "      <th>is_sequence</th>\n",
              "      <th>onesymbol</th>\n",
              "      <th>morph_numbers</th>\n",
              "      <th>Times</th>\n",
              "    </tr>\n",
              "  </thead>\n",
              "  <tbody>\n",
              "    <tr>\n",
              "      <th>0</th>\n",
              "      <td>631XniVx2lS5I</td>\n",
              "      <td>13</td>\n",
              "      <td>0</td>\n",
              "      <td>False</td>\n",
              "      <td>0</td>\n",
              "      <td>0</td>\n",
              "      <td>0</td>\n",
              "      <td>0</td>\n",
              "      <td>11</td>\n",
              "      <td>2</td>\n",
              "    </tr>\n",
              "    <tr>\n",
              "      <th>1</th>\n",
              "      <td>LEGIT747</td>\n",
              "      <td>8</td>\n",
              "      <td>0</td>\n",
              "      <td>False</td>\n",
              "      <td>0</td>\n",
              "      <td>0</td>\n",
              "      <td>0</td>\n",
              "      <td>0</td>\n",
              "      <td>6</td>\n",
              "      <td>1</td>\n",
              "    </tr>\n",
              "    <tr>\n",
              "      <th>2</th>\n",
              "      <td>742364es</td>\n",
              "      <td>8</td>\n",
              "      <td>0</td>\n",
              "      <td>False</td>\n",
              "      <td>0</td>\n",
              "      <td>0</td>\n",
              "      <td>0</td>\n",
              "      <td>0</td>\n",
              "      <td>5</td>\n",
              "      <td>1</td>\n",
              "    </tr>\n",
              "    <tr>\n",
              "      <th>3</th>\n",
              "      <td>3846696477</td>\n",
              "      <td>10</td>\n",
              "      <td>1</td>\n",
              "      <td>False</td>\n",
              "      <td>0</td>\n",
              "      <td>0</td>\n",
              "      <td>0</td>\n",
              "      <td>0</td>\n",
              "      <td>6</td>\n",
              "      <td>1</td>\n",
              "    </tr>\n",
              "    <tr>\n",
              "      <th>4</th>\n",
              "      <td>laurahop</td>\n",
              "      <td>8</td>\n",
              "      <td>0</td>\n",
              "      <td>True</td>\n",
              "      <td>0</td>\n",
              "      <td>0</td>\n",
              "      <td>0</td>\n",
              "      <td>0</td>\n",
              "      <td>3</td>\n",
              "      <td>2</td>\n",
              "    </tr>\n",
              "  </tbody>\n",
              "</table>\n",
              "</div>"
            ],
            "text/plain": [
              "        Password  lenght  is_digit  ...  onesymbol  morph_numbers  Times\n",
              "0  631XniVx2lS5I      13         0  ...          0             11      2\n",
              "1       LEGIT747       8         0  ...          0              6      1\n",
              "2       742364es       8         0  ...          0              5      1\n",
              "3     3846696477      10         1  ...          0              6      1\n",
              "4       laurahop       8         0  ...          0              3      2\n",
              "\n",
              "[5 rows x 10 columns]"
            ]
          },
          "metadata": {
            "tags": []
          },
          "execution_count": 12
        }
      ]
    },
    {
      "cell_type": "markdown",
      "metadata": {
        "id": "8XZ4TmR_HAqb",
        "colab_type": "text"
      },
      "source": [
        "# Tree"
      ]
    },
    {
      "cell_type": "code",
      "metadata": {
        "id": "IW9FBqgeKVIi",
        "colab_type": "code",
        "outputId": "f949ff62-5569-411f-f2c4-1559e3258970",
        "colab": {
          "base_uri": "https://localhost:8080/",
          "height": 204
        }
      },
      "source": [
        "X = data_1.iloc[:, 1:-1]\n",
        "y = data_1.iloc[:,-1:]\n",
        "y = np.array(y)\n",
        "y = np.log(1 + y)\n",
        "X_train,X_test,y_train,y_test = train_test_split(X,y,test_size = 0.2, random_state=1)\n",
        "data_1.head()"
      ],
      "execution_count": 13,
      "outputs": [
        {
          "output_type": "execute_result",
          "data": {
            "text/html": [
              "<div>\n",
              "<style scoped>\n",
              "    .dataframe tbody tr th:only-of-type {\n",
              "        vertical-align: middle;\n",
              "    }\n",
              "\n",
              "    .dataframe tbody tr th {\n",
              "        vertical-align: top;\n",
              "    }\n",
              "\n",
              "    .dataframe thead th {\n",
              "        text-align: right;\n",
              "    }\n",
              "</style>\n",
              "<table border=\"1\" class=\"dataframe\">\n",
              "  <thead>\n",
              "    <tr style=\"text-align: right;\">\n",
              "      <th></th>\n",
              "      <th>Password</th>\n",
              "      <th>lenght</th>\n",
              "      <th>is_digit</th>\n",
              "      <th>is_word</th>\n",
              "      <th>is_polyndrom</th>\n",
              "      <th>is_data</th>\n",
              "      <th>is_sequence</th>\n",
              "      <th>onesymbol</th>\n",
              "      <th>morph_numbers</th>\n",
              "      <th>Times</th>\n",
              "    </tr>\n",
              "  </thead>\n",
              "  <tbody>\n",
              "    <tr>\n",
              "      <th>0</th>\n",
              "      <td>631XniVx2lS5I</td>\n",
              "      <td>13</td>\n",
              "      <td>0</td>\n",
              "      <td>False</td>\n",
              "      <td>0</td>\n",
              "      <td>0</td>\n",
              "      <td>0</td>\n",
              "      <td>0</td>\n",
              "      <td>11</td>\n",
              "      <td>2</td>\n",
              "    </tr>\n",
              "    <tr>\n",
              "      <th>1</th>\n",
              "      <td>LEGIT747</td>\n",
              "      <td>8</td>\n",
              "      <td>0</td>\n",
              "      <td>False</td>\n",
              "      <td>0</td>\n",
              "      <td>0</td>\n",
              "      <td>0</td>\n",
              "      <td>0</td>\n",
              "      <td>6</td>\n",
              "      <td>1</td>\n",
              "    </tr>\n",
              "    <tr>\n",
              "      <th>2</th>\n",
              "      <td>742364es</td>\n",
              "      <td>8</td>\n",
              "      <td>0</td>\n",
              "      <td>False</td>\n",
              "      <td>0</td>\n",
              "      <td>0</td>\n",
              "      <td>0</td>\n",
              "      <td>0</td>\n",
              "      <td>5</td>\n",
              "      <td>1</td>\n",
              "    </tr>\n",
              "    <tr>\n",
              "      <th>3</th>\n",
              "      <td>3846696477</td>\n",
              "      <td>10</td>\n",
              "      <td>1</td>\n",
              "      <td>False</td>\n",
              "      <td>0</td>\n",
              "      <td>0</td>\n",
              "      <td>0</td>\n",
              "      <td>0</td>\n",
              "      <td>6</td>\n",
              "      <td>1</td>\n",
              "    </tr>\n",
              "    <tr>\n",
              "      <th>4</th>\n",
              "      <td>laurahop</td>\n",
              "      <td>8</td>\n",
              "      <td>0</td>\n",
              "      <td>True</td>\n",
              "      <td>0</td>\n",
              "      <td>0</td>\n",
              "      <td>0</td>\n",
              "      <td>0</td>\n",
              "      <td>3</td>\n",
              "      <td>2</td>\n",
              "    </tr>\n",
              "  </tbody>\n",
              "</table>\n",
              "</div>"
            ],
            "text/plain": [
              "        Password  lenght  is_digit  ...  onesymbol  morph_numbers  Times\n",
              "0  631XniVx2lS5I      13         0  ...          0             11      2\n",
              "1       LEGIT747       8         0  ...          0              6      1\n",
              "2       742364es       8         0  ...          0              5      1\n",
              "3     3846696477      10         1  ...          0              6      1\n",
              "4       laurahop       8         0  ...          0              3      2\n",
              "\n",
              "[5 rows x 10 columns]"
            ]
          },
          "metadata": {
            "tags": []
          },
          "execution_count": 13
        }
      ]
    },
    {
      "cell_type": "code",
      "metadata": {
        "id": "-V61mc1vHAqc",
        "colab_type": "code",
        "colab": {}
      },
      "source": [
        "clf = tree.DecisionTreeRegressor(max_depth=20, min_samples_leaf=3)"
      ],
      "execution_count": 0,
      "outputs": []
    },
    {
      "cell_type": "code",
      "metadata": {
        "id": "-RlS_8UoTE26",
        "colab_type": "code",
        "outputId": "b9ca8fba-aea6-42ef-e57b-a9435232a8a6",
        "colab": {
          "base_uri": "https://localhost:8080/",
          "height": 102
        }
      },
      "source": [
        "clf.fit(X_train,y_train)"
      ],
      "execution_count": 15,
      "outputs": [
        {
          "output_type": "execute_result",
          "data": {
            "text/plain": [
              "DecisionTreeRegressor(criterion='mse', max_depth=20, max_features=None,\n",
              "                      max_leaf_nodes=None, min_impurity_decrease=0.0,\n",
              "                      min_impurity_split=None, min_samples_leaf=3,\n",
              "                      min_samples_split=2, min_weight_fraction_leaf=0.0,\n",
              "                      presort=False, random_state=None, splitter='best')"
            ]
          },
          "metadata": {
            "tags": []
          },
          "execution_count": 15
        }
      ]
    },
    {
      "cell_type": "code",
      "metadata": {
        "id": "upNHLyRZKaL6",
        "colab_type": "code",
        "outputId": "71f92c18-233a-441e-ba3b-9bcfa9dd4ae1",
        "colab": {
          "base_uri": "https://localhost:8080/",
          "height": 34
        }
      },
      "source": [
        "prediction = clf.predict(X_test)\n",
        "np.sqrt(mean_squared_error( y_test, prediction))"
      ],
      "execution_count": 16,
      "outputs": [
        {
          "output_type": "execute_result",
          "data": {
            "text/plain": [
              "0.35885380668870676"
            ]
          },
          "metadata": {
            "tags": []
          },
          "execution_count": 16
        }
      ]
    },
    {
      "cell_type": "markdown",
      "metadata": {
        "id": "sph3i_m86PEe",
        "colab_type": "text"
      },
      "source": [
        "# Random Forest"
      ]
    },
    {
      "cell_type": "code",
      "metadata": {
        "id": "40-r-91S6Vw-",
        "colab_type": "code",
        "colab": {}
      },
      "source": [
        "from sklearn.ensemble import RandomForestRegressor"
      ],
      "execution_count": 0,
      "outputs": []
    },
    {
      "cell_type": "code",
      "metadata": {
        "id": "47LDhums6iE3",
        "colab_type": "code",
        "colab": {}
      },
      "source": [
        "param_grid = {'n_estimators' : [5, 10, 15],\n",
        "              'min_samples_leaf': range(3, 5),\n",
        "              'max_depth': range(7, 12)}\n",
        "grid = RandomForestRegressor(n_estimators=3, max_depth=13, criterion='mse')"
      ],
      "execution_count": 0,
      "outputs": []
    },
    {
      "cell_type": "code",
      "metadata": {
        "id": "305tqCA96pvy",
        "colab_type": "code",
        "outputId": "acf30ecf-f1fc-4437-9df0-5bf1582409a5",
        "colab": {
          "base_uri": "https://localhost:8080/",
          "height": 170
        }
      },
      "source": [
        "%%time\n",
        "grid.fit(X_train,np.array(y_train).ravel())"
      ],
      "execution_count": 0,
      "outputs": [
        {
          "output_type": "stream",
          "text": [
            "CPU times: user 10.8 s, sys: 4.98 ms, total: 10.8 s\n",
            "Wall time: 10.8 s\n"
          ],
          "name": "stdout"
        },
        {
          "output_type": "execute_result",
          "data": {
            "text/plain": [
              "RandomForestRegressor(bootstrap=True, criterion='mse', max_depth=13,\n",
              "                      max_features='auto', max_leaf_nodes=None,\n",
              "                      min_impurity_decrease=0.0, min_impurity_split=None,\n",
              "                      min_samples_leaf=1, min_samples_split=2,\n",
              "                      min_weight_fraction_leaf=0.0, n_estimators=3, n_jobs=None,\n",
              "                      oob_score=False, random_state=None, verbose=0,\n",
              "                      warm_start=False)"
            ]
          },
          "metadata": {
            "tags": []
          },
          "execution_count": 88
        }
      ]
    },
    {
      "cell_type": "code",
      "metadata": {
        "id": "MN86xK38LjRM",
        "colab_type": "code",
        "outputId": "cbc547da-69bb-442e-ccae-ac31c448780c",
        "colab": {
          "base_uri": "https://localhost:8080/",
          "height": 34
        }
      },
      "source": [
        "prediction = grid.predict(X_test)\n",
        "np.sqrt(mean_squared_error( y_test, prediction))"
      ],
      "execution_count": 0,
      "outputs": [
        {
          "output_type": "execute_result",
          "data": {
            "text/plain": [
              "0.35888781043403806"
            ]
          },
          "metadata": {
            "tags": []
          },
          "execution_count": 89
        }
      ]
    },
    {
      "cell_type": "markdown",
      "metadata": {
        "id": "6IO_BJHcvugh",
        "colab_type": "text"
      },
      "source": [
        "# XGB regression(The best one)"
      ]
    },
    {
      "cell_type": "code",
      "metadata": {
        "id": "zIvUYHFrw56g",
        "colab_type": "code",
        "outputId": "87b4f48f-9695-4b2f-efab-2b660b4c1346",
        "colab": {
          "base_uri": "https://localhost:8080/",
          "height": 204
        }
      },
      "source": [
        "X = data_1.iloc[:, 1:-1]\n",
        "y = data_1.iloc[:,-1:]\n",
        "y = np.array(y)\n",
        "y = np.log(1 + y)\n",
        "X_train,X_test,y_train,y_test = train_test_split(X,y,test_size = 0.2, random_state=1)\n",
        "data_1.head()"
      ],
      "execution_count": 23,
      "outputs": [
        {
          "output_type": "execute_result",
          "data": {
            "text/html": [
              "<div>\n",
              "<style scoped>\n",
              "    .dataframe tbody tr th:only-of-type {\n",
              "        vertical-align: middle;\n",
              "    }\n",
              "\n",
              "    .dataframe tbody tr th {\n",
              "        vertical-align: top;\n",
              "    }\n",
              "\n",
              "    .dataframe thead th {\n",
              "        text-align: right;\n",
              "    }\n",
              "</style>\n",
              "<table border=\"1\" class=\"dataframe\">\n",
              "  <thead>\n",
              "    <tr style=\"text-align: right;\">\n",
              "      <th></th>\n",
              "      <th>Password</th>\n",
              "      <th>lenght</th>\n",
              "      <th>is_digit</th>\n",
              "      <th>is_word</th>\n",
              "      <th>is_polyndrom</th>\n",
              "      <th>is_data</th>\n",
              "      <th>is_sequence</th>\n",
              "      <th>onesymbol</th>\n",
              "      <th>morph_numbers</th>\n",
              "      <th>Times</th>\n",
              "    </tr>\n",
              "  </thead>\n",
              "  <tbody>\n",
              "    <tr>\n",
              "      <th>0</th>\n",
              "      <td>631XniVx2lS5I</td>\n",
              "      <td>13</td>\n",
              "      <td>0</td>\n",
              "      <td>False</td>\n",
              "      <td>0</td>\n",
              "      <td>0</td>\n",
              "      <td>0</td>\n",
              "      <td>0</td>\n",
              "      <td>11</td>\n",
              "      <td>2</td>\n",
              "    </tr>\n",
              "    <tr>\n",
              "      <th>1</th>\n",
              "      <td>LEGIT747</td>\n",
              "      <td>8</td>\n",
              "      <td>0</td>\n",
              "      <td>False</td>\n",
              "      <td>0</td>\n",
              "      <td>0</td>\n",
              "      <td>0</td>\n",
              "      <td>0</td>\n",
              "      <td>6</td>\n",
              "      <td>1</td>\n",
              "    </tr>\n",
              "    <tr>\n",
              "      <th>2</th>\n",
              "      <td>742364es</td>\n",
              "      <td>8</td>\n",
              "      <td>0</td>\n",
              "      <td>False</td>\n",
              "      <td>0</td>\n",
              "      <td>0</td>\n",
              "      <td>0</td>\n",
              "      <td>0</td>\n",
              "      <td>5</td>\n",
              "      <td>1</td>\n",
              "    </tr>\n",
              "    <tr>\n",
              "      <th>3</th>\n",
              "      <td>3846696477</td>\n",
              "      <td>10</td>\n",
              "      <td>1</td>\n",
              "      <td>False</td>\n",
              "      <td>0</td>\n",
              "      <td>0</td>\n",
              "      <td>0</td>\n",
              "      <td>0</td>\n",
              "      <td>6</td>\n",
              "      <td>1</td>\n",
              "    </tr>\n",
              "    <tr>\n",
              "      <th>4</th>\n",
              "      <td>laurahop</td>\n",
              "      <td>8</td>\n",
              "      <td>0</td>\n",
              "      <td>True</td>\n",
              "      <td>0</td>\n",
              "      <td>0</td>\n",
              "      <td>0</td>\n",
              "      <td>0</td>\n",
              "      <td>3</td>\n",
              "      <td>2</td>\n",
              "    </tr>\n",
              "  </tbody>\n",
              "</table>\n",
              "</div>"
            ],
            "text/plain": [
              "        Password  lenght  is_digit  ...  onesymbol  morph_numbers  Times\n",
              "0  631XniVx2lS5I      13         0  ...          0             11      2\n",
              "1       LEGIT747       8         0  ...          0              6      1\n",
              "2       742364es       8         0  ...          0              5      1\n",
              "3     3846696477      10         1  ...          0              6      1\n",
              "4       laurahop       8         0  ...          0              3      2\n",
              "\n",
              "[5 rows x 10 columns]"
            ]
          },
          "metadata": {
            "tags": []
          },
          "execution_count": 23
        }
      ]
    },
    {
      "cell_type": "code",
      "metadata": {
        "id": "UuFFWKITwPMx",
        "colab_type": "code",
        "colab": {}
      },
      "source": [
        "gbregr = XGBRegressor(learning_rate=0.18, random_state=1)"
      ],
      "execution_count": 0,
      "outputs": []
    },
    {
      "cell_type": "code",
      "metadata": {
        "id": "q97zorG2wg7t",
        "colab_type": "code",
        "outputId": "a8f865cc-4f99-46f0-d683-aceca3029e33",
        "colab": {
          "base_uri": "https://localhost:8080/",
          "height": 187
        }
      },
      "source": [
        "%%time\n",
        "gbregr.fit(X_train, y_train)"
      ],
      "execution_count": 0,
      "outputs": [
        {
          "output_type": "stream",
          "text": [
            "[18:56:20] WARNING: /workspace/src/objective/regression_obj.cu:152: reg:linear is now deprecated in favor of reg:squarederror.\n",
            "CPU times: user 2min 15s, sys: 265 ms, total: 2min 15s\n",
            "Wall time: 2min 15s\n"
          ],
          "name": "stdout"
        },
        {
          "output_type": "execute_result",
          "data": {
            "text/plain": [
              "XGBRegressor(base_score=0.5, booster='gbtree', colsample_bylevel=1,\n",
              "             colsample_bynode=1, colsample_bytree=1, gamma=0,\n",
              "             importance_type='gain', learning_rate=0.18, max_delta_step=0,\n",
              "             max_depth=3, min_child_weight=1, missing=None, n_estimators=100,\n",
              "             n_jobs=1, nthread=None, objective='reg:linear', random_state=1,\n",
              "             reg_alpha=0, reg_lambda=1, scale_pos_weight=1, seed=None,\n",
              "             silent=None, subsample=1, verbosity=1)"
            ]
          },
          "metadata": {
            "tags": []
          },
          "execution_count": 205
        }
      ]
    },
    {
      "cell_type": "code",
      "metadata": {
        "id": "kFEcaTJ6xgoX",
        "colab_type": "code",
        "outputId": "1edfabd9-086d-44fb-eafd-42cee29238bd",
        "colab": {
          "base_uri": "https://localhost:8080/",
          "height": 34
        }
      },
      "source": [
        "prediction = gbregr.predict(X_test)\n",
        "np.sqrt(mean_squared_error( y_test, prediction))"
      ],
      "execution_count": 0,
      "outputs": [
        {
          "output_type": "execute_result",
          "data": {
            "text/plain": [
              "0.36404312959155977"
            ]
          },
          "metadata": {
            "tags": []
          },
          "execution_count": 206
        }
      ]
    },
    {
      "cell_type": "code",
      "metadata": {
        "id": "xot6z1KEqksj",
        "colab_type": "code",
        "colab": {}
      },
      "source": [
        "%%time\n",
        "from sklearn.model_selection import RandomizedSearchCV\n",
        "\n",
        "import scipy.stats as st\n",
        "\n",
        "one_to_left = st.beta(10, 1)  \n",
        "from_zero_positive = st.expon(0, 50)\n",
        "\n",
        "params = {  \n",
        "    \"n_estimators\": st.randint(3, 40),\n",
        "    \"max_depth\": st.randint(3, 40),\n",
        "    \"learning_rate\": st.uniform(0.05, 0.4),\n",
        "    \"colsample_bytree\": one_to_left,\n",
        "    \"subsample\": one_to_left,\n",
        "    \"gamma\": st.uniform(0, 10),\n",
        "    'reg_alpha': from_zero_positive,\n",
        "    \"min_child_weight\": from_zero_positive,\n",
        "}\n",
        "\n",
        "xgbreg = XGBRegressor(nthread=-1)\n",
        "gs = RandomizedSearchCV(xgbreg, params, n_jobs=1)\n",
        "gs.fit(X_train, y_train)  \n",
        "gs.best_params_  "
      ],
      "execution_count": 0,
      "outputs": []
    },
    {
      "cell_type": "code",
      "metadata": {
        "id": "m4Od9Rg85VXy",
        "colab_type": "code",
        "colab": {
          "base_uri": "https://localhost:8080/",
          "height": 153
        },
        "outputId": "0f7dfa82-3c64-4b06-f87e-42c0af49db6d"
      },
      "source": [
        "gs.best_params_  "
      ],
      "execution_count": 26,
      "outputs": [
        {
          "output_type": "execute_result",
          "data": {
            "text/plain": [
              "{'colsample_bytree': 0.9517160585200629,\n",
              " 'gamma': 0.9786331427441008,\n",
              " 'learning_rate': 0.4065549865794857,\n",
              " 'max_depth': 31,\n",
              " 'min_child_weight': 9.579856260788139,\n",
              " 'n_estimators': 26,\n",
              " 'reg_alpha': 14.589646699111253,\n",
              " 'subsample': 0.9535587561843587}"
            ]
          },
          "metadata": {
            "tags": []
          },
          "execution_count": 26
        }
      ]
    },
    {
      "cell_type": "code",
      "metadata": {
        "id": "Zbr2lViS5dre",
        "colab_type": "code",
        "colab": {
          "base_uri": "https://localhost:8080/",
          "height": 153
        },
        "outputId": "e1d5bd3b-9229-4343-8213-4d25e53dd7b1"
      },
      "source": [
        "gs.best_estimator_"
      ],
      "execution_count": 27,
      "outputs": [
        {
          "output_type": "execute_result",
          "data": {
            "text/plain": [
              "XGBRegressor(base_score=0.5, booster='gbtree', colsample_bylevel=1,\n",
              "             colsample_bynode=1, colsample_bytree=0.9517160585200629,\n",
              "             gamma=0.9786331427441008, importance_type='gain',\n",
              "             learning_rate=0.4065549865794857, max_delta_step=0, max_depth=31,\n",
              "             min_child_weight=9.579856260788139, missing=None, n_estimators=26,\n",
              "             n_jobs=1, nthread=-1, objective='reg:linear', random_state=0,\n",
              "             reg_alpha=14.589646699111253, reg_lambda=1, scale_pos_weight=1,\n",
              "             seed=None, silent=None, subsample=0.9535587561843587, verbosity=1)"
            ]
          },
          "metadata": {
            "tags": []
          },
          "execution_count": 27
        }
      ]
    },
    {
      "cell_type": "code",
      "metadata": {
        "id": "XmRvtyMd5jao",
        "colab_type": "code",
        "colab": {
          "base_uri": "https://localhost:8080/",
          "height": 34
        },
        "outputId": "8d78f7d3-db8e-4144-d6a0-817a45fe2f7b"
      },
      "source": [
        "prediction = gs.best_estimator_.predict(X_test)\n",
        "np.sqrt(mean_squared_error( y_test, prediction))"
      ],
      "execution_count": 28,
      "outputs": [
        {
          "output_type": "execute_result",
          "data": {
            "text/plain": [
              "0.3589068912967524"
            ]
          },
          "metadata": {
            "tags": []
          },
          "execution_count": 28
        }
      ]
    },
    {
      "cell_type": "markdown",
      "metadata": {
        "id": "btvM8uLs0bEy",
        "colab_type": "text"
      },
      "source": [
        "# SGD_Regressor"
      ]
    },
    {
      "cell_type": "code",
      "metadata": {
        "id": "PEuGGYmh0bE0",
        "colab_type": "code",
        "colab": {}
      },
      "source": [
        "param_grid = {'penalty' : ['none', 'l2', 'l1']\n",
        "              }\n",
        "grid = SGDRegressor(penalty='l2')"
      ],
      "execution_count": 0,
      "outputs": []
    },
    {
      "cell_type": "code",
      "metadata": {
        "id": "BLDv9lf00bE5",
        "colab_type": "code",
        "outputId": "ee6fec77-979d-41bb-a6f4-eab8c2b91780",
        "colab": {
          "base_uri": "https://localhost:8080/",
          "height": 173
        }
      },
      "source": [
        "grid.fit(X_train,y_train)"
      ],
      "execution_count": 0,
      "outputs": [
        {
          "output_type": "stream",
          "text": [
            "/usr/local/lib/python3.6/dist-packages/sklearn/utils/validation.py:724: DataConversionWarning: A column-vector y was passed when a 1d array was expected. Please change the shape of y to (n_samples, ), for example using ravel().\n",
            "  y = column_or_1d(y, warn=True)\n"
          ],
          "name": "stderr"
        },
        {
          "output_type": "execute_result",
          "data": {
            "text/plain": [
              "SGDRegressor(alpha=0.0001, average=False, early_stopping=False, epsilon=0.1,\n",
              "             eta0=0.01, fit_intercept=True, l1_ratio=0.15,\n",
              "             learning_rate='invscaling', loss='squared_loss', max_iter=1000,\n",
              "             n_iter_no_change=5, penalty='l2', power_t=0.25, random_state=None,\n",
              "             shuffle=True, tol=0.001, validation_fraction=0.1, verbose=0,\n",
              "             warm_start=False)"
            ]
          },
          "metadata": {
            "tags": []
          },
          "execution_count": 229
        }
      ]
    },
    {
      "cell_type": "code",
      "metadata": {
        "id": "WTN9DzZzZguG",
        "colab_type": "code",
        "outputId": "69d07e95-4d9e-40e1-b6b2-c289dab18d98",
        "colab": {
          "base_uri": "https://localhost:8080/",
          "height": 34
        }
      },
      "source": [
        "prediction = grid.predict(X_test)\n",
        "np.sqrt(mean_squared_error( y_test, prediction))"
      ],
      "execution_count": 0,
      "outputs": [
        {
          "output_type": "execute_result",
          "data": {
            "text/plain": [
              "0.3783266903970637"
            ]
          },
          "metadata": {
            "tags": []
          },
          "execution_count": 230
        }
      ]
    },
    {
      "cell_type": "code",
      "metadata": {
        "id": "G6cDmjut4Kpe",
        "colab_type": "code",
        "outputId": "0a4ee4cb-0c90-4ff0-ead0-c665a4739352",
        "colab": {
          "base_uri": "https://localhost:8080/",
          "height": 51
        }
      },
      "source": [
        "grid.coef_"
      ],
      "execution_count": 0,
      "outputs": [
        {
          "output_type": "execute_result",
          "data": {
            "text/plain": [
              "array([-0.0070942 ,  0.08044519,  0.04059449,  0.20484782,  1.17560447,\n",
              "        0.07390095,  0.50806416, -0.022597  ])"
            ]
          },
          "metadata": {
            "tags": []
          },
          "execution_count": 107
        }
      ]
    },
    {
      "cell_type": "markdown",
      "metadata": {
        "id": "bdZw91BprkJh",
        "colab_type": "text"
      },
      "source": [
        "# Classification task\n"
      ]
    },
    {
      "cell_type": "code",
      "metadata": {
        "id": "V_3SPdrvriEj",
        "colab_type": "code",
        "outputId": "9d24a0e6-e0b3-44b0-ff01-c63d166cdd29",
        "colab": {
          "base_uri": "https://localhost:8080/",
          "height": 204
        }
      },
      "source": [
        "X = data_1.iloc[:, 1:-1]\n",
        "y = data_1.iloc[:,-1:]\n",
        "data_1.head()"
      ],
      "execution_count": 0,
      "outputs": [
        {
          "output_type": "execute_result",
          "data": {
            "text/html": [
              "<div>\n",
              "<style scoped>\n",
              "    .dataframe tbody tr th:only-of-type {\n",
              "        vertical-align: middle;\n",
              "    }\n",
              "\n",
              "    .dataframe tbody tr th {\n",
              "        vertical-align: top;\n",
              "    }\n",
              "\n",
              "    .dataframe thead th {\n",
              "        text-align: right;\n",
              "    }\n",
              "</style>\n",
              "<table border=\"1\" class=\"dataframe\">\n",
              "  <thead>\n",
              "    <tr style=\"text-align: right;\">\n",
              "      <th></th>\n",
              "      <th>Password</th>\n",
              "      <th>lenght</th>\n",
              "      <th>number_letter</th>\n",
              "      <th>is_digit</th>\n",
              "      <th>is_polyndrom</th>\n",
              "      <th>is_data</th>\n",
              "      <th>is_sequence</th>\n",
              "      <th>onesymbol</th>\n",
              "      <th>morph_numbers</th>\n",
              "      <th>Times</th>\n",
              "    </tr>\n",
              "  </thead>\n",
              "  <tbody>\n",
              "    <tr>\n",
              "      <th>0</th>\n",
              "      <td>631XniVx2lS5I</td>\n",
              "      <td>13</td>\n",
              "      <td>0</td>\n",
              "      <td>0</td>\n",
              "      <td>0</td>\n",
              "      <td>0</td>\n",
              "      <td>0</td>\n",
              "      <td>0</td>\n",
              "      <td>11.0</td>\n",
              "      <td>2</td>\n",
              "    </tr>\n",
              "    <tr>\n",
              "      <th>1</th>\n",
              "      <td>LEGIT747</td>\n",
              "      <td>8</td>\n",
              "      <td>0</td>\n",
              "      <td>0</td>\n",
              "      <td>0</td>\n",
              "      <td>0</td>\n",
              "      <td>0</td>\n",
              "      <td>0</td>\n",
              "      <td>6.0</td>\n",
              "      <td>1</td>\n",
              "    </tr>\n",
              "    <tr>\n",
              "      <th>2</th>\n",
              "      <td>742364es</td>\n",
              "      <td>8</td>\n",
              "      <td>0</td>\n",
              "      <td>0</td>\n",
              "      <td>0</td>\n",
              "      <td>0</td>\n",
              "      <td>0</td>\n",
              "      <td>0</td>\n",
              "      <td>5.0</td>\n",
              "      <td>1</td>\n",
              "    </tr>\n",
              "    <tr>\n",
              "      <th>3</th>\n",
              "      <td>3846696477</td>\n",
              "      <td>10</td>\n",
              "      <td>0</td>\n",
              "      <td>1</td>\n",
              "      <td>0</td>\n",
              "      <td>0</td>\n",
              "      <td>0</td>\n",
              "      <td>0</td>\n",
              "      <td>6.0</td>\n",
              "      <td>1</td>\n",
              "    </tr>\n",
              "    <tr>\n",
              "      <th>4</th>\n",
              "      <td>laurahop</td>\n",
              "      <td>8</td>\n",
              "      <td>1</td>\n",
              "      <td>0</td>\n",
              "      <td>0</td>\n",
              "      <td>0</td>\n",
              "      <td>0</td>\n",
              "      <td>0</td>\n",
              "      <td>3.0</td>\n",
              "      <td>2</td>\n",
              "    </tr>\n",
              "  </tbody>\n",
              "</table>\n",
              "</div>"
            ],
            "text/plain": [
              "        Password  lenght  number_letter  ...  onesymbol  morph_numbers  Times\n",
              "0  631XniVx2lS5I      13              0  ...          0           11.0      2\n",
              "1       LEGIT747       8              0  ...          0            6.0      1\n",
              "2       742364es       8              0  ...          0            5.0      1\n",
              "3     3846696477      10              0  ...          0            6.0      1\n",
              "4       laurahop       8              1  ...          0            3.0      2\n",
              "\n",
              "[5 rows x 10 columns]"
            ]
          },
          "metadata": {
            "tags": []
          },
          "execution_count": 295
        }
      ]
    },
    {
      "cell_type": "code",
      "metadata": {
        "id": "ZUSWTCgLrt2d",
        "colab_type": "code",
        "colab": {}
      },
      "source": [
        "\n",
        "X_train,X_test,y_train,y_test = train_test_split(X,y,test_size = 0.2, random_state=1)\n",
        "y_train1 = y_train.copy()\n",
        "y_train = np.array(y_train).ravel()\n",
        "y_train[y_train == 1] = 1\n",
        "y_train[y_train == 2] = 2\n",
        "y_train[y_train == 3] = 3\n",
        "y_train[y_train == 4] = 4\n",
        "y_train[y_train == 5] = 5\n",
        "y_train[y_train == 6] = 6\n",
        "y_train[y_train == 7] = 7\n",
        "y_train[y_train == 8] = 8\n",
        "y_train[y_train == 9] = 9\n",
        "y_train[y_train == 10] = 10\n",
        "y_train[(y_train > 10) * (y_train <= 100)] = 8\n",
        "y_train[(y_train > 100) * (y_train <= 1000)] = 100\n",
        "y_train[(y_train > 1000) * (y_train <= 50000)] = 1000\n",
        "#y_train[(y_train > 10000)] = 10000"
      ],
      "execution_count": 0,
      "outputs": []
    },
    {
      "cell_type": "code",
      "metadata": {
        "id": "XSNuvwgMs2lc",
        "colab_type": "code",
        "outputId": "906b9cf2-126a-46b5-edec-00d51e14fb96",
        "colab": {
          "base_uri": "https://localhost:8080/",
          "height": 51
        }
      },
      "source": [
        "%%time\n",
        "clf = tree.DecisionTreeClassifier(random_state=1, max_depth=17, min_samples_leaf=1, criterion='entropy')\n",
        "clf.fit(X_train, y_train)"
      ],
      "execution_count": 0,
      "outputs": [
        {
          "output_type": "stream",
          "text": [
            "CPU times: user 3.92 s, sys: 2 ms, total: 3.92 s\n",
            "Wall time: 3.92 s\n"
          ],
          "name": "stdout"
        }
      ]
    },
    {
      "cell_type": "code",
      "metadata": {
        "id": "qcFZ16DDtU7p",
        "colab_type": "code",
        "outputId": "a91abb63-eda4-4355-b7a6-6ce64b1091bc",
        "colab": {
          "base_uri": "https://localhost:8080/",
          "height": 34
        }
      },
      "source": [
        "prediction = np.array(clf.predict(X_test))\n",
        "np.sqrt(mean_squared_log_error( y_test, prediction))"
      ],
      "execution_count": 0,
      "outputs": [
        {
          "output_type": "execute_result",
          "data": {
            "text/plain": [
              "0.3898891250053455"
            ]
          },
          "metadata": {
            "tags": []
          },
          "execution_count": 288
        }
      ]
    },
    {
      "cell_type": "code",
      "metadata": {
        "id": "64BYdR9yvRMo",
        "colab_type": "code",
        "outputId": "0fa7333d-ba04-455a-86fa-51c06ca79a35",
        "colab": {
          "base_uri": "https://localhost:8080/",
          "height": 51
        }
      },
      "source": [
        "%%time\n",
        "from sklearn.ensemble import RandomForestClassifier\n",
        "forest = RandomForestClassifier(n_estimators=7, max_depth=20, min_samples_leaf=2)\n",
        "forest.fit(X_train, y_train)"
      ],
      "execution_count": 0,
      "outputs": [
        {
          "output_type": "stream",
          "text": [
            "CPU times: user 12.6 s, sys: 6.95 ms, total: 12.6 s\n",
            "Wall time: 12.6 s\n"
          ],
          "name": "stdout"
        }
      ]
    },
    {
      "cell_type": "code",
      "metadata": {
        "id": "zglb3PQ1wDwY",
        "colab_type": "code",
        "outputId": "1f344065-c7ff-4279-eb16-da518636cf67",
        "colab": {
          "base_uri": "https://localhost:8080/",
          "height": 34
        }
      },
      "source": [
        "\n",
        "prediction = np.array(forest.predict(X_test))\n",
        "np.sqrt(mean_squared_log_error( y_test, prediction ))"
      ],
      "execution_count": 0,
      "outputs": [
        {
          "output_type": "execute_result",
          "data": {
            "text/plain": [
              "0.38983788378277096"
            ]
          },
          "metadata": {
            "tags": []
          },
          "execution_count": 258
        }
      ]
    },
    {
      "cell_type": "code",
      "metadata": {
        "id": "-rSH82oUWxCY",
        "colab_type": "code",
        "colab": {}
      },
      "source": [
        "clf = LogisticRegression(solver = 'saga', multi_class='multinomial', C=1)\n",
        "clf.fit(X_train,y_train)"
      ],
      "execution_count": 0,
      "outputs": []
    },
    {
      "cell_type": "code",
      "metadata": {
        "id": "dHvZ-jr0E2OW",
        "colab_type": "code",
        "outputId": "f45e61ff-9d8e-4654-fa15-69fbccc209f1",
        "colab": {
          "base_uri": "https://localhost:8080/",
          "height": 34
        }
      },
      "source": [
        "np.sqrt(mean_squared_log_error( y_test, clf.predict(X_test) ))"
      ],
      "execution_count": 0,
      "outputs": [
        {
          "output_type": "execute_result",
          "data": {
            "text/plain": [
              "0.4284085522326836"
            ]
          },
          "metadata": {
            "tags": []
          },
          "execution_count": 381
        }
      ]
    },
    {
      "cell_type": "markdown",
      "metadata": {
        "id": "RoF06273ixwB",
        "colab_type": "text"
      },
      "source": [
        "### GradientBoosting"
      ]
    },
    {
      "cell_type": "code",
      "metadata": {
        "id": "QjqL-LVJi5VR",
        "colab_type": "code",
        "colab": {}
      },
      "source": [
        "from sklearn.ensemble import GradientBoostingClassifier"
      ],
      "execution_count": 0,
      "outputs": []
    },
    {
      "cell_type": "code",
      "metadata": {
        "id": "LWRsnNJvjA6T",
        "colab_type": "code",
        "colab": {}
      },
      "source": [
        "gbc = GradientBoostingClassifier(n_estimators=5)"
      ],
      "execution_count": 0,
      "outputs": []
    },
    {
      "cell_type": "code",
      "metadata": {
        "id": "Y-foFvc5jU9S",
        "colab_type": "code",
        "outputId": "aa075a4f-7011-4507-c55d-2658c81016e3",
        "colab": {
          "base_uri": "https://localhost:8080/",
          "height": 187
        }
      },
      "source": [
        "gbc.fit(X_train, y_train)"
      ],
      "execution_count": 0,
      "outputs": [
        {
          "output_type": "execute_result",
          "data": {
            "text/plain": [
              "GradientBoostingClassifier(criterion='friedman_mse', init=None,\n",
              "                           learning_rate=0.1, loss='deviance', max_depth=3,\n",
              "                           max_features=None, max_leaf_nodes=None,\n",
              "                           min_impurity_decrease=0.0, min_impurity_split=None,\n",
              "                           min_samples_leaf=1, min_samples_split=2,\n",
              "                           min_weight_fraction_leaf=0.0, n_estimators=5,\n",
              "                           n_iter_no_change=None, presort='auto',\n",
              "                           random_state=None, subsample=1.0, tol=0.0001,\n",
              "                           validation_fraction=0.1, verbose=0,\n",
              "                           warm_start=False)"
            ]
          },
          "metadata": {
            "tags": []
          },
          "execution_count": 16
        }
      ]
    },
    {
      "cell_type": "code",
      "metadata": {
        "id": "T_X7__fpnwn_",
        "colab_type": "code",
        "outputId": "774e7010-39cd-45c4-d1f7-add0be1920f4",
        "colab": {
          "base_uri": "https://localhost:8080/",
          "height": 34
        }
      },
      "source": [
        "prediction = np.array(gbc.predict(X_test))\n",
        "np.sqrt(mean_squared_log_error( y_test, prediction ))"
      ],
      "execution_count": 0,
      "outputs": [
        {
          "output_type": "execute_result",
          "data": {
            "text/plain": [
              "0.432870340767327"
            ]
          },
          "metadata": {
            "tags": []
          },
          "execution_count": 17
        }
      ]
    },
    {
      "cell_type": "code",
      "metadata": {
        "id": "6Wg9NP78pD6A",
        "colab_type": "code",
        "colab": {}
      },
      "source": [
        "from xgboost import XGBClassifier"
      ],
      "execution_count": 0,
      "outputs": []
    },
    {
      "cell_type": "code",
      "metadata": {
        "id": "nyxJYCEzpMi4",
        "colab_type": "code",
        "colab": {}
      },
      "source": [
        "xgb = XGBClassifier()"
      ],
      "execution_count": 0,
      "outputs": []
    },
    {
      "cell_type": "code",
      "metadata": {
        "id": "_6fPO6jZpgmr",
        "colab_type": "code",
        "outputId": "f8418271-2a72-456a-eac7-3b476f97433e",
        "colab": {
          "base_uri": "https://localhost:8080/",
          "height": 170
        }
      },
      "source": [
        "%%time\n",
        "xgb.fit(X_train, y_train)"
      ],
      "execution_count": 0,
      "outputs": [
        {
          "output_type": "stream",
          "text": [
            "CPU times: user 23min 8s, sys: 4.73 s, total: 23min 13s\n",
            "Wall time: 23min 12s\n"
          ],
          "name": "stdout"
        },
        {
          "output_type": "execute_result",
          "data": {
            "text/plain": [
              "XGBClassifier(base_score=0.5, booster='gbtree', colsample_bylevel=1,\n",
              "              colsample_bynode=1, colsample_bytree=1, gamma=0,\n",
              "              learning_rate=0.1, max_delta_step=0, max_depth=3,\n",
              "              min_child_weight=1, missing=None, n_estimators=100, n_jobs=1,\n",
              "              nthread=None, objective='multi:softprob', random_state=0,\n",
              "              reg_alpha=0, reg_lambda=1, scale_pos_weight=1, seed=None,\n",
              "              silent=None, subsample=1, verbosity=1)"
            ]
          },
          "metadata": {
            "tags": []
          },
          "execution_count": 290
        }
      ]
    },
    {
      "cell_type": "code",
      "metadata": {
        "id": "XFKJnJU1puOP",
        "colab_type": "code",
        "outputId": "f263eedd-00ea-4c4b-dc6c-ea63d812969d",
        "colab": {
          "base_uri": "https://localhost:8080/",
          "height": 34
        }
      },
      "source": [
        "prediction = np.array(xgb.predict(X_test))\n",
        "np.sqrt(mean_squared_log_error( y_test, prediction ))"
      ],
      "execution_count": 0,
      "outputs": [
        {
          "output_type": "execute_result",
          "data": {
            "text/plain": [
              "0.4007398694050032"
            ]
          },
          "metadata": {
            "tags": []
          },
          "execution_count": 43
        }
      ]
    },
    {
      "cell_type": "markdown",
      "metadata": {
        "id": "VSDRaVtPA4D6",
        "colab_type": "text"
      },
      "source": [
        "# Linear Regression"
      ]
    },
    {
      "cell_type": "code",
      "metadata": {
        "id": "aajHzfEvBNit",
        "colab_type": "code",
        "colab": {}
      },
      "source": [
        "from sklearn.linear_model import LinearRegression"
      ],
      "execution_count": 0,
      "outputs": []
    },
    {
      "cell_type": "code",
      "metadata": {
        "id": "08O98jR4CLRs",
        "colab_type": "code",
        "outputId": "d9e64712-d378-452b-9496-81c7c791a576",
        "colab": {
          "base_uri": "https://localhost:8080/",
          "height": 204
        }
      },
      "source": [
        "X = data_1.iloc[:, 1:-1]\n",
        "y = data_1.iloc[:,-1:]\n",
        "y = np.array(y)\n",
        "y = np.log(1 + y)\n",
        "\n",
        "X_train,X_test,y_train,y_test = train_test_split(X,y,test_size = 0.2, random_state=1)\n",
        "data_1.head()"
      ],
      "execution_count": 0,
      "outputs": [
        {
          "output_type": "execute_result",
          "data": {
            "text/html": [
              "<div>\n",
              "<style scoped>\n",
              "    .dataframe tbody tr th:only-of-type {\n",
              "        vertical-align: middle;\n",
              "    }\n",
              "\n",
              "    .dataframe tbody tr th {\n",
              "        vertical-align: top;\n",
              "    }\n",
              "\n",
              "    .dataframe thead th {\n",
              "        text-align: right;\n",
              "    }\n",
              "</style>\n",
              "<table border=\"1\" class=\"dataframe\">\n",
              "  <thead>\n",
              "    <tr style=\"text-align: right;\">\n",
              "      <th></th>\n",
              "      <th>Password</th>\n",
              "      <th>lenght</th>\n",
              "      <th>is_polyndrom</th>\n",
              "      <th>is_data</th>\n",
              "      <th>is_sequence</th>\n",
              "      <th>onesymbol</th>\n",
              "      <th>morph_numbers</th>\n",
              "      <th>Times</th>\n",
              "    </tr>\n",
              "  </thead>\n",
              "  <tbody>\n",
              "    <tr>\n",
              "      <th>0</th>\n",
              "      <td>631XniVx2lS5I</td>\n",
              "      <td>13</td>\n",
              "      <td>0</td>\n",
              "      <td>0</td>\n",
              "      <td>0</td>\n",
              "      <td>0</td>\n",
              "      <td>11</td>\n",
              "      <td>2</td>\n",
              "    </tr>\n",
              "    <tr>\n",
              "      <th>1</th>\n",
              "      <td>LEGIT747</td>\n",
              "      <td>8</td>\n",
              "      <td>0</td>\n",
              "      <td>0</td>\n",
              "      <td>0</td>\n",
              "      <td>0</td>\n",
              "      <td>6</td>\n",
              "      <td>1</td>\n",
              "    </tr>\n",
              "    <tr>\n",
              "      <th>2</th>\n",
              "      <td>742364es</td>\n",
              "      <td>8</td>\n",
              "      <td>0</td>\n",
              "      <td>0</td>\n",
              "      <td>0</td>\n",
              "      <td>0</td>\n",
              "      <td>5</td>\n",
              "      <td>1</td>\n",
              "    </tr>\n",
              "    <tr>\n",
              "      <th>3</th>\n",
              "      <td>3846696477</td>\n",
              "      <td>10</td>\n",
              "      <td>0</td>\n",
              "      <td>0</td>\n",
              "      <td>0</td>\n",
              "      <td>0</td>\n",
              "      <td>6</td>\n",
              "      <td>1</td>\n",
              "    </tr>\n",
              "    <tr>\n",
              "      <th>4</th>\n",
              "      <td>laurahop</td>\n",
              "      <td>8</td>\n",
              "      <td>0</td>\n",
              "      <td>0</td>\n",
              "      <td>0</td>\n",
              "      <td>0</td>\n",
              "      <td>3</td>\n",
              "      <td>2</td>\n",
              "    </tr>\n",
              "  </tbody>\n",
              "</table>\n",
              "</div>"
            ],
            "text/plain": [
              "        Password  lenght  is_polyndrom  ...  onesymbol  morph_numbers  Times\n",
              "0  631XniVx2lS5I      13             0  ...          0             11      2\n",
              "1       LEGIT747       8             0  ...          0              6      1\n",
              "2       742364es       8             0  ...          0              5      1\n",
              "3     3846696477      10             0  ...          0              6      1\n",
              "4       laurahop       8             0  ...          0              3      2\n",
              "\n",
              "[5 rows x 8 columns]"
            ]
          },
          "metadata": {
            "tags": []
          },
          "execution_count": 224
        }
      ]
    },
    {
      "cell_type": "code",
      "metadata": {
        "id": "HLiwfBXaCdN0",
        "colab_type": "code",
        "outputId": "1f84fe81-e191-4a3c-e161-1c08a695499a",
        "colab": {
          "base_uri": "https://localhost:8080/",
          "height": 34
        }
      },
      "source": [
        "lrg = LinearRegression(normalize=True)\n",
        "lrg.fit(X_train, y_train)"
      ],
      "execution_count": 0,
      "outputs": [
        {
          "output_type": "execute_result",
          "data": {
            "text/plain": [
              "LinearRegression(copy_X=True, fit_intercept=True, n_jobs=None, normalize=True)"
            ]
          },
          "metadata": {
            "tags": []
          },
          "execution_count": 225
        }
      ]
    },
    {
      "cell_type": "code",
      "metadata": {
        "id": "E1ZFMOLNDCgJ",
        "colab_type": "code",
        "outputId": "7411e915-c5d6-49fb-acac-c145151eb233",
        "colab": {
          "base_uri": "https://localhost:8080/",
          "height": 34
        }
      },
      "source": [
        "prediction = lrg.predict(X_test)\n",
        "np.sqrt(mean_squared_error( y_test, prediction))"
      ],
      "execution_count": 0,
      "outputs": [
        {
          "output_type": "execute_result",
          "data": {
            "text/plain": [
              "0.3775823387397288"
            ]
          },
          "metadata": {
            "tags": []
          },
          "execution_count": 226
        }
      ]
    },
    {
      "cell_type": "markdown",
      "metadata": {
        "id": "400IIbg0aw29",
        "colab_type": "text"
      },
      "source": [
        "# Stacking"
      ]
    },
    {
      "cell_type": "code",
      "metadata": {
        "id": "wb536Jvkebuf",
        "colab_type": "code",
        "outputId": "7bf9a937-0b2a-46c2-c66e-b99e64b88224",
        "colab": {
          "base_uri": "https://localhost:8080/",
          "height": 204
        }
      },
      "source": [
        "X = data_1.iloc[:, 1:-1]\n",
        "y = data_1.iloc[:,-1:]\n",
        "y = np.array(y)\n",
        "y = np.log(1 + y)\n",
        "\n",
        "X_train,X_test,y_train,y_test = train_test_split(X,y,test_size = 0.2, random_state=1)\n",
        "data_1.head()"
      ],
      "execution_count": 29,
      "outputs": [
        {
          "output_type": "execute_result",
          "data": {
            "text/html": [
              "<div>\n",
              "<style scoped>\n",
              "    .dataframe tbody tr th:only-of-type {\n",
              "        vertical-align: middle;\n",
              "    }\n",
              "\n",
              "    .dataframe tbody tr th {\n",
              "        vertical-align: top;\n",
              "    }\n",
              "\n",
              "    .dataframe thead th {\n",
              "        text-align: right;\n",
              "    }\n",
              "</style>\n",
              "<table border=\"1\" class=\"dataframe\">\n",
              "  <thead>\n",
              "    <tr style=\"text-align: right;\">\n",
              "      <th></th>\n",
              "      <th>Password</th>\n",
              "      <th>lenght</th>\n",
              "      <th>is_polyndrom</th>\n",
              "      <th>is_data</th>\n",
              "      <th>is_sequence</th>\n",
              "      <th>onesymbol</th>\n",
              "      <th>morph_numbers</th>\n",
              "      <th>Times</th>\n",
              "    </tr>\n",
              "  </thead>\n",
              "  <tbody>\n",
              "    <tr>\n",
              "      <th>0</th>\n",
              "      <td>631XniVx2lS5I</td>\n",
              "      <td>13</td>\n",
              "      <td>0</td>\n",
              "      <td>0</td>\n",
              "      <td>0</td>\n",
              "      <td>0</td>\n",
              "      <td>11</td>\n",
              "      <td>2</td>\n",
              "    </tr>\n",
              "    <tr>\n",
              "      <th>1</th>\n",
              "      <td>LEGIT747</td>\n",
              "      <td>8</td>\n",
              "      <td>0</td>\n",
              "      <td>0</td>\n",
              "      <td>0</td>\n",
              "      <td>0</td>\n",
              "      <td>6</td>\n",
              "      <td>1</td>\n",
              "    </tr>\n",
              "    <tr>\n",
              "      <th>2</th>\n",
              "      <td>742364es</td>\n",
              "      <td>8</td>\n",
              "      <td>0</td>\n",
              "      <td>0</td>\n",
              "      <td>0</td>\n",
              "      <td>0</td>\n",
              "      <td>5</td>\n",
              "      <td>1</td>\n",
              "    </tr>\n",
              "    <tr>\n",
              "      <th>3</th>\n",
              "      <td>3846696477</td>\n",
              "      <td>10</td>\n",
              "      <td>0</td>\n",
              "      <td>0</td>\n",
              "      <td>0</td>\n",
              "      <td>0</td>\n",
              "      <td>6</td>\n",
              "      <td>1</td>\n",
              "    </tr>\n",
              "    <tr>\n",
              "      <th>4</th>\n",
              "      <td>laurahop</td>\n",
              "      <td>8</td>\n",
              "      <td>0</td>\n",
              "      <td>0</td>\n",
              "      <td>0</td>\n",
              "      <td>0</td>\n",
              "      <td>3</td>\n",
              "      <td>2</td>\n",
              "    </tr>\n",
              "  </tbody>\n",
              "</table>\n",
              "</div>"
            ],
            "text/plain": [
              "        Password  lenght  is_polyndrom  ...  onesymbol  morph_numbers  Times\n",
              "0  631XniVx2lS5I      13             0  ...          0             11      2\n",
              "1       LEGIT747       8             0  ...          0              6      1\n",
              "2       742364es       8             0  ...          0              5      1\n",
              "3     3846696477      10             0  ...          0              6      1\n",
              "4       laurahop       8             0  ...          0              3      2\n",
              "\n",
              "[5 rows x 8 columns]"
            ]
          },
          "metadata": {
            "tags": []
          },
          "execution_count": 29
        }
      ]
    },
    {
      "cell_type": "code",
      "metadata": {
        "id": "Yoe5Raaya1mg",
        "colab_type": "code",
        "colab": {}
      },
      "source": [
        "from mlxtend.regressor import StackingRegressor"
      ],
      "execution_count": 0,
      "outputs": []
    },
    {
      "cell_type": "code",
      "metadata": {
        "id": "AQlAU0gncpOo",
        "colab_type": "code",
        "colab": {}
      },
      "source": [
        "lr = LinearRegression()\n",
        "extratree = ExtraTreesRegressor(n_estimators=7, max_depth=25)\n",
        "tree_regr = tree.DecisionTreeRegressor(max_depth=20, min_samples_leaf=3)\n",
        "lasso = Lasso(alpha=0.9, max_iter=1000, random_state=1)\n",
        "forest = RandomForestRegressor(n_estimators=7, random_state=1)\n",
        "sgd = SGDRegressor()\n",
        "gbregr = XGBRegressor(learning_rate=0.18, random_state=1)\n",
        "\n",
        "stregr = StackingRegressor(regressors=[tree_regr, lr, forest], meta_regressor=tree_regr)"
      ],
      "execution_count": 0,
      "outputs": []
    },
    {
      "cell_type": "code",
      "metadata": {
        "id": "bwCT9u9Wewg1",
        "colab_type": "code",
        "outputId": "c092c234-9db2-4d5a-e7dc-b28f0c33a096",
        "colab": {
          "base_uri": "https://localhost:8080/",
          "height": 598
        }
      },
      "source": [
        "%%time\n",
        "stregr.fit(X_train, y_train)"
      ],
      "execution_count": 35,
      "outputs": [
        {
          "output_type": "stream",
          "text": [
            "/usr/local/lib/python3.6/dist-packages/mlxtend/regressor/stacking_regression.py:150: DataConversionWarning: A column-vector y was passed when a 1d array was expected. Please change the shape of y to (n_samples,), for example using ravel().\n",
            "  regr.fit(X, y)\n"
          ],
          "name": "stderr"
        },
        {
          "output_type": "stream",
          "text": [
            "CPU times: user 24.7 s, sys: 966 ms, total: 25.6 s\n",
            "Wall time: 24.5 s\n"
          ],
          "name": "stdout"
        },
        {
          "output_type": "execute_result",
          "data": {
            "text/plain": [
              "StackingRegressor(meta_regressor=DecisionTreeRegressor(criterion='mse',\n",
              "                                                       max_depth=20,\n",
              "                                                       max_features=None,\n",
              "                                                       max_leaf_nodes=None,\n",
              "                                                       min_impurity_decrease=0.0,\n",
              "                                                       min_impurity_split=None,\n",
              "                                                       min_samples_leaf=3,\n",
              "                                                       min_samples_split=2,\n",
              "                                                       min_weight_fraction_leaf=0.0,\n",
              "                                                       presort=False,\n",
              "                                                       random_state=None,\n",
              "                                                       splitter='best'),\n",
              "                  refit=True,\n",
              "                  regressors=[DecisionTreeRegressor(criterion='mse',...\n",
              "                                                    criterion='mse',\n",
              "                                                    max_depth=None,\n",
              "                                                    max_features='auto',\n",
              "                                                    max_leaf_nodes=None,\n",
              "                                                    min_impurity_decrease=0.0,\n",
              "                                                    min_impurity_split=None,\n",
              "                                                    min_samples_leaf=1,\n",
              "                                                    min_samples_split=2,\n",
              "                                                    min_weight_fraction_leaf=0.0,\n",
              "                                                    n_estimators=7, n_jobs=None,\n",
              "                                                    oob_score=False,\n",
              "                                                    random_state=1, verbose=0,\n",
              "                                                    warm_start=False)],\n",
              "                  store_train_meta_features=False,\n",
              "                  use_features_in_secondary=False, verbose=0)"
            ]
          },
          "metadata": {
            "tags": []
          },
          "execution_count": 35
        }
      ]
    },
    {
      "cell_type": "code",
      "metadata": {
        "id": "YOpjs4CfeTrM",
        "colab_type": "code",
        "outputId": "a5e52e72-f1c3-4e1c-bcdc-32e651f9e80f",
        "colab": {
          "base_uri": "https://localhost:8080/",
          "height": 34
        }
      },
      "source": [
        "prediction = stregr.predict(X_test)\n",
        "np.sqrt(mean_squared_error( y_test, prediction))"
      ],
      "execution_count": 36,
      "outputs": [
        {
          "output_type": "execute_result",
          "data": {
            "text/plain": [
              "0.36391031183580097"
            ]
          },
          "metadata": {
            "tags": []
          },
          "execution_count": 36
        }
      ]
    },
    {
      "cell_type": "markdown",
      "metadata": {
        "id": "rwpXzOvqi8rP",
        "colab_type": "text"
      },
      "source": [
        "# Analysis"
      ]
    },
    {
      "cell_type": "code",
      "metadata": {
        "id": "LnUlQtk6jCra",
        "colab_type": "code",
        "outputId": "9b6a2156-b276-4796-ad4e-2f4bb23cd08d",
        "colab": {
          "base_uri": "https://localhost:8080/",
          "height": 1000
        }
      },
      "source": [
        "df = pd.DataFrame({\"predict\": prediction, \"pass\":list(data.Password[y_test.index])})\n",
        "df.join(y_test.reset_index(drop=True)).sort_values(by=[\"Times\"])[-5000:]"
      ],
      "execution_count": 0,
      "outputs": [
        {
          "output_type": "execute_result",
          "data": {
            "text/html": [
              "<div>\n",
              "<style scoped>\n",
              "    .dataframe tbody tr th:only-of-type {\n",
              "        vertical-align: middle;\n",
              "    }\n",
              "\n",
              "    .dataframe tbody tr th {\n",
              "        vertical-align: top;\n",
              "    }\n",
              "\n",
              "    .dataframe thead th {\n",
              "        text-align: right;\n",
              "    }\n",
              "</style>\n",
              "<table border=\"1\" class=\"dataframe\">\n",
              "  <thead>\n",
              "    <tr style=\"text-align: right;\">\n",
              "      <th></th>\n",
              "      <th>predict</th>\n",
              "      <th>pass</th>\n",
              "      <th>Times</th>\n",
              "    </tr>\n",
              "  </thead>\n",
              "  <tbody>\n",
              "    <tr>\n",
              "      <th>642510</th>\n",
              "      <td>1</td>\n",
              "      <td>protein</td>\n",
              "      <td>26</td>\n",
              "    </tr>\n",
              "    <tr>\n",
              "      <th>216494</th>\n",
              "      <td>1</td>\n",
              "      <td>mom4u4mm</td>\n",
              "      <td>26</td>\n",
              "    </tr>\n",
              "    <tr>\n",
              "      <th>714561</th>\n",
              "      <td>1</td>\n",
              "      <td>74123</td>\n",
              "      <td>26</td>\n",
              "    </tr>\n",
              "    <tr>\n",
              "      <th>639587</th>\n",
              "      <td>10</td>\n",
              "      <td>101181</td>\n",
              "      <td>26</td>\n",
              "    </tr>\n",
              "    <tr>\n",
              "      <th>639475</th>\n",
              "      <td>10</td>\n",
              "      <td>12061975</td>\n",
              "      <td>26</td>\n",
              "    </tr>\n",
              "    <tr>\n",
              "      <th>594471</th>\n",
              "      <td>1</td>\n",
              "      <td>outlook</td>\n",
              "      <td>26</td>\n",
              "    </tr>\n",
              "    <tr>\n",
              "      <th>406881</th>\n",
              "      <td>1</td>\n",
              "      <td>lkjhgfd</td>\n",
              "      <td>26</td>\n",
              "    </tr>\n",
              "    <tr>\n",
              "      <th>89921</th>\n",
              "      <td>1</td>\n",
              "      <td>eagleeye</td>\n",
              "      <td>26</td>\n",
              "    </tr>\n",
              "    <tr>\n",
              "      <th>65310</th>\n",
              "      <td>1</td>\n",
              "      <td>24692469</td>\n",
              "      <td>26</td>\n",
              "    </tr>\n",
              "    <tr>\n",
              "      <th>290274</th>\n",
              "      <td>1</td>\n",
              "      <td>JAGUAR</td>\n",
              "      <td>26</td>\n",
              "    </tr>\n",
              "    <tr>\n",
              "      <th>424868</th>\n",
              "      <td>10</td>\n",
              "      <td>200679</td>\n",
              "      <td>26</td>\n",
              "    </tr>\n",
              "    <tr>\n",
              "      <th>386418</th>\n",
              "      <td>1</td>\n",
              "      <td>makita</td>\n",
              "      <td>26</td>\n",
              "    </tr>\n",
              "    <tr>\n",
              "      <th>496036</th>\n",
              "      <td>1</td>\n",
              "      <td>jazzer</td>\n",
              "      <td>26</td>\n",
              "    </tr>\n",
              "    <tr>\n",
              "      <th>726367</th>\n",
              "      <td>10</td>\n",
              "      <td>051283</td>\n",
              "      <td>26</td>\n",
              "    </tr>\n",
              "    <tr>\n",
              "      <th>454958</th>\n",
              "      <td>1</td>\n",
              "      <td>test01</td>\n",
              "      <td>26</td>\n",
              "    </tr>\n",
              "    <tr>\n",
              "      <th>648489</th>\n",
              "      <td>10</td>\n",
              "      <td>121183</td>\n",
              "      <td>26</td>\n",
              "    </tr>\n",
              "    <tr>\n",
              "      <th>334549</th>\n",
              "      <td>10</td>\n",
              "      <td>10021972</td>\n",
              "      <td>26</td>\n",
              "    </tr>\n",
              "    <tr>\n",
              "      <th>754716</th>\n",
              "      <td>10</td>\n",
              "      <td>16111971</td>\n",
              "      <td>26</td>\n",
              "    </tr>\n",
              "    <tr>\n",
              "      <th>14331</th>\n",
              "      <td>10</td>\n",
              "      <td>050680</td>\n",
              "      <td>26</td>\n",
              "    </tr>\n",
              "    <tr>\n",
              "      <th>390426</th>\n",
              "      <td>10</td>\n",
              "      <td>03051970</td>\n",
              "      <td>26</td>\n",
              "    </tr>\n",
              "    <tr>\n",
              "      <th>443980</th>\n",
              "      <td>1</td>\n",
              "      <td>pupuce</td>\n",
              "      <td>26</td>\n",
              "    </tr>\n",
              "    <tr>\n",
              "      <th>818114</th>\n",
              "      <td>10</td>\n",
              "      <td>270688</td>\n",
              "      <td>26</td>\n",
              "    </tr>\n",
              "    <tr>\n",
              "      <th>196627</th>\n",
              "      <td>1</td>\n",
              "      <td>louie1</td>\n",
              "      <td>26</td>\n",
              "    </tr>\n",
              "    <tr>\n",
              "      <th>282858</th>\n",
              "      <td>1</td>\n",
              "      <td>foxbat</td>\n",
              "      <td>26</td>\n",
              "    </tr>\n",
              "    <tr>\n",
              "      <th>782230</th>\n",
              "      <td>10</td>\n",
              "      <td>1922</td>\n",
              "      <td>26</td>\n",
              "    </tr>\n",
              "    <tr>\n",
              "      <th>153480</th>\n",
              "      <td>10</td>\n",
              "      <td>241090</td>\n",
              "      <td>26</td>\n",
              "    </tr>\n",
              "    <tr>\n",
              "      <th>260310</th>\n",
              "      <td>10</td>\n",
              "      <td>281082</td>\n",
              "      <td>26</td>\n",
              "    </tr>\n",
              "    <tr>\n",
              "      <th>4933</th>\n",
              "      <td>1</td>\n",
              "      <td>12345689</td>\n",
              "      <td>26</td>\n",
              "    </tr>\n",
              "    <tr>\n",
              "      <th>610688</th>\n",
              "      <td>1</td>\n",
              "      <td>atlantida</td>\n",
              "      <td>26</td>\n",
              "    </tr>\n",
              "    <tr>\n",
              "      <th>431257</th>\n",
              "      <td>10</td>\n",
              "      <td>herb</td>\n",
              "      <td>26</td>\n",
              "    </tr>\n",
              "    <tr>\n",
              "      <th>...</th>\n",
              "      <td>...</td>\n",
              "      <td>...</td>\n",
              "      <td>...</td>\n",
              "    </tr>\n",
              "    <tr>\n",
              "      <th>447986</th>\n",
              "      <td>1</td>\n",
              "      <td>raiders</td>\n",
              "      <td>826</td>\n",
              "    </tr>\n",
              "    <tr>\n",
              "      <th>112875</th>\n",
              "      <td>1</td>\n",
              "      <td>bigdick</td>\n",
              "      <td>861</td>\n",
              "    </tr>\n",
              "    <tr>\n",
              "      <th>798811</th>\n",
              "      <td>10</td>\n",
              "      <td>flower</td>\n",
              "      <td>868</td>\n",
              "    </tr>\n",
              "    <tr>\n",
              "      <th>515591</th>\n",
              "      <td>1</td>\n",
              "      <td>charles</td>\n",
              "      <td>871</td>\n",
              "    </tr>\n",
              "    <tr>\n",
              "      <th>629874</th>\n",
              "      <td>1</td>\n",
              "      <td>slayer</td>\n",
              "      <td>881</td>\n",
              "    </tr>\n",
              "    <tr>\n",
              "      <th>641593</th>\n",
              "      <td>1</td>\n",
              "      <td>please</td>\n",
              "      <td>891</td>\n",
              "    </tr>\n",
              "    <tr>\n",
              "      <th>463614</th>\n",
              "      <td>1</td>\n",
              "      <td>barney</td>\n",
              "      <td>896</td>\n",
              "    </tr>\n",
              "    <tr>\n",
              "      <th>591898</th>\n",
              "      <td>100</td>\n",
              "      <td>0000</td>\n",
              "      <td>944</td>\n",
              "    </tr>\n",
              "    <tr>\n",
              "      <th>470276</th>\n",
              "      <td>1</td>\n",
              "      <td>ncc1701</td>\n",
              "      <td>956</td>\n",
              "    </tr>\n",
              "    <tr>\n",
              "      <th>316372</th>\n",
              "      <td>1</td>\n",
              "      <td>cowboys</td>\n",
              "      <td>972</td>\n",
              "    </tr>\n",
              "    <tr>\n",
              "      <th>450475</th>\n",
              "      <td>1</td>\n",
              "      <td>lakers</td>\n",
              "      <td>985</td>\n",
              "    </tr>\n",
              "    <tr>\n",
              "      <th>652292</th>\n",
              "      <td>1</td>\n",
              "      <td>compaq</td>\n",
              "      <td>996</td>\n",
              "    </tr>\n",
              "    <tr>\n",
              "      <th>469079</th>\n",
              "      <td>1</td>\n",
              "      <td>melissa</td>\n",
              "      <td>1040</td>\n",
              "    </tr>\n",
              "    <tr>\n",
              "      <th>564843</th>\n",
              "      <td>1</td>\n",
              "      <td>arsenal</td>\n",
              "      <td>1048</td>\n",
              "    </tr>\n",
              "    <tr>\n",
              "      <th>208483</th>\n",
              "      <td>1</td>\n",
              "      <td>ferrari</td>\n",
              "      <td>1082</td>\n",
              "    </tr>\n",
              "    <tr>\n",
              "      <th>481203</th>\n",
              "      <td>1</td>\n",
              "      <td>phoenix</td>\n",
              "      <td>1113</td>\n",
              "    </tr>\n",
              "    <tr>\n",
              "      <th>113534</th>\n",
              "      <td>10</td>\n",
              "      <td>guitar</td>\n",
              "      <td>1145</td>\n",
              "    </tr>\n",
              "    <tr>\n",
              "      <th>706769</th>\n",
              "      <td>1</td>\n",
              "      <td>scooter</td>\n",
              "      <td>1192</td>\n",
              "    </tr>\n",
              "    <tr>\n",
              "      <th>253936</th>\n",
              "      <td>1</td>\n",
              "      <td>bailey</td>\n",
              "      <td>1204</td>\n",
              "    </tr>\n",
              "    <tr>\n",
              "      <th>262031</th>\n",
              "      <td>10</td>\n",
              "      <td>test</td>\n",
              "      <td>1216</td>\n",
              "    </tr>\n",
              "    <tr>\n",
              "      <th>490240</th>\n",
              "      <td>10</td>\n",
              "      <td>silver</td>\n",
              "      <td>1248</td>\n",
              "    </tr>\n",
              "    <tr>\n",
              "      <th>270144</th>\n",
              "      <td>1</td>\n",
              "      <td>austin</td>\n",
              "      <td>1338</td>\n",
              "    </tr>\n",
              "    <tr>\n",
              "      <th>392231</th>\n",
              "      <td>1</td>\n",
              "      <td>princess</td>\n",
              "      <td>1483</td>\n",
              "    </tr>\n",
              "    <tr>\n",
              "      <th>619950</th>\n",
              "      <td>100</td>\n",
              "      <td>1111</td>\n",
              "      <td>1648</td>\n",
              "    </tr>\n",
              "    <tr>\n",
              "      <th>316362</th>\n",
              "      <td>1</td>\n",
              "      <td>123qwe</td>\n",
              "      <td>2296</td>\n",
              "    </tr>\n",
              "    <tr>\n",
              "      <th>566466</th>\n",
              "      <td>1</td>\n",
              "      <td>qwertyuiop</td>\n",
              "      <td>2860</td>\n",
              "    </tr>\n",
              "    <tr>\n",
              "      <th>811219</th>\n",
              "      <td>1</td>\n",
              "      <td>letmein</td>\n",
              "      <td>3118</td>\n",
              "    </tr>\n",
              "    <tr>\n",
              "      <th>482112</th>\n",
              "      <td>10</td>\n",
              "      <td>123123</td>\n",
              "      <td>3845</td>\n",
              "    </tr>\n",
              "    <tr>\n",
              "      <th>197450</th>\n",
              "      <td>1</td>\n",
              "      <td>1234567</td>\n",
              "      <td>4796</td>\n",
              "    </tr>\n",
              "    <tr>\n",
              "      <th>420837</th>\n",
              "      <td>10</td>\n",
              "      <td>1234</td>\n",
              "      <td>6432</td>\n",
              "    </tr>\n",
              "  </tbody>\n",
              "</table>\n",
              "<p>5000 rows × 3 columns</p>\n",
              "</div>"
            ],
            "text/plain": [
              "        predict        pass  Times\n",
              "642510        1     protein     26\n",
              "216494        1    mom4u4mm     26\n",
              "714561        1       74123     26\n",
              "639587       10      101181     26\n",
              "639475       10    12061975     26\n",
              "594471        1     outlook     26\n",
              "406881        1     lkjhgfd     26\n",
              "89921         1    eagleeye     26\n",
              "65310         1    24692469     26\n",
              "290274        1      JAGUAR     26\n",
              "424868       10      200679     26\n",
              "386418        1      makita     26\n",
              "496036        1      jazzer     26\n",
              "726367       10      051283     26\n",
              "454958        1      test01     26\n",
              "648489       10      121183     26\n",
              "334549       10    10021972     26\n",
              "754716       10    16111971     26\n",
              "14331        10      050680     26\n",
              "390426       10    03051970     26\n",
              "443980        1      pupuce     26\n",
              "818114       10      270688     26\n",
              "196627        1      louie1     26\n",
              "282858        1      foxbat     26\n",
              "782230       10        1922     26\n",
              "153480       10      241090     26\n",
              "260310       10      281082     26\n",
              "4933          1    12345689     26\n",
              "610688        1   atlantida     26\n",
              "431257       10        herb     26\n",
              "...         ...         ...    ...\n",
              "447986        1     raiders    826\n",
              "112875        1     bigdick    861\n",
              "798811       10      flower    868\n",
              "515591        1     charles    871\n",
              "629874        1      slayer    881\n",
              "641593        1      please    891\n",
              "463614        1      barney    896\n",
              "591898      100        0000    944\n",
              "470276        1     ncc1701    956\n",
              "316372        1     cowboys    972\n",
              "450475        1      lakers    985\n",
              "652292        1      compaq    996\n",
              "469079        1     melissa   1040\n",
              "564843        1     arsenal   1048\n",
              "208483        1     ferrari   1082\n",
              "481203        1     phoenix   1113\n",
              "113534       10      guitar   1145\n",
              "706769        1     scooter   1192\n",
              "253936        1      bailey   1204\n",
              "262031       10        test   1216\n",
              "490240       10      silver   1248\n",
              "270144        1      austin   1338\n",
              "392231        1    princess   1483\n",
              "619950      100        1111   1648\n",
              "316362        1      123qwe   2296\n",
              "566466        1  qwertyuiop   2860\n",
              "811219        1     letmein   3118\n",
              "482112       10      123123   3845\n",
              "197450        1     1234567   4796\n",
              "420837       10        1234   6432\n",
              "\n",
              "[5000 rows x 3 columns]"
            ]
          },
          "metadata": {
            "tags": []
          },
          "execution_count": 189
        }
      ]
    },
    {
      "cell_type": "code",
      "metadata": {
        "id": "feSFBfCIl87_",
        "colab_type": "code",
        "colab": {}
      },
      "source": [
        "data_1.sort_values(by=[\"Times\"])[-8000:]"
      ],
      "execution_count": 0,
      "outputs": []
    },
    {
      "cell_type": "code",
      "metadata": {
        "id": "HtYAXWBxYm6G",
        "colab_type": "code",
        "outputId": "8803f8f3-4b84-4f1f-b56e-a7b8afbcc2eb",
        "colab": {
          "base_uri": "https://localhost:8080/",
          "height": 68
        }
      },
      "source": [
        "import nltk\n",
        "from nltk.corpus import words\n",
        "nltk.download('words')"
      ],
      "execution_count": 0,
      "outputs": [
        {
          "output_type": "stream",
          "text": [
            "[nltk_data] Downloading package words to /root/nltk_data...\n",
            "[nltk_data]   Unzipping corpora/words.zip.\n"
          ],
          "name": "stdout"
        },
        {
          "output_type": "execute_result",
          "data": {
            "text/plain": [
              "True"
            ]
          },
          "metadata": {
            "tags": []
          },
          "execution_count": 187
        }
      ]
    },
    {
      "cell_type": "code",
      "metadata": {
        "id": "E47j0Brvh_kB",
        "colab_type": "code",
        "outputId": "838be264-9186-4d4e-afa8-083b090aa144",
        "colab": {
          "base_uri": "https://localhost:8080/",
          "height": 34
        }
      },
      "source": [
        "\"Letmein\" in words.words()\n"
      ],
      "execution_count": 0,
      "outputs": [
        {
          "output_type": "execute_result",
          "data": {
            "text/plain": [
              "False"
            ]
          },
          "metadata": {
            "tags": []
          },
          "execution_count": 219
        }
      ]
    },
    {
      "cell_type": "code",
      "metadata": {
        "id": "2g4U9Z1jib2O",
        "colab_type": "code",
        "outputId": "30f22e6e-5cb8-48dc-b3db-1a458699895f",
        "colab": {
          "base_uri": "https://localhost:8080/",
          "height": 1000
        }
      },
      "source": [
        "data_1[data_1.number_letter == 1][-200:]"
      ],
      "execution_count": 0,
      "outputs": [
        {
          "output_type": "execute_result",
          "data": {
            "text/html": [
              "<div>\n",
              "<style scoped>\n",
              "    .dataframe tbody tr th:only-of-type {\n",
              "        vertical-align: middle;\n",
              "    }\n",
              "\n",
              "    .dataframe tbody tr th {\n",
              "        vertical-align: top;\n",
              "    }\n",
              "\n",
              "    .dataframe thead th {\n",
              "        text-align: right;\n",
              "    }\n",
              "</style>\n",
              "<table border=\"1\" class=\"dataframe\">\n",
              "  <thead>\n",
              "    <tr style=\"text-align: right;\">\n",
              "      <th></th>\n",
              "      <th>Password</th>\n",
              "      <th>lenght</th>\n",
              "      <th>number_letter</th>\n",
              "      <th>is_digit</th>\n",
              "      <th>is_polyndrom</th>\n",
              "      <th>is_data</th>\n",
              "      <th>is_sequence</th>\n",
              "      <th>onesymbol</th>\n",
              "      <th>indicators</th>\n",
              "      <th>morph_numbers</th>\n",
              "      <th>Times</th>\n",
              "    </tr>\n",
              "  </thead>\n",
              "  <tbody>\n",
              "    <tr>\n",
              "      <th>4150725</th>\n",
              "      <td>treide</td>\n",
              "      <td>6</td>\n",
              "      <td>1</td>\n",
              "      <td>0</td>\n",
              "      <td>0</td>\n",
              "      <td>0</td>\n",
              "      <td>0</td>\n",
              "      <td>0</td>\n",
              "      <td>0</td>\n",
              "      <td>3.0</td>\n",
              "      <td>1</td>\n",
              "    </tr>\n",
              "    <tr>\n",
              "      <th>4150730</th>\n",
              "      <td>croclook</td>\n",
              "      <td>8</td>\n",
              "      <td>1</td>\n",
              "      <td>0</td>\n",
              "      <td>0</td>\n",
              "      <td>0</td>\n",
              "      <td>0</td>\n",
              "      <td>0</td>\n",
              "      <td>1</td>\n",
              "      <td>4.0</td>\n",
              "      <td>1</td>\n",
              "    </tr>\n",
              "    <tr>\n",
              "      <th>4150742</th>\n",
              "      <td>traplik</td>\n",
              "      <td>7</td>\n",
              "      <td>1</td>\n",
              "      <td>0</td>\n",
              "      <td>0</td>\n",
              "      <td>0</td>\n",
              "      <td>0</td>\n",
              "      <td>0</td>\n",
              "      <td>1</td>\n",
              "      <td>2.0</td>\n",
              "      <td>1</td>\n",
              "    </tr>\n",
              "    <tr>\n",
              "      <th>4150757</th>\n",
              "      <td>dillsboy</td>\n",
              "      <td>8</td>\n",
              "      <td>1</td>\n",
              "      <td>0</td>\n",
              "      <td>0</td>\n",
              "      <td>0</td>\n",
              "      <td>0</td>\n",
              "      <td>0</td>\n",
              "      <td>1</td>\n",
              "      <td>4.0</td>\n",
              "      <td>2</td>\n",
              "    </tr>\n",
              "    <tr>\n",
              "      <th>4150761</th>\n",
              "      <td>sidereg</td>\n",
              "      <td>7</td>\n",
              "      <td>1</td>\n",
              "      <td>0</td>\n",
              "      <td>0</td>\n",
              "      <td>0</td>\n",
              "      <td>0</td>\n",
              "      <td>0</td>\n",
              "      <td>1</td>\n",
              "      <td>2.0</td>\n",
              "      <td>1</td>\n",
              "    </tr>\n",
              "    <tr>\n",
              "      <th>4150765</th>\n",
              "      <td>ggthekin</td>\n",
              "      <td>8</td>\n",
              "      <td>1</td>\n",
              "      <td>0</td>\n",
              "      <td>0</td>\n",
              "      <td>0</td>\n",
              "      <td>0</td>\n",
              "      <td>0</td>\n",
              "      <td>1</td>\n",
              "      <td>4.0</td>\n",
              "      <td>1</td>\n",
              "    </tr>\n",
              "    <tr>\n",
              "      <th>4150766</th>\n",
              "      <td>andrzejeski</td>\n",
              "      <td>11</td>\n",
              "      <td>1</td>\n",
              "      <td>0</td>\n",
              "      <td>0</td>\n",
              "      <td>0</td>\n",
              "      <td>0</td>\n",
              "      <td>0</td>\n",
              "      <td>1</td>\n",
              "      <td>4.0</td>\n",
              "      <td>1</td>\n",
              "    </tr>\n",
              "    <tr>\n",
              "      <th>4150767</th>\n",
              "      <td>smpdfgsmpdfg</td>\n",
              "      <td>12</td>\n",
              "      <td>1</td>\n",
              "      <td>0</td>\n",
              "      <td>0</td>\n",
              "      <td>0</td>\n",
              "      <td>0</td>\n",
              "      <td>0</td>\n",
              "      <td>0</td>\n",
              "      <td>8.0</td>\n",
              "      <td>1</td>\n",
              "    </tr>\n",
              "    <tr>\n",
              "      <th>4150768</th>\n",
              "      <td>beloit</td>\n",
              "      <td>6</td>\n",
              "      <td>1</td>\n",
              "      <td>0</td>\n",
              "      <td>0</td>\n",
              "      <td>0</td>\n",
              "      <td>0</td>\n",
              "      <td>0</td>\n",
              "      <td>1</td>\n",
              "      <td>2.0</td>\n",
              "      <td>16</td>\n",
              "    </tr>\n",
              "    <tr>\n",
              "      <th>4150776</th>\n",
              "      <td>renodoug</td>\n",
              "      <td>8</td>\n",
              "      <td>1</td>\n",
              "      <td>0</td>\n",
              "      <td>0</td>\n",
              "      <td>0</td>\n",
              "      <td>0</td>\n",
              "      <td>0</td>\n",
              "      <td>0</td>\n",
              "      <td>4.0</td>\n",
              "      <td>1</td>\n",
              "    </tr>\n",
              "    <tr>\n",
              "      <th>4150777</th>\n",
              "      <td>steveleblanc</td>\n",
              "      <td>12</td>\n",
              "      <td>1</td>\n",
              "      <td>0</td>\n",
              "      <td>0</td>\n",
              "      <td>0</td>\n",
              "      <td>0</td>\n",
              "      <td>0</td>\n",
              "      <td>1</td>\n",
              "      <td>4.0</td>\n",
              "      <td>1</td>\n",
              "    </tr>\n",
              "    <tr>\n",
              "      <th>4150780</th>\n",
              "      <td>wairimu</td>\n",
              "      <td>7</td>\n",
              "      <td>1</td>\n",
              "      <td>0</td>\n",
              "      <td>0</td>\n",
              "      <td>0</td>\n",
              "      <td>0</td>\n",
              "      <td>0</td>\n",
              "      <td>0</td>\n",
              "      <td>3.0</td>\n",
              "      <td>2</td>\n",
              "    </tr>\n",
              "    <tr>\n",
              "      <th>4150782</th>\n",
              "      <td>chateaux</td>\n",
              "      <td>8</td>\n",
              "      <td>1</td>\n",
              "      <td>0</td>\n",
              "      <td>0</td>\n",
              "      <td>0</td>\n",
              "      <td>0</td>\n",
              "      <td>0</td>\n",
              "      <td>1</td>\n",
              "      <td>3.0</td>\n",
              "      <td>10</td>\n",
              "    </tr>\n",
              "    <tr>\n",
              "      <th>4150785</th>\n",
              "      <td>kmfdml</td>\n",
              "      <td>6</td>\n",
              "      <td>1</td>\n",
              "      <td>0</td>\n",
              "      <td>0</td>\n",
              "      <td>0</td>\n",
              "      <td>0</td>\n",
              "      <td>0</td>\n",
              "      <td>0</td>\n",
              "      <td>5.0</td>\n",
              "      <td>1</td>\n",
              "    </tr>\n",
              "    <tr>\n",
              "      <th>4150791</th>\n",
              "      <td>gonaugee</td>\n",
              "      <td>8</td>\n",
              "      <td>1</td>\n",
              "      <td>0</td>\n",
              "      <td>0</td>\n",
              "      <td>0</td>\n",
              "      <td>0</td>\n",
              "      <td>0</td>\n",
              "      <td>1</td>\n",
              "      <td>4.0</td>\n",
              "      <td>1</td>\n",
              "    </tr>\n",
              "    <tr>\n",
              "      <th>4150794</th>\n",
              "      <td>slats</td>\n",
              "      <td>5</td>\n",
              "      <td>1</td>\n",
              "      <td>0</td>\n",
              "      <td>0</td>\n",
              "      <td>0</td>\n",
              "      <td>0</td>\n",
              "      <td>0</td>\n",
              "      <td>0</td>\n",
              "      <td>4.0</td>\n",
              "      <td>1</td>\n",
              "    </tr>\n",
              "    <tr>\n",
              "      <th>4150799</th>\n",
              "      <td>ghkdlxld</td>\n",
              "      <td>8</td>\n",
              "      <td>1</td>\n",
              "      <td>0</td>\n",
              "      <td>0</td>\n",
              "      <td>0</td>\n",
              "      <td>0</td>\n",
              "      <td>0</td>\n",
              "      <td>0</td>\n",
              "      <td>6.0</td>\n",
              "      <td>3</td>\n",
              "    </tr>\n",
              "    <tr>\n",
              "      <th>4150800</th>\n",
              "      <td>margouli</td>\n",
              "      <td>8</td>\n",
              "      <td>1</td>\n",
              "      <td>0</td>\n",
              "      <td>0</td>\n",
              "      <td>0</td>\n",
              "      <td>0</td>\n",
              "      <td>0</td>\n",
              "      <td>1</td>\n",
              "      <td>4.0</td>\n",
              "      <td>2</td>\n",
              "    </tr>\n",
              "    <tr>\n",
              "      <th>4150808</th>\n",
              "      <td>koaxyj</td>\n",
              "      <td>6</td>\n",
              "      <td>1</td>\n",
              "      <td>0</td>\n",
              "      <td>0</td>\n",
              "      <td>0</td>\n",
              "      <td>0</td>\n",
              "      <td>0</td>\n",
              "      <td>0</td>\n",
              "      <td>4.0</td>\n",
              "      <td>1</td>\n",
              "    </tr>\n",
              "    <tr>\n",
              "      <th>4150816</th>\n",
              "      <td>forword</td>\n",
              "      <td>7</td>\n",
              "      <td>1</td>\n",
              "      <td>0</td>\n",
              "      <td>0</td>\n",
              "      <td>0</td>\n",
              "      <td>0</td>\n",
              "      <td>0</td>\n",
              "      <td>1</td>\n",
              "      <td>2.0</td>\n",
              "      <td>1</td>\n",
              "    </tr>\n",
              "    <tr>\n",
              "      <th>4150822</th>\n",
              "      <td>shadeeric</td>\n",
              "      <td>9</td>\n",
              "      <td>1</td>\n",
              "      <td>0</td>\n",
              "      <td>0</td>\n",
              "      <td>0</td>\n",
              "      <td>0</td>\n",
              "      <td>0</td>\n",
              "      <td>1</td>\n",
              "      <td>4.0</td>\n",
              "      <td>1</td>\n",
              "    </tr>\n",
              "    <tr>\n",
              "      <th>4150826</th>\n",
              "      <td>zrippe</td>\n",
              "      <td>6</td>\n",
              "      <td>1</td>\n",
              "      <td>0</td>\n",
              "      <td>0</td>\n",
              "      <td>0</td>\n",
              "      <td>0</td>\n",
              "      <td>0</td>\n",
              "      <td>1</td>\n",
              "      <td>3.0</td>\n",
              "      <td>1</td>\n",
              "    </tr>\n",
              "    <tr>\n",
              "      <th>4150827</th>\n",
              "      <td>parasgheerr</td>\n",
              "      <td>11</td>\n",
              "      <td>1</td>\n",
              "      <td>0</td>\n",
              "      <td>0</td>\n",
              "      <td>0</td>\n",
              "      <td>0</td>\n",
              "      <td>0</td>\n",
              "      <td>1</td>\n",
              "      <td>6.0</td>\n",
              "      <td>1</td>\n",
              "    </tr>\n",
              "    <tr>\n",
              "      <th>4150828</th>\n",
              "      <td>sashich</td>\n",
              "      <td>7</td>\n",
              "      <td>1</td>\n",
              "      <td>0</td>\n",
              "      <td>0</td>\n",
              "      <td>0</td>\n",
              "      <td>0</td>\n",
              "      <td>0</td>\n",
              "      <td>0</td>\n",
              "      <td>3.0</td>\n",
              "      <td>1</td>\n",
              "    </tr>\n",
              "    <tr>\n",
              "      <th>4150843</th>\n",
              "      <td>lavaagal</td>\n",
              "      <td>8</td>\n",
              "      <td>1</td>\n",
              "      <td>0</td>\n",
              "      <td>0</td>\n",
              "      <td>0</td>\n",
              "      <td>0</td>\n",
              "      <td>0</td>\n",
              "      <td>1</td>\n",
              "      <td>4.0</td>\n",
              "      <td>1</td>\n",
              "    </tr>\n",
              "    <tr>\n",
              "      <th>4150846</th>\n",
              "      <td>gbiuwmge</td>\n",
              "      <td>8</td>\n",
              "      <td>1</td>\n",
              "      <td>0</td>\n",
              "      <td>0</td>\n",
              "      <td>0</td>\n",
              "      <td>0</td>\n",
              "      <td>0</td>\n",
              "      <td>0</td>\n",
              "      <td>6.0</td>\n",
              "      <td>1</td>\n",
              "    </tr>\n",
              "    <tr>\n",
              "      <th>4150850</th>\n",
              "      <td>pasado</td>\n",
              "      <td>6</td>\n",
              "      <td>1</td>\n",
              "      <td>0</td>\n",
              "      <td>0</td>\n",
              "      <td>0</td>\n",
              "      <td>0</td>\n",
              "      <td>0</td>\n",
              "      <td>1</td>\n",
              "      <td>3.0</td>\n",
              "      <td>1</td>\n",
              "    </tr>\n",
              "    <tr>\n",
              "      <th>4150856</th>\n",
              "      <td>coreyboy</td>\n",
              "      <td>8</td>\n",
              "      <td>1</td>\n",
              "      <td>0</td>\n",
              "      <td>0</td>\n",
              "      <td>0</td>\n",
              "      <td>0</td>\n",
              "      <td>0</td>\n",
              "      <td>1</td>\n",
              "      <td>3.0</td>\n",
              "      <td>1</td>\n",
              "    </tr>\n",
              "    <tr>\n",
              "      <th>4150861</th>\n",
              "      <td>tyrolia</td>\n",
              "      <td>7</td>\n",
              "      <td>1</td>\n",
              "      <td>0</td>\n",
              "      <td>0</td>\n",
              "      <td>0</td>\n",
              "      <td>0</td>\n",
              "      <td>0</td>\n",
              "      <td>0</td>\n",
              "      <td>3.0</td>\n",
              "      <td>2</td>\n",
              "    </tr>\n",
              "    <tr>\n",
              "      <th>4150864</th>\n",
              "      <td>bedstands</td>\n",
              "      <td>9</td>\n",
              "      <td>1</td>\n",
              "      <td>0</td>\n",
              "      <td>0</td>\n",
              "      <td>0</td>\n",
              "      <td>0</td>\n",
              "      <td>0</td>\n",
              "      <td>1</td>\n",
              "      <td>3.0</td>\n",
              "      <td>1</td>\n",
              "    </tr>\n",
              "    <tr>\n",
              "      <th>...</th>\n",
              "      <td>...</td>\n",
              "      <td>...</td>\n",
              "      <td>...</td>\n",
              "      <td>...</td>\n",
              "      <td>...</td>\n",
              "      <td>...</td>\n",
              "      <td>...</td>\n",
              "      <td>...</td>\n",
              "      <td>...</td>\n",
              "      <td>...</td>\n",
              "      <td>...</td>\n",
              "    </tr>\n",
              "    <tr>\n",
              "      <th>4151390</th>\n",
              "      <td>aakaakaak</td>\n",
              "      <td>9</td>\n",
              "      <td>1</td>\n",
              "      <td>0</td>\n",
              "      <td>0</td>\n",
              "      <td>0</td>\n",
              "      <td>0</td>\n",
              "      <td>0</td>\n",
              "      <td>1</td>\n",
              "      <td>4.0</td>\n",
              "      <td>1</td>\n",
              "    </tr>\n",
              "    <tr>\n",
              "      <th>4151393</th>\n",
              "      <td>andrejdeker</td>\n",
              "      <td>11</td>\n",
              "      <td>1</td>\n",
              "      <td>0</td>\n",
              "      <td>0</td>\n",
              "      <td>0</td>\n",
              "      <td>0</td>\n",
              "      <td>0</td>\n",
              "      <td>1</td>\n",
              "      <td>5.0</td>\n",
              "      <td>1</td>\n",
              "    </tr>\n",
              "    <tr>\n",
              "      <th>4151394</th>\n",
              "      <td>gorgypark</td>\n",
              "      <td>9</td>\n",
              "      <td>1</td>\n",
              "      <td>0</td>\n",
              "      <td>0</td>\n",
              "      <td>0</td>\n",
              "      <td>0</td>\n",
              "      <td>0</td>\n",
              "      <td>1</td>\n",
              "      <td>3.0</td>\n",
              "      <td>1</td>\n",
              "    </tr>\n",
              "    <tr>\n",
              "      <th>4151397</th>\n",
              "      <td>telefonbox</td>\n",
              "      <td>10</td>\n",
              "      <td>1</td>\n",
              "      <td>0</td>\n",
              "      <td>0</td>\n",
              "      <td>0</td>\n",
              "      <td>0</td>\n",
              "      <td>0</td>\n",
              "      <td>1</td>\n",
              "      <td>4.0</td>\n",
              "      <td>1</td>\n",
              "    </tr>\n",
              "    <tr>\n",
              "      <th>4151398</th>\n",
              "      <td>sirhcchris</td>\n",
              "      <td>10</td>\n",
              "      <td>1</td>\n",
              "      <td>0</td>\n",
              "      <td>1</td>\n",
              "      <td>0</td>\n",
              "      <td>0</td>\n",
              "      <td>0</td>\n",
              "      <td>0</td>\n",
              "      <td>6.0</td>\n",
              "      <td>1</td>\n",
              "    </tr>\n",
              "    <tr>\n",
              "      <th>4151399</th>\n",
              "      <td>careyann</td>\n",
              "      <td>8</td>\n",
              "      <td>1</td>\n",
              "      <td>0</td>\n",
              "      <td>0</td>\n",
              "      <td>0</td>\n",
              "      <td>0</td>\n",
              "      <td>0</td>\n",
              "      <td>1</td>\n",
              "      <td>3.0</td>\n",
              "      <td>1</td>\n",
              "    </tr>\n",
              "    <tr>\n",
              "      <th>4151400</th>\n",
              "      <td>ufhbgjnnth</td>\n",
              "      <td>10</td>\n",
              "      <td>1</td>\n",
              "      <td>0</td>\n",
              "      <td>0</td>\n",
              "      <td>0</td>\n",
              "      <td>0</td>\n",
              "      <td>0</td>\n",
              "      <td>0</td>\n",
              "      <td>2.0</td>\n",
              "      <td>2</td>\n",
              "    </tr>\n",
              "    <tr>\n",
              "      <th>4151404</th>\n",
              "      <td>ilovecasey</td>\n",
              "      <td>10</td>\n",
              "      <td>1</td>\n",
              "      <td>0</td>\n",
              "      <td>0</td>\n",
              "      <td>0</td>\n",
              "      <td>0</td>\n",
              "      <td>0</td>\n",
              "      <td>1</td>\n",
              "      <td>4.0</td>\n",
              "      <td>1</td>\n",
              "    </tr>\n",
              "    <tr>\n",
              "      <th>4151411</th>\n",
              "      <td>cybervik</td>\n",
              "      <td>8</td>\n",
              "      <td>1</td>\n",
              "      <td>0</td>\n",
              "      <td>0</td>\n",
              "      <td>0</td>\n",
              "      <td>0</td>\n",
              "      <td>0</td>\n",
              "      <td>1</td>\n",
              "      <td>4.0</td>\n",
              "      <td>1</td>\n",
              "    </tr>\n",
              "    <tr>\n",
              "      <th>4151419</th>\n",
              "      <td>hellohel</td>\n",
              "      <td>8</td>\n",
              "      <td>1</td>\n",
              "      <td>0</td>\n",
              "      <td>0</td>\n",
              "      <td>0</td>\n",
              "      <td>0</td>\n",
              "      <td>0</td>\n",
              "      <td>1</td>\n",
              "      <td>2.0</td>\n",
              "      <td>45</td>\n",
              "    </tr>\n",
              "    <tr>\n",
              "      <th>4151420</th>\n",
              "      <td>mtgzik</td>\n",
              "      <td>6</td>\n",
              "      <td>1</td>\n",
              "      <td>0</td>\n",
              "      <td>0</td>\n",
              "      <td>0</td>\n",
              "      <td>0</td>\n",
              "      <td>0</td>\n",
              "      <td>0</td>\n",
              "      <td>5.0</td>\n",
              "      <td>1</td>\n",
              "    </tr>\n",
              "    <tr>\n",
              "      <th>4151428</th>\n",
              "      <td>viovus</td>\n",
              "      <td>6</td>\n",
              "      <td>1</td>\n",
              "      <td>0</td>\n",
              "      <td>0</td>\n",
              "      <td>0</td>\n",
              "      <td>0</td>\n",
              "      <td>0</td>\n",
              "      <td>0</td>\n",
              "      <td>3.0</td>\n",
              "      <td>1</td>\n",
              "    </tr>\n",
              "    <tr>\n",
              "      <th>4151430</th>\n",
              "      <td>spyespye</td>\n",
              "      <td>8</td>\n",
              "      <td>1</td>\n",
              "      <td>0</td>\n",
              "      <td>0</td>\n",
              "      <td>0</td>\n",
              "      <td>0</td>\n",
              "      <td>0</td>\n",
              "      <td>0</td>\n",
              "      <td>5.0</td>\n",
              "      <td>1</td>\n",
              "    </tr>\n",
              "    <tr>\n",
              "      <th>4151432</th>\n",
              "      <td>jaydoggy</td>\n",
              "      <td>8</td>\n",
              "      <td>1</td>\n",
              "      <td>0</td>\n",
              "      <td>0</td>\n",
              "      <td>0</td>\n",
              "      <td>0</td>\n",
              "      <td>0</td>\n",
              "      <td>0</td>\n",
              "      <td>4.0</td>\n",
              "      <td>3</td>\n",
              "    </tr>\n",
              "    <tr>\n",
              "      <th>4151433</th>\n",
              "      <td>mimiandyesi</td>\n",
              "      <td>11</td>\n",
              "      <td>1</td>\n",
              "      <td>0</td>\n",
              "      <td>0</td>\n",
              "      <td>0</td>\n",
              "      <td>0</td>\n",
              "      <td>0</td>\n",
              "      <td>0</td>\n",
              "      <td>6.0</td>\n",
              "      <td>1</td>\n",
              "    </tr>\n",
              "    <tr>\n",
              "      <th>4151435</th>\n",
              "      <td>rossoneri</td>\n",
              "      <td>9</td>\n",
              "      <td>1</td>\n",
              "      <td>0</td>\n",
              "      <td>0</td>\n",
              "      <td>0</td>\n",
              "      <td>0</td>\n",
              "      <td>0</td>\n",
              "      <td>1</td>\n",
              "      <td>5.0</td>\n",
              "      <td>4</td>\n",
              "    </tr>\n",
              "    <tr>\n",
              "      <th>4151436</th>\n",
              "      <td>udilke</td>\n",
              "      <td>6</td>\n",
              "      <td>1</td>\n",
              "      <td>0</td>\n",
              "      <td>0</td>\n",
              "      <td>0</td>\n",
              "      <td>0</td>\n",
              "      <td>0</td>\n",
              "      <td>0</td>\n",
              "      <td>3.0</td>\n",
              "      <td>2</td>\n",
              "    </tr>\n",
              "    <tr>\n",
              "      <th>4151437</th>\n",
              "      <td>innercore</td>\n",
              "      <td>9</td>\n",
              "      <td>1</td>\n",
              "      <td>0</td>\n",
              "      <td>0</td>\n",
              "      <td>0</td>\n",
              "      <td>0</td>\n",
              "      <td>0</td>\n",
              "      <td>1</td>\n",
              "      <td>2.0</td>\n",
              "      <td>1</td>\n",
              "    </tr>\n",
              "    <tr>\n",
              "      <th>4151439</th>\n",
              "      <td>nfrnjxyj</td>\n",
              "      <td>8</td>\n",
              "      <td>1</td>\n",
              "      <td>0</td>\n",
              "      <td>0</td>\n",
              "      <td>0</td>\n",
              "      <td>0</td>\n",
              "      <td>0</td>\n",
              "      <td>0</td>\n",
              "      <td>6.0</td>\n",
              "      <td>1</td>\n",
              "    </tr>\n",
              "    <tr>\n",
              "      <th>4151440</th>\n",
              "      <td>radwa</td>\n",
              "      <td>5</td>\n",
              "      <td>1</td>\n",
              "      <td>0</td>\n",
              "      <td>0</td>\n",
              "      <td>0</td>\n",
              "      <td>0</td>\n",
              "      <td>0</td>\n",
              "      <td>0</td>\n",
              "      <td>3.0</td>\n",
              "      <td>1</td>\n",
              "    </tr>\n",
              "    <tr>\n",
              "      <th>4151446</th>\n",
              "      <td>maratushka</td>\n",
              "      <td>10</td>\n",
              "      <td>1</td>\n",
              "      <td>0</td>\n",
              "      <td>0</td>\n",
              "      <td>0</td>\n",
              "      <td>0</td>\n",
              "      <td>0</td>\n",
              "      <td>1</td>\n",
              "      <td>5.0</td>\n",
              "      <td>2</td>\n",
              "    </tr>\n",
              "    <tr>\n",
              "      <th>4151452</th>\n",
              "      <td>ranit</td>\n",
              "      <td>5</td>\n",
              "      <td>1</td>\n",
              "      <td>0</td>\n",
              "      <td>0</td>\n",
              "      <td>0</td>\n",
              "      <td>0</td>\n",
              "      <td>0</td>\n",
              "      <td>1</td>\n",
              "      <td>2.0</td>\n",
              "      <td>4</td>\n",
              "    </tr>\n",
              "    <tr>\n",
              "      <th>4151468</th>\n",
              "      <td>pooput</td>\n",
              "      <td>6</td>\n",
              "      <td>1</td>\n",
              "      <td>0</td>\n",
              "      <td>0</td>\n",
              "      <td>0</td>\n",
              "      <td>0</td>\n",
              "      <td>0</td>\n",
              "      <td>1</td>\n",
              "      <td>3.0</td>\n",
              "      <td>1</td>\n",
              "    </tr>\n",
              "    <tr>\n",
              "      <th>4151470</th>\n",
              "      <td>deneri</td>\n",
              "      <td>6</td>\n",
              "      <td>1</td>\n",
              "      <td>0</td>\n",
              "      <td>0</td>\n",
              "      <td>0</td>\n",
              "      <td>0</td>\n",
              "      <td>0</td>\n",
              "      <td>1</td>\n",
              "      <td>3.0</td>\n",
              "      <td>1</td>\n",
              "    </tr>\n",
              "    <tr>\n",
              "      <th>4151475</th>\n",
              "      <td>bozidar</td>\n",
              "      <td>7</td>\n",
              "      <td>1</td>\n",
              "      <td>0</td>\n",
              "      <td>0</td>\n",
              "      <td>0</td>\n",
              "      <td>0</td>\n",
              "      <td>0</td>\n",
              "      <td>0</td>\n",
              "      <td>4.0</td>\n",
              "      <td>1</td>\n",
              "    </tr>\n",
              "    <tr>\n",
              "      <th>4151477</th>\n",
              "      <td>frontthr</td>\n",
              "      <td>8</td>\n",
              "      <td>1</td>\n",
              "      <td>0</td>\n",
              "      <td>0</td>\n",
              "      <td>0</td>\n",
              "      <td>0</td>\n",
              "      <td>0</td>\n",
              "      <td>1</td>\n",
              "      <td>3.0</td>\n",
              "      <td>1</td>\n",
              "    </tr>\n",
              "    <tr>\n",
              "      <th>4151479</th>\n",
              "      <td>lafair</td>\n",
              "      <td>6</td>\n",
              "      <td>1</td>\n",
              "      <td>0</td>\n",
              "      <td>0</td>\n",
              "      <td>0</td>\n",
              "      <td>0</td>\n",
              "      <td>0</td>\n",
              "      <td>1</td>\n",
              "      <td>2.0</td>\n",
              "      <td>1</td>\n",
              "    </tr>\n",
              "    <tr>\n",
              "      <th>4151487</th>\n",
              "      <td>jamper</td>\n",
              "      <td>6</td>\n",
              "      <td>1</td>\n",
              "      <td>0</td>\n",
              "      <td>0</td>\n",
              "      <td>0</td>\n",
              "      <td>0</td>\n",
              "      <td>0</td>\n",
              "      <td>1</td>\n",
              "      <td>2.0</td>\n",
              "      <td>4</td>\n",
              "    </tr>\n",
              "    <tr>\n",
              "      <th>4151488</th>\n",
              "      <td>sokarr</td>\n",
              "      <td>6</td>\n",
              "      <td>1</td>\n",
              "      <td>0</td>\n",
              "      <td>0</td>\n",
              "      <td>0</td>\n",
              "      <td>0</td>\n",
              "      <td>0</td>\n",
              "      <td>0</td>\n",
              "      <td>4.0</td>\n",
              "      <td>1</td>\n",
              "    </tr>\n",
              "    <tr>\n",
              "      <th>4151490</th>\n",
              "      <td>trou</td>\n",
              "      <td>4</td>\n",
              "      <td>1</td>\n",
              "      <td>0</td>\n",
              "      <td>0</td>\n",
              "      <td>0</td>\n",
              "      <td>0</td>\n",
              "      <td>0</td>\n",
              "      <td>0</td>\n",
              "      <td>1.0</td>\n",
              "      <td>2</td>\n",
              "    </tr>\n",
              "  </tbody>\n",
              "</table>\n",
              "<p>200 rows × 11 columns</p>\n",
              "</div>"
            ],
            "text/plain": [
              "             Password  lenght  number_letter  ...  indicators  morph_numbers  Times\n",
              "4150725        treide       6              1  ...           0            3.0      1\n",
              "4150730      croclook       8              1  ...           1            4.0      1\n",
              "4150742       traplik       7              1  ...           1            2.0      1\n",
              "4150757      dillsboy       8              1  ...           1            4.0      2\n",
              "4150761       sidereg       7              1  ...           1            2.0      1\n",
              "4150765      ggthekin       8              1  ...           1            4.0      1\n",
              "4150766   andrzejeski      11              1  ...           1            4.0      1\n",
              "4150767  smpdfgsmpdfg      12              1  ...           0            8.0      1\n",
              "4150768        beloit       6              1  ...           1            2.0     16\n",
              "4150776      renodoug       8              1  ...           0            4.0      1\n",
              "4150777  steveleblanc      12              1  ...           1            4.0      1\n",
              "4150780       wairimu       7              1  ...           0            3.0      2\n",
              "4150782      chateaux       8              1  ...           1            3.0     10\n",
              "4150785        kmfdml       6              1  ...           0            5.0      1\n",
              "4150791      gonaugee       8              1  ...           1            4.0      1\n",
              "4150794         slats       5              1  ...           0            4.0      1\n",
              "4150799      ghkdlxld       8              1  ...           0            6.0      3\n",
              "4150800      margouli       8              1  ...           1            4.0      2\n",
              "4150808        koaxyj       6              1  ...           0            4.0      1\n",
              "4150816       forword       7              1  ...           1            2.0      1\n",
              "4150822     shadeeric       9              1  ...           1            4.0      1\n",
              "4150826        zrippe       6              1  ...           1            3.0      1\n",
              "4150827   parasgheerr      11              1  ...           1            6.0      1\n",
              "4150828       sashich       7              1  ...           0            3.0      1\n",
              "4150843      lavaagal       8              1  ...           1            4.0      1\n",
              "4150846      gbiuwmge       8              1  ...           0            6.0      1\n",
              "4150850        pasado       6              1  ...           1            3.0      1\n",
              "4150856      coreyboy       8              1  ...           1            3.0      1\n",
              "4150861       tyrolia       7              1  ...           0            3.0      2\n",
              "4150864     bedstands       9              1  ...           1            3.0      1\n",
              "...               ...     ...            ...  ...         ...            ...    ...\n",
              "4151390     aakaakaak       9              1  ...           1            4.0      1\n",
              "4151393   andrejdeker      11              1  ...           1            5.0      1\n",
              "4151394     gorgypark       9              1  ...           1            3.0      1\n",
              "4151397    telefonbox      10              1  ...           1            4.0      1\n",
              "4151398    sirhcchris      10              1  ...           0            6.0      1\n",
              "4151399      careyann       8              1  ...           1            3.0      1\n",
              "4151400    ufhbgjnnth      10              1  ...           0            2.0      2\n",
              "4151404    ilovecasey      10              1  ...           1            4.0      1\n",
              "4151411      cybervik       8              1  ...           1            4.0      1\n",
              "4151419      hellohel       8              1  ...           1            2.0     45\n",
              "4151420        mtgzik       6              1  ...           0            5.0      1\n",
              "4151428        viovus       6              1  ...           0            3.0      1\n",
              "4151430      spyespye       8              1  ...           0            5.0      1\n",
              "4151432      jaydoggy       8              1  ...           0            4.0      3\n",
              "4151433   mimiandyesi      11              1  ...           0            6.0      1\n",
              "4151435     rossoneri       9              1  ...           1            5.0      4\n",
              "4151436        udilke       6              1  ...           0            3.0      2\n",
              "4151437     innercore       9              1  ...           1            2.0      1\n",
              "4151439      nfrnjxyj       8              1  ...           0            6.0      1\n",
              "4151440         radwa       5              1  ...           0            3.0      1\n",
              "4151446    maratushka      10              1  ...           1            5.0      2\n",
              "4151452         ranit       5              1  ...           1            2.0      4\n",
              "4151468        pooput       6              1  ...           1            3.0      1\n",
              "4151470        deneri       6              1  ...           1            3.0      1\n",
              "4151475       bozidar       7              1  ...           0            4.0      1\n",
              "4151477      frontthr       8              1  ...           1            3.0      1\n",
              "4151479        lafair       6              1  ...           1            2.0      1\n",
              "4151487        jamper       6              1  ...           1            2.0      4\n",
              "4151488        sokarr       6              1  ...           0            4.0      1\n",
              "4151490          trou       4              1  ...           0            1.0      2\n",
              "\n",
              "[200 rows x 11 columns]"
            ]
          },
          "metadata": {
            "tags": []
          },
          "execution_count": 224
        }
      ]
    },
    {
      "cell_type": "markdown",
      "metadata": {
        "id": "875yWetixEtB",
        "colab_type": "text"
      },
      "source": [
        "# Test"
      ]
    },
    {
      "cell_type": "code",
      "metadata": {
        "id": "QpS9hkaMuV5s",
        "colab_type": "code",
        "colab": {}
      },
      "source": [
        "read_file = open('test_morph_numbers.json')\n",
        "test_morph_numbers = np.array(json.load(read_file))"
      ],
      "execution_count": 0,
      "outputs": []
    },
    {
      "cell_type": "code",
      "metadata": {
        "id": "4uX-rJQg3Yfj",
        "colab_type": "code",
        "colab": {}
      },
      "source": [
        "'''\n",
        "read_file = open('test_indicators.json')\n",
        "test_indicators = np.array(json.load(read_file))\n",
        "'''"
      ],
      "execution_count": 0,
      "outputs": []
    },
    {
      "cell_type": "code",
      "metadata": {
        "id": "2covCPoaxGT7",
        "colab_type": "code",
        "outputId": "34b438dc-f641-4278-eeb6-b75ca4d1272c",
        "colab": {
          "base_uri": "https://localhost:8080/",
          "height": 51
        }
      },
      "source": [
        "%%time\n",
        "data_test = pd.read_csv(\"Xtest.csv\")\n",
        "data_test.fillna(\"*****\", inplace=True)\n",
        "\n",
        "data_test.reset_index(drop=True, inplace=True)\n",
        "# There is problem\n",
        "data_2 = Create_DF(data_test, top_morphemes, test_morph_numbers)\n"
      ],
      "execution_count": 19,
      "outputs": [
        {
          "output_type": "stream",
          "text": [
            "CPU times: user 10.5 s, sys: 53.9 ms, total: 10.5 s\n",
            "Wall time: 10.5 s\n"
          ],
          "name": "stdout"
        }
      ]
    },
    {
      "cell_type": "code",
      "metadata": {
        "id": "SgDAgltmb7aL",
        "colab_type": "code",
        "outputId": "b0fa621c-9395-4597-f8eb-38c8608712d3",
        "colab": {
          "base_uri": "https://localhost:8080/",
          "height": 204
        }
      },
      "source": [
        "data_2"
      ],
      "execution_count": 22,
      "outputs": [
        {
          "output_type": "execute_result",
          "data": {
            "text/html": [
              "<div>\n",
              "<style scoped>\n",
              "    .dataframe tbody tr th:only-of-type {\n",
              "        vertical-align: middle;\n",
              "    }\n",
              "\n",
              "    .dataframe tbody tr th {\n",
              "        vertical-align: top;\n",
              "    }\n",
              "\n",
              "    .dataframe thead th {\n",
              "        text-align: right;\n",
              "    }\n",
              "</style>\n",
              "<table border=\"1\" class=\"dataframe\">\n",
              "  <thead>\n",
              "    <tr style=\"text-align: right;\">\n",
              "      <th></th>\n",
              "      <th>Password</th>\n",
              "      <th>lenght</th>\n",
              "      <th>is_digit</th>\n",
              "      <th>is_word</th>\n",
              "      <th>is_polyndrom</th>\n",
              "      <th>is_data</th>\n",
              "      <th>is_sequence</th>\n",
              "      <th>onesymbol</th>\n",
              "      <th>morph_numbers</th>\n",
              "    </tr>\n",
              "  </thead>\n",
              "  <tbody>\n",
              "    <tr>\n",
              "      <th>0</th>\n",
              "      <td>ThaisCunha</td>\n",
              "      <td>10</td>\n",
              "      <td>0</td>\n",
              "      <td>False</td>\n",
              "      <td>0</td>\n",
              "      <td>0</td>\n",
              "      <td>0</td>\n",
              "      <td>0</td>\n",
              "      <td>5</td>\n",
              "    </tr>\n",
              "    <tr>\n",
              "      <th>1</th>\n",
              "      <td>697775113</td>\n",
              "      <td>9</td>\n",
              "      <td>1</td>\n",
              "      <td>False</td>\n",
              "      <td>0</td>\n",
              "      <td>0</td>\n",
              "      <td>0</td>\n",
              "      <td>0</td>\n",
              "      <td>5</td>\n",
              "    </tr>\n",
              "    <tr>\n",
              "      <th>2</th>\n",
              "      <td>922a16922a</td>\n",
              "      <td>10</td>\n",
              "      <td>0</td>\n",
              "      <td>False</td>\n",
              "      <td>0</td>\n",
              "      <td>0</td>\n",
              "      <td>0</td>\n",
              "      <td>0</td>\n",
              "      <td>8</td>\n",
              "    </tr>\n",
              "    <tr>\n",
              "      <th>3</th>\n",
              "      <td>andy74</td>\n",
              "      <td>6</td>\n",
              "      <td>0</td>\n",
              "      <td>False</td>\n",
              "      <td>0</td>\n",
              "      <td>0</td>\n",
              "      <td>0</td>\n",
              "      <td>0</td>\n",
              "      <td>4</td>\n",
              "    </tr>\n",
              "    <tr>\n",
              "      <th>4</th>\n",
              "      <td>joemack</td>\n",
              "      <td>7</td>\n",
              "      <td>0</td>\n",
              "      <td>True</td>\n",
              "      <td>0</td>\n",
              "      <td>0</td>\n",
              "      <td>0</td>\n",
              "      <td>0</td>\n",
              "      <td>4</td>\n",
              "    </tr>\n",
              "  </tbody>\n",
              "</table>\n",
              "</div>"
            ],
            "text/plain": [
              "     Password  lenght  is_digit  ...  is_sequence  onesymbol  morph_numbers\n",
              "0  ThaisCunha      10         0  ...            0          0              5\n",
              "1   697775113       9         1  ...            0          0              5\n",
              "2  922a16922a      10         0  ...            0          0              8\n",
              "3      andy74       6         0  ...            0          0              4\n",
              "4     joemack       7         0  ...            0          0              4\n",
              "\n",
              "[5 rows x 9 columns]"
            ]
          },
          "metadata": {
            "tags": []
          },
          "execution_count": 22
        }
      ]
    },
    {
      "cell_type": "code",
      "metadata": {
        "id": "UkBV8izK0-wj",
        "colab_type": "code",
        "colab": {}
      },
      "source": [
        "X_send = data_2.iloc[:,1:]\n",
        "prediction = np.array(gs.best_estimator_.predict(X_send)).ravel()\n",
        "prediction = np.exp(prediction) - 1\n",
        "answer = pd.DataFrame({\"Id\": np.arange(data_test.shape[0]), \"Times\":prediction})"
      ],
      "execution_count": 0,
      "outputs": []
    },
    {
      "cell_type": "code",
      "metadata": {
        "id": "_C-uQM5I5BBR",
        "colab_type": "code",
        "colab": {}
      },
      "source": [
        "answer.to_csv(\"answer_xgb_grid.csv\", index=False)"
      ],
      "execution_count": 0,
      "outputs": []
    },
    {
      "cell_type": "code",
      "metadata": {
        "id": "IIc5Neqt6Npb",
        "colab_type": "code",
        "outputId": "b60e0ecd-41da-4a30-8bb4-1eae193ee782",
        "colab": {
          "base_uri": "https://localhost:8080/",
          "height": 204
        }
      },
      "source": [
        "answer.head()"
      ],
      "execution_count": 45,
      "outputs": [
        {
          "output_type": "execute_result",
          "data": {
            "text/html": [
              "<div>\n",
              "<style scoped>\n",
              "    .dataframe tbody tr th:only-of-type {\n",
              "        vertical-align: middle;\n",
              "    }\n",
              "\n",
              "    .dataframe tbody tr th {\n",
              "        vertical-align: top;\n",
              "    }\n",
              "\n",
              "    .dataframe thead th {\n",
              "        text-align: right;\n",
              "    }\n",
              "</style>\n",
              "<table border=\"1\" class=\"dataframe\">\n",
              "  <thead>\n",
              "    <tr style=\"text-align: right;\">\n",
              "      <th></th>\n",
              "      <th>Id</th>\n",
              "      <th>Times</th>\n",
              "    </tr>\n",
              "  </thead>\n",
              "  <tbody>\n",
              "    <tr>\n",
              "      <th>0</th>\n",
              "      <td>0</td>\n",
              "      <td>1.056527</td>\n",
              "    </tr>\n",
              "    <tr>\n",
              "      <th>1</th>\n",
              "      <td>1</td>\n",
              "      <td>1.080191</td>\n",
              "    </tr>\n",
              "    <tr>\n",
              "      <th>2</th>\n",
              "      <td>2</td>\n",
              "      <td>1.049970</td>\n",
              "    </tr>\n",
              "    <tr>\n",
              "      <th>3</th>\n",
              "      <td>3</td>\n",
              "      <td>1.274256</td>\n",
              "    </tr>\n",
              "    <tr>\n",
              "      <th>4</th>\n",
              "      <td>4</td>\n",
              "      <td>1.208216</td>\n",
              "    </tr>\n",
              "  </tbody>\n",
              "</table>\n",
              "</div>"
            ],
            "text/plain": [
              "   Id     Times\n",
              "0   0  1.056527\n",
              "1   1  1.080191\n",
              "2   2  1.049970\n",
              "3   3  1.274256\n",
              "4   4  1.208216"
            ]
          },
          "metadata": {
            "tags": []
          },
          "execution_count": 45
        }
      ]
    }
  ]
}