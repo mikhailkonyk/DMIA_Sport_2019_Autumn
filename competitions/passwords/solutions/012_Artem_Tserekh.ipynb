{
 "cells": [
  {
   "cell_type": "code",
   "execution_count": 1,
   "metadata": {},
   "outputs": [],
   "source": [
    "import pandas as pd\n",
    "import numpy as np\n",
    "import matplotlib.pyplot as plt\n",
    "import glob\n",
    "import re\n",
    "from tqdm import tqdm\n",
    "from sklearn.metrics import mean_squared_error"
   ]
  },
  {
   "cell_type": "code",
   "execution_count": 2,
   "metadata": {},
   "outputs": [
    {
     "data": {
      "text/plain": [
       "['/home/tserekh/psw/sample_submission.csv.zip',\n",
       " '/home/tserekh/psw/Xtest.csv.zip',\n",
       " '/home/tserekh/psw/train.csv.zip']"
      ]
     },
     "execution_count": 2,
     "metadata": {},
     "output_type": "execute_result"
    }
   ],
   "source": [
    "glob.glob('/home/tserekh/psw/*')"
   ]
  },
  {
   "cell_type": "code",
   "execution_count": 3,
   "metadata": {},
   "outputs": [],
   "source": [
    "df_test = pd.read_csv('/home/tserekh/psw/Xtest.csv.zip',compression='zip')"
   ]
  },
  {
   "cell_type": "code",
   "execution_count": 4,
   "metadata": {},
   "outputs": [],
   "source": [
    "df_test['Password'] = df_test['Password'].astype(str)"
   ]
  },
  {
   "cell_type": "code",
   "execution_count": 5,
   "metadata": {},
   "outputs": [],
   "source": [
    "df_train = pd.read_csv('/home/tserekh/psw/train.csv.zip',compression='zip').dropna()"
   ]
  },
  {
   "cell_type": "code",
   "execution_count": 6,
   "metadata": {},
   "outputs": [],
   "source": [
    "df_sample = pd.read_csv('/home/tserekh/psw/sample_submission.csv.zip',compression='zip')"
   ]
  },
  {
   "cell_type": "code",
   "execution_count": null,
   "metadata": {},
   "outputs": [],
   "source": []
  },
  {
   "cell_type": "code",
   "execution_count": 7,
   "metadata": {},
   "outputs": [
    {
     "data": {
      "text/plain": [
       "<_sre.SRE_Match object; span=(0, 8), match='23111994'>"
      ]
     },
     "execution_count": 7,
     "metadata": {},
     "output_type": "execute_result"
    }
   ],
   "source": [
    "import re\n",
    "\n",
    "txt = \"23111994\"\n",
    "re.match(r'^.*19..$', txt)"
   ]
  },
  {
   "cell_type": "code",
   "execution_count": 8,
   "metadata": {},
   "outputs": [
    {
     "data": {
      "text/plain": [
       "'\\\\.'"
      ]
     },
     "execution_count": 8,
     "metadata": {},
     "output_type": "execute_result"
    }
   ],
   "source": [
    "\"\\.\""
   ]
  },
  {
   "cell_type": "code",
   "execution_count": 9,
   "metadata": {},
   "outputs": [
    {
     "data": {
      "text/plain": [
       "'^.*,'"
      ]
     },
     "execution_count": 9,
     "metadata": {},
     "output_type": "execute_result"
    }
   ],
   "source": [
    "\"^.*,\""
   ]
  },
  {
   "cell_type": "code",
   "execution_count": 10,
   "metadata": {},
   "outputs": [
    {
     "name": "stderr",
     "output_type": "stream",
     "text": [
      "/home/tserekh/env/lib/python3.6/site-packages/pandas/core/frame.py:6211: FutureWarning: Sorting because non-concatenation axis is not aligned. A future version\n",
      "of pandas will change to not sort by default.\n",
      "\n",
      "To accept the future behavior, pass 'sort=False'.\n",
      "\n",
      "To retain the current behavior and silence the warning, pass 'sort=True'.\n",
      "\n",
      "  sort=sort)\n"
     ]
    }
   ],
   "source": [
    "df = df_train.append(df_test)"
   ]
  },
  {
   "cell_type": "code",
   "execution_count": 11,
   "metadata": {},
   "outputs": [
    {
     "data": {
      "text/plain": [
       "('^[a-z]',)"
      ]
     },
     "execution_count": 11,
     "metadata": {},
     "output_type": "execute_result"
    }
   ],
   "source": [
    "r'^.*[a-z]$',\n",
    "r'^.*[a-z]',\n",
    "r'^[a-z]',"
   ]
  },
  {
   "cell_type": "code",
   "execution_count": 12,
   "metadata": {},
   "outputs": [],
   "source": [
    "import re\n",
    " \n",
    "str = \"123456790abcdefABCDEF!@#$%^&*()_+<>?,./\"\n",
    "result = re.sub(r'[^a-zA-Z]', \"\", str)"
   ]
  },
  {
   "cell_type": "code",
   "execution_count": 19,
   "metadata": {},
   "outputs": [],
   "source": [
    "vc = df['Password'].apply(lambda x: re.sub(r'[^a-zA-Z]', \"\", x).lower()).value_counts()"
   ]
  },
  {
   "cell_type": "code",
   "execution_count": 20,
   "metadata": {},
   "outputs": [],
   "source": [
    "from collections import defaultdict"
   ]
  },
  {
   "cell_type": "code",
   "execution_count": 21,
   "metadata": {},
   "outputs": [
    {
     "data": {
      "text/plain": [
       "defaultdict(int, {'a': 1})"
      ]
     },
     "execution_count": 21,
     "metadata": {},
     "output_type": "execute_result"
    }
   ],
   "source": [
    "defaultdict(int,{'a':1})"
   ]
  },
  {
   "cell_type": "code",
   "execution_count": 33,
   "metadata": {},
   "outputs": [],
   "source": [
    "freq_dict = vc.to_dict()\n",
    "\n",
    "freq_dict = {key:value for key,value in freq_dict.items() if len(key)>=3 and value>50}\n",
    "\n",
    "# freq_dict = defaultdict(int,freq_dict)"
   ]
  },
  {
   "cell_type": "code",
   "execution_count": 34,
   "metadata": {},
   "outputs": [],
   "source": [
    "def mega_freq(x):\n",
    "    x = x.lower()\n",
    "    for key in freq_dict.keys():\n",
    "        if key in x:\n",
    "            return freq_dict[key]\n",
    "    return 0"
   ]
  },
  {
   "cell_type": "code",
   "execution_count": 35,
   "metadata": {},
   "outputs": [],
   "source": [
    "df['mega_freq'] = df['Password'].apply(mega_freq)"
   ]
  },
  {
   "cell_type": "code",
   "execution_count": 36,
   "metadata": {},
   "outputs": [
    {
     "data": {
      "text/plain": [
       "4267"
      ]
     },
     "execution_count": 36,
     "metadata": {},
     "output_type": "execute_result"
    }
   ],
   "source": [
    "len(freq_dict)"
   ]
  },
  {
   "cell_type": "code",
   "execution_count": 37,
   "metadata": {},
   "outputs": [],
   "source": [
    "regexs = [#\"[$&+,:;=?@#|'<>.^*()%!-]\",\n",
    "r'^.*[a-z]$',\n",
    "r'^.*[a-z]',\n",
    "r'^[a-z]',\n",
    "r'^.*[A-Z]$',\n",
    "r'^.*[A-Z]',\n",
    "r'^[A-Z]',\n",
    "r'^.*[0-9]$',\n",
    "r'^.*[0-9]',\n",
    "r'^[0-9]',\n",
    "    r'^Q',\n",
    "    r'^q',\n",
    "    r'^.*123',\n",
    "    r'^.*12',\n",
    "    r'^.*abc',\n",
    "    r'^.*ab',\n",
    "        r'^.*19..$',\n",
    "        r'^.*{}'.format('|'.join(['jessica', 'michelle', 'computer', 'ass',\n",
    "       'george', 'klaster', 'starwars', 'daniel', 'ranger',\n",
    "       'hockey', '2000', 'fuck', 'sunshine', 'batman', 'soccer',\n",
    "       'hunter', 'asdfgh', 'zxcvbnm', 'jennifer', 'jordan', 'killer',\n",
    "       '123qwe', 'qazwsx', '121212',  \n",
    "       'pussy',  'mustang', 'qwertyuiop', '666666', 'master',\n",
    "       'shadow', 'letmein', 'football', 'baseball', '123123',\n",
    "       'dragon', ])),\n",
    "r'^19',\n",
    "         ] + [f'^.*{i}$' for i in range(10)]+[f'^{i}' for i in range(10)]+\\\n",
    "[f'^{i}' for i in range(10)]"
   ]
  },
  {
   "cell_type": "code",
   "execution_count": 38,
   "metadata": {},
   "outputs": [],
   "source": [
    "# pd.Series(list(''.join(df['Password'].iloc[:10000].values))).value_counts()"
   ]
  },
  {
   "cell_type": "code",
   "execution_count": 39,
   "metadata": {},
   "outputs": [
    {
     "name": "stdout",
     "output_type": "stream",
     "text": [
      "^.*[a-z]$ 0.463\n",
      "^.*[a-z] 0.8421\n",
      "^[a-z] 0.6281\n",
      "^.*[A-Z]$ 0.0539\n",
      "^.*[A-Z] 0.1673\n",
      "^[A-Z] 0.1053\n",
      "^.*[0-9]$ 0.4793\n",
      "^.*[0-9] 0.6809\n",
      "^[0-9] 0.2656\n",
      "^Q 0.0018\n",
      "^q 0.0055\n",
      "^.*123 0.0184\n",
      "^.*12 0.0515\n",
      "^.*abc 0.0007\n",
      "^.*ab 0.0123\n",
      "^.*19..$ 0.0295\n",
      "^.*jessica|michelle|computer|ass|george|klaster|starwars|daniel|ranger|hockey|2000|fuck|sunshine|batman|soccer|hunter|asdfgh|zxcvbnm|jennifer|jordan|killer|123qwe|qazwsx|121212|pussy|mustang|qwertyuiop|666666|master|shadow|letmein|football|baseball|123123|dragon 0.0083\n",
      "^19 0.0106\n",
      "^.*0$ 0.0464\n",
      "^.*1$ 0.0744\n",
      "^.*2$ 0.0495\n",
      "^.*3$ 0.0516\n",
      "^.*4$ 0.0399\n",
      "^.*5$ 0.0441\n",
      "^.*6$ 0.0402\n",
      "^.*7$ 0.0456\n",
      "^.*8$ 0.0423\n",
      "^.*9$ 0.0453\n",
      "^0 0.0291\n",
      "^1 0.0592\n",
      "^2 0.0375\n",
      "^3 0.0255\n",
      "^4 0.0194\n",
      "^5 0.0214\n",
      "^6 0.0161\n",
      "^7 0.0186\n",
      "^8 0.0204\n",
      "^9 0.0184\n",
      "^0 0.0291\n",
      "^1 0.0592\n",
      "^2 0.0375\n",
      "^3 0.0255\n",
      "^4 0.0194\n",
      "^5 0.0214\n",
      "^6 0.0161\n",
      "^7 0.0186\n",
      "^8 0.0204\n",
      "^9 0.0184\n"
     ]
    }
   ],
   "source": [
    "for regex in regexs:\n",
    "    print(regex,end=' ')\n",
    "    print(df['Password'].iloc[:10000].apply(lambda x: re.match(regex, x) is not None).astype(int).mean())"
   ]
  },
  {
   "cell_type": "code",
   "execution_count": 40,
   "metadata": {},
   "outputs": [
    {
     "name": "stdout",
     "output_type": "stream",
     "text": [
      "^.*[a-z]$ ^.*[a-z] ^[a-z] ^.*[A-Z]$ ^.*[A-Z] ^[A-Z] ^.*[0-9]$ ^.*[0-9] ^[0-9] ^Q ^q ^.*123 ^.*12 ^.*abc ^.*ab ^.*19..$ ^.*jessica|michelle|computer|ass|george|klaster|starwars|daniel|ranger|hockey|2000|fuck|sunshine|batman|soccer|hunter|asdfgh|zxcvbnm|jennifer|jordan|killer|123qwe|qazwsx|121212|pussy|mustang|qwertyuiop|666666|master|shadow|letmein|football|baseball|123123|dragon ^19 ^.*0$ ^.*1$ ^.*2$ ^.*3$ ^.*4$ ^.*5$ ^.*6$ ^.*7$ ^.*8$ ^.*9$ ^0 ^1 ^2 ^3 ^4 ^5 ^6 ^7 ^8 ^9 ^0 ^1 ^2 ^3 ^4 ^5 ^6 ^7 ^8 ^9 "
     ]
    }
   ],
   "source": [
    "for regex in regexs:\n",
    "    print(regex,end=' ')\n",
    "    df[regex] = df['Password'].apply(lambda x: re.match(regex, x) is not None).astype(int)"
   ]
  },
  {
   "cell_type": "code",
   "execution_count": 41,
   "metadata": {},
   "outputs": [
    {
     "data": {
      "text/plain": [
       "array(['zxcvbn', '1111', 'jessica', 'michelle', 'computer', 'asshole',\n",
       "       'george', '112233', 'klaster', 'starwars', 'daniel', 'ranger',\n",
       "       'hockey', '2000', 'fuckme', 'sunshine', 'batman', 'soccer',\n",
       "       'hunter', 'asdfgh', 'zxcvbnm', 'jennifer', 'jordan', 'killer',\n",
       "       '123qwe', 'qazwsx', '121212', 'fuckyou', '7777777', '1qaz2wsx',\n",
       "       'pussy', '654321', 'mustang', 'qwertyuiop', '666666', 'master',\n",
       "       'shadow', 'letmein', 'football', 'abc123', 'baseball', '123123',\n",
       "       'dragon', '1234567', '111111', '1234', '12345', '123456789',\n",
       "       'qwerty', '123456'], dtype=object)"
      ]
     },
     "execution_count": 41,
     "metadata": {},
     "output_type": "execute_result"
    }
   ],
   "source": [
    "df[['Password','Times']].dropna().sort_values('Times')['Password'].values[-50:]"
   ]
  },
  {
   "cell_type": "code",
   "execution_count": 42,
   "metadata": {},
   "outputs": [],
   "source": [
    "df['unique_symbols'] = df['Password'].apply(lambda x: len(set(x)))\n",
    "df['len'] = df['Password'].apply(lambda x: len(x))\n",
    "df['unique_symbols/len']=df['unique_symbols']/df['len']"
   ]
  },
  {
   "cell_type": "code",
   "execution_count": 43,
   "metadata": {},
   "outputs": [],
   "source": [
    "features = regexs.copy()\n",
    "features.append('unique_symbols')\n",
    "features.append('len')\n",
    "features.append('unique_symbols/len')\n",
    "features.append('mega_freq')\n",
    "\n",
    "for pattern in ['[a-z]','[A-Z]','[0-9]',\"[$&+,:;=?@#|'<>.^*()%!-]\"]:\n",
    "    df[pattern+'_count'] = df['Password'].apply(lambda x: len(re.findall(pattern,x)))\n",
    "    features.append(pattern+'_count')"
   ]
  },
  {
   "cell_type": "code",
   "execution_count": 44,
   "metadata": {},
   "outputs": [
    {
     "data": {
      "text/plain": [
       "0     839625\n",
       "6     767353\n",
       "5     590078\n",
       "7     529281\n",
       "4     522919\n",
       "8     501507\n",
       "3     382781\n",
       "2     245387\n",
       "1     208242\n",
       "9     199410\n",
       "10    131620\n",
       "11     79286\n",
       "12     64930\n",
       "13     39658\n",
       "14     31519\n",
       "15     20125\n",
       "16     13829\n",
       "17      7023\n",
       "18      5285\n",
       "19      3295\n",
       "20      2398\n",
       "21      1344\n",
       "22       956\n",
       "23       484\n",
       "24       416\n",
       "25       180\n",
       "26       163\n",
       "27        81\n",
       "28        75\n",
       "29        41\n",
       "30        27\n",
       "31        12\n",
       "33        10\n",
       "32         9\n",
       "36         6\n",
       "38         5\n",
       "34         4\n",
       "39         2\n",
       "40         2\n",
       "35         1\n",
       "Name: [a-z]_count, dtype: int64"
      ]
     },
     "execution_count": 44,
     "metadata": {},
     "output_type": "execute_result"
    }
   ],
   "source": [
    "df['[a-z]'+'_count'].value_counts()"
   ]
  },
  {
   "cell_type": "code",
   "execution_count": 45,
   "metadata": {},
   "outputs": [
    {
     "name": "stderr",
     "output_type": "stream",
     "text": [
      "/home/tserekh/env/lib/python3.6/site-packages/sklearn/ensemble/weight_boosting.py:29: DeprecationWarning: numpy.core.umath_tests is an internal NumPy module and should not be imported. It will be removed in a future NumPy release.\n",
      "  from numpy.core.umath_tests import inner1d\n"
     ]
    }
   ],
   "source": [
    "from sklearn.ensemble import RandomForestRegressor"
   ]
  },
  {
   "cell_type": "code",
   "execution_count": 46,
   "metadata": {},
   "outputs": [],
   "source": [
    "reg = RandomForestRegressor(n_estimators=100,n_jobs=-1,verbose=1)"
   ]
  },
  {
   "cell_type": "code",
   "execution_count": 47,
   "metadata": {},
   "outputs": [],
   "source": [
    "filt = df['Times'].notnull()\n",
    "df_train_val = df[filt]\n",
    "df_test = df[filt==False]"
   ]
  },
  {
   "cell_type": "code",
   "execution_count": 48,
   "metadata": {},
   "outputs": [
    {
     "name": "stderr",
     "output_type": "stream",
     "text": [
      "/home/tserekh/env/lib/python3.6/site-packages/ipykernel_launcher.py:1: SettingWithCopyWarning: \n",
      "A value is trying to be set on a copy of a slice from a DataFrame.\n",
      "Try using .loc[row_indexer,col_indexer] = value instead\n",
      "\n",
      "See the caveats in the documentation: http://pandas.pydata.org/pandas-docs/stable/indexing.html#indexing-view-versus-copy\n",
      "  \"\"\"Entry point for launching an IPython kernel.\n"
     ]
    }
   ],
   "source": [
    "df_train_val['Times_log'] = np.log(df_train_val['Times']+1)"
   ]
  },
  {
   "cell_type": "code",
   "execution_count": 49,
   "metadata": {},
   "outputs": [],
   "source": [
    "df_train_val = df[filt]\n",
    "df_test = df[filt==False]"
   ]
  },
  {
   "cell_type": "code",
   "execution_count": 50,
   "metadata": {},
   "outputs": [],
   "source": [
    "from sklearn.model_selection import KFold"
   ]
  },
  {
   "cell_type": "code",
   "execution_count": 51,
   "metadata": {},
   "outputs": [],
   "source": [
    "target = 'Times_log'"
   ]
  },
  {
   "cell_type": "code",
   "execution_count": 52,
   "metadata": {},
   "outputs": [],
   "source": [
    "kf = KFold(n_splits=3,shuffle=True,random_state=42)"
   ]
  },
  {
   "cell_type": "code",
   "execution_count": 53,
   "metadata": {},
   "outputs": [
    {
     "name": "stderr",
     "output_type": "stream",
     "text": [
      "/home/tserekh/env/lib/python3.6/site-packages/ipykernel_launcher.py:1: SettingWithCopyWarning: \n",
      "A value is trying to be set on a copy of a slice from a DataFrame.\n",
      "Try using .loc[row_indexer,col_indexer] = value instead\n",
      "\n",
      "See the caveats in the documentation: http://pandas.pydata.org/pandas-docs/stable/indexing.html#indexing-view-versus-copy\n",
      "  \"\"\"Entry point for launching an IPython kernel.\n"
     ]
    }
   ],
   "source": [
    "df_train_val['Times_log']=np.log(df_train_val['Times']+1)"
   ]
  },
  {
   "cell_type": "code",
   "execution_count": 54,
   "metadata": {},
   "outputs": [],
   "source": [
    "from lightgbm import LGBMRegressor as lgbm_reg"
   ]
  },
  {
   "cell_type": "code",
   "execution_count": null,
   "metadata": {},
   "outputs": [],
   "source": []
  },
  {
   "cell_type": "code",
   "execution_count": null,
   "metadata": {},
   "outputs": [],
   "source": []
  },
  {
   "cell_type": "code",
   "execution_count": null,
   "metadata": {},
   "outputs": [],
   "source": []
  },
  {
   "cell_type": "code",
   "execution_count": 55,
   "metadata": {},
   "outputs": [
    {
     "data": {
      "text/plain": [
       "['^.*[a-z]$',\n",
       " '^.*[a-z]',\n",
       " '^[a-z]',\n",
       " '^.*[A-Z]$',\n",
       " '^.*[A-Z]',\n",
       " '^[A-Z]',\n",
       " '^.*[0-9]$',\n",
       " '^.*[0-9]',\n",
       " '^[0-9]',\n",
       " '^Q',\n",
       " '^q',\n",
       " '^.*123',\n",
       " '^.*12',\n",
       " '^.*abc',\n",
       " '^.*ab',\n",
       " '^.*19..$',\n",
       " '^.*jessica|michelle|computer|ass|george|klaster|starwars|daniel|ranger|hockey|2000|fuck|sunshine|batman|soccer|hunter|asdfgh|zxcvbnm|jennifer|jordan|killer|123qwe|qazwsx|121212|pussy|mustang|qwertyuiop|666666|master|shadow|letmein|football|baseball|123123|dragon',\n",
       " '^19',\n",
       " '^.*0$',\n",
       " '^.*1$',\n",
       " '^.*2$',\n",
       " '^.*3$',\n",
       " '^.*4$',\n",
       " '^.*5$',\n",
       " '^.*6$',\n",
       " '^.*7$',\n",
       " '^.*8$',\n",
       " '^.*9$',\n",
       " '^0',\n",
       " '^1',\n",
       " '^2',\n",
       " '^3',\n",
       " '^4',\n",
       " '^5',\n",
       " '^6',\n",
       " '^7',\n",
       " '^8',\n",
       " '^9',\n",
       " '^0',\n",
       " '^1',\n",
       " '^2',\n",
       " '^3',\n",
       " '^4',\n",
       " '^5',\n",
       " '^6',\n",
       " '^7',\n",
       " '^8',\n",
       " '^9',\n",
       " 'unique_symbols',\n",
       " 'len',\n",
       " 'unique_symbols/len',\n",
       " 'mega_freq',\n",
       " '[a-z]_count',\n",
       " '[A-Z]_count',\n",
       " '[0-9]_count',\n",
       " \"[$&+,:;=?@#|'<>.^*()%!-]_count\"]"
      ]
     },
     "execution_count": 55,
     "metadata": {},
     "output_type": "execute_result"
    }
   ],
   "source": [
    "features"
   ]
  },
  {
   "cell_type": "code",
   "execution_count": 66,
   "metadata": {},
   "outputs": [
    {
     "name": "stdout",
     "output_type": "stream",
     "text": [
      "\n",
      "0.4\n",
      "0.3634471217165673\n",
      "0.36480942840447855\n",
      "0.36358784662576515\n"
     ]
    }
   ],
   "source": [
    "df_submit = df_sample[['Id']].copy()\n",
    "from sklearn.ensemble import RandomForestRegressor\n",
    "reg = RandomForestRegressor(n_estimators=100,verbose=1,n_jobs=-1)\n",
    "# for learning_rate in 10.0**np.arange(-1.5,-0.1,0.2):\n",
    "learning_rate=0.4\n",
    "reg = lgbm_reg(verbose=1,learning_rate=learning_rate)\n",
    "print()\n",
    "print(learning_rate)\n",
    "i = 0\n",
    "for train_index, val_index in  kf.split(df_train_val):\n",
    "#     break\n",
    "\n",
    "    X_train, X_val = df_train_val.iloc[train_index][features].values, df_train_val.iloc[val_index][features].values\n",
    "    y_train, y_val = df_train_val.iloc[train_index][target].values, df_train_val.iloc[val_index][target].values\n",
    "\n",
    "    y_val.shape\n",
    "\n",
    "    reg.fit(X_train,y_train)\n",
    "\n",
    "    y_val_pred = reg.predict(X_val)\n",
    "\n",
    "    print(mean_squared_error(y_val,y_val_pred)**0.5)\n",
    "    if True:\n",
    "        df_submit[f'fold{i}']=reg.predict(df_test[features])\n",
    "    i+=1"
   ]
  },
  {
   "cell_type": "code",
   "execution_count": 67,
   "metadata": {},
   "outputs": [
    {
     "data": {
      "text/html": [
       "<div>\n",
       "<style scoped>\n",
       "    .dataframe tbody tr th:only-of-type {\n",
       "        vertical-align: middle;\n",
       "    }\n",
       "\n",
       "    .dataframe tbody tr th {\n",
       "        vertical-align: top;\n",
       "    }\n",
       "\n",
       "    .dataframe thead th {\n",
       "        text-align: right;\n",
       "    }\n",
       "</style>\n",
       "<table border=\"1\" class=\"dataframe\">\n",
       "  <thead>\n",
       "    <tr style=\"text-align: right;\">\n",
       "      <th></th>\n",
       "      <th>0</th>\n",
       "      <th>1</th>\n",
       "    </tr>\n",
       "  </thead>\n",
       "  <tbody>\n",
       "    <tr>\n",
       "      <th>51</th>\n",
       "      <td>mega_freq</td>\n",
       "      <td>660</td>\n",
       "    </tr>\n",
       "    <tr>\n",
       "      <th>49</th>\n",
       "      <td>len</td>\n",
       "      <td>414</td>\n",
       "    </tr>\n",
       "    <tr>\n",
       "      <th>48</th>\n",
       "      <td>unique_symbols</td>\n",
       "      <td>283</td>\n",
       "    </tr>\n",
       "    <tr>\n",
       "      <th>50</th>\n",
       "      <td>unique_symbols/len</td>\n",
       "      <td>251</td>\n",
       "    </tr>\n",
       "    <tr>\n",
       "      <th>54</th>\n",
       "      <td>[0-9]_count</td>\n",
       "      <td>202</td>\n",
       "    </tr>\n",
       "    <tr>\n",
       "      <th>52</th>\n",
       "      <td>[a-z]_count</td>\n",
       "      <td>195</td>\n",
       "    </tr>\n",
       "    <tr>\n",
       "      <th>15</th>\n",
       "      <td>^.*19..$</td>\n",
       "      <td>77</td>\n",
       "    </tr>\n",
       "    <tr>\n",
       "      <th>11</th>\n",
       "      <td>^.*123</td>\n",
       "      <td>68</td>\n",
       "    </tr>\n",
       "    <tr>\n",
       "      <th>12</th>\n",
       "      <td>^.*12</td>\n",
       "      <td>54</td>\n",
       "    </tr>\n",
       "    <tr>\n",
       "      <th>29</th>\n",
       "      <td>^1</td>\n",
       "      <td>53</td>\n",
       "    </tr>\n",
       "    <tr>\n",
       "      <th>19</th>\n",
       "      <td>^.*1$</td>\n",
       "      <td>52</td>\n",
       "    </tr>\n",
       "    <tr>\n",
       "      <th>2</th>\n",
       "      <td>^[a-z]</td>\n",
       "      <td>50</td>\n",
       "    </tr>\n",
       "    <tr>\n",
       "      <th>4</th>\n",
       "      <td>^.*[A-Z]</td>\n",
       "      <td>47</td>\n",
       "    </tr>\n",
       "    <tr>\n",
       "      <th>7</th>\n",
       "      <td>^.*[0-9]</td>\n",
       "      <td>45</td>\n",
       "    </tr>\n",
       "    <tr>\n",
       "      <th>16</th>\n",
       "      <td>^.*jessica|michelle|computer|ass|george|klaste...</td>\n",
       "      <td>41</td>\n",
       "    </tr>\n",
       "    <tr>\n",
       "      <th>1</th>\n",
       "      <td>^.*[a-z]</td>\n",
       "      <td>38</td>\n",
       "    </tr>\n",
       "    <tr>\n",
       "      <th>6</th>\n",
       "      <td>^.*[0-9]$</td>\n",
       "      <td>36</td>\n",
       "    </tr>\n",
       "    <tr>\n",
       "      <th>18</th>\n",
       "      <td>^.*0$</td>\n",
       "      <td>34</td>\n",
       "    </tr>\n",
       "    <tr>\n",
       "      <th>53</th>\n",
       "      <td>[A-Z]_count</td>\n",
       "      <td>33</td>\n",
       "    </tr>\n",
       "    <tr>\n",
       "      <th>30</th>\n",
       "      <td>^2</td>\n",
       "      <td>32</td>\n",
       "    </tr>\n",
       "    <tr>\n",
       "      <th>17</th>\n",
       "      <td>^19</td>\n",
       "      <td>26</td>\n",
       "    </tr>\n",
       "    <tr>\n",
       "      <th>0</th>\n",
       "      <td>^.*[a-z]$</td>\n",
       "      <td>25</td>\n",
       "    </tr>\n",
       "    <tr>\n",
       "      <th>28</th>\n",
       "      <td>^0</td>\n",
       "      <td>24</td>\n",
       "    </tr>\n",
       "    <tr>\n",
       "      <th>20</th>\n",
       "      <td>^.*2$</td>\n",
       "      <td>23</td>\n",
       "    </tr>\n",
       "    <tr>\n",
       "      <th>55</th>\n",
       "      <td>[$&amp;+,:;=?@#|'&lt;&gt;.^*()%!-]_count</td>\n",
       "      <td>20</td>\n",
       "    </tr>\n",
       "    <tr>\n",
       "      <th>22</th>\n",
       "      <td>^.*4$</td>\n",
       "      <td>18</td>\n",
       "    </tr>\n",
       "    <tr>\n",
       "      <th>10</th>\n",
       "      <td>^q</td>\n",
       "      <td>18</td>\n",
       "    </tr>\n",
       "    <tr>\n",
       "      <th>27</th>\n",
       "      <td>^.*9$</td>\n",
       "      <td>17</td>\n",
       "    </tr>\n",
       "    <tr>\n",
       "      <th>21</th>\n",
       "      <td>^.*3$</td>\n",
       "      <td>17</td>\n",
       "    </tr>\n",
       "    <tr>\n",
       "      <th>26</th>\n",
       "      <td>^.*8$</td>\n",
       "      <td>13</td>\n",
       "    </tr>\n",
       "    <tr>\n",
       "      <th>8</th>\n",
       "      <td>^[0-9]</td>\n",
       "      <td>13</td>\n",
       "    </tr>\n",
       "    <tr>\n",
       "      <th>37</th>\n",
       "      <td>^9</td>\n",
       "      <td>13</td>\n",
       "    </tr>\n",
       "    <tr>\n",
       "      <th>25</th>\n",
       "      <td>^.*7$</td>\n",
       "      <td>11</td>\n",
       "    </tr>\n",
       "    <tr>\n",
       "      <th>35</th>\n",
       "      <td>^7</td>\n",
       "      <td>10</td>\n",
       "    </tr>\n",
       "    <tr>\n",
       "      <th>36</th>\n",
       "      <td>^8</td>\n",
       "      <td>10</td>\n",
       "    </tr>\n",
       "    <tr>\n",
       "      <th>23</th>\n",
       "      <td>^.*5$</td>\n",
       "      <td>10</td>\n",
       "    </tr>\n",
       "    <tr>\n",
       "      <th>31</th>\n",
       "      <td>^3</td>\n",
       "      <td>10</td>\n",
       "    </tr>\n",
       "    <tr>\n",
       "      <th>32</th>\n",
       "      <td>^4</td>\n",
       "      <td>9</td>\n",
       "    </tr>\n",
       "    <tr>\n",
       "      <th>24</th>\n",
       "      <td>^.*6$</td>\n",
       "      <td>8</td>\n",
       "    </tr>\n",
       "    <tr>\n",
       "      <th>14</th>\n",
       "      <td>^.*ab</td>\n",
       "      <td>8</td>\n",
       "    </tr>\n",
       "    <tr>\n",
       "      <th>33</th>\n",
       "      <td>^5</td>\n",
       "      <td>8</td>\n",
       "    </tr>\n",
       "    <tr>\n",
       "      <th>34</th>\n",
       "      <td>^6</td>\n",
       "      <td>7</td>\n",
       "    </tr>\n",
       "    <tr>\n",
       "      <th>5</th>\n",
       "      <td>^[A-Z]</td>\n",
       "      <td>7</td>\n",
       "    </tr>\n",
       "    <tr>\n",
       "      <th>3</th>\n",
       "      <td>^.*[A-Z]$</td>\n",
       "      <td>6</td>\n",
       "    </tr>\n",
       "    <tr>\n",
       "      <th>13</th>\n",
       "      <td>^.*abc</td>\n",
       "      <td>3</td>\n",
       "    </tr>\n",
       "    <tr>\n",
       "      <th>9</th>\n",
       "      <td>^Q</td>\n",
       "      <td>1</td>\n",
       "    </tr>\n",
       "    <tr>\n",
       "      <th>47</th>\n",
       "      <td>^9</td>\n",
       "      <td>0</td>\n",
       "    </tr>\n",
       "    <tr>\n",
       "      <th>46</th>\n",
       "      <td>^8</td>\n",
       "      <td>0</td>\n",
       "    </tr>\n",
       "    <tr>\n",
       "      <th>45</th>\n",
       "      <td>^7</td>\n",
       "      <td>0</td>\n",
       "    </tr>\n",
       "    <tr>\n",
       "      <th>44</th>\n",
       "      <td>^6</td>\n",
       "      <td>0</td>\n",
       "    </tr>\n",
       "    <tr>\n",
       "      <th>43</th>\n",
       "      <td>^5</td>\n",
       "      <td>0</td>\n",
       "    </tr>\n",
       "    <tr>\n",
       "      <th>42</th>\n",
       "      <td>^4</td>\n",
       "      <td>0</td>\n",
       "    </tr>\n",
       "    <tr>\n",
       "      <th>41</th>\n",
       "      <td>^3</td>\n",
       "      <td>0</td>\n",
       "    </tr>\n",
       "    <tr>\n",
       "      <th>40</th>\n",
       "      <td>^2</td>\n",
       "      <td>0</td>\n",
       "    </tr>\n",
       "    <tr>\n",
       "      <th>38</th>\n",
       "      <td>^0</td>\n",
       "      <td>0</td>\n",
       "    </tr>\n",
       "    <tr>\n",
       "      <th>39</th>\n",
       "      <td>^1</td>\n",
       "      <td>0</td>\n",
       "    </tr>\n",
       "  </tbody>\n",
       "</table>\n",
       "</div>"
      ],
      "text/plain": [
       "                                                    0    1\n",
       "51                                          mega_freq  660\n",
       "49                                                len  414\n",
       "48                                     unique_symbols  283\n",
       "50                                 unique_symbols/len  251\n",
       "54                                        [0-9]_count  202\n",
       "52                                        [a-z]_count  195\n",
       "15                                           ^.*19..$   77\n",
       "11                                             ^.*123   68\n",
       "12                                              ^.*12   54\n",
       "29                                                 ^1   53\n",
       "19                                              ^.*1$   52\n",
       "2                                              ^[a-z]   50\n",
       "4                                            ^.*[A-Z]   47\n",
       "7                                            ^.*[0-9]   45\n",
       "16  ^.*jessica|michelle|computer|ass|george|klaste...   41\n",
       "1                                            ^.*[a-z]   38\n",
       "6                                           ^.*[0-9]$   36\n",
       "18                                              ^.*0$   34\n",
       "53                                        [A-Z]_count   33\n",
       "30                                                 ^2   32\n",
       "17                                                ^19   26\n",
       "0                                           ^.*[a-z]$   25\n",
       "28                                                 ^0   24\n",
       "20                                              ^.*2$   23\n",
       "55                     [$&+,:;=?@#|'<>.^*()%!-]_count   20\n",
       "22                                              ^.*4$   18\n",
       "10                                                 ^q   18\n",
       "27                                              ^.*9$   17\n",
       "21                                              ^.*3$   17\n",
       "26                                              ^.*8$   13\n",
       "8                                              ^[0-9]   13\n",
       "37                                                 ^9   13\n",
       "25                                              ^.*7$   11\n",
       "35                                                 ^7   10\n",
       "36                                                 ^8   10\n",
       "23                                              ^.*5$   10\n",
       "31                                                 ^3   10\n",
       "32                                                 ^4    9\n",
       "24                                              ^.*6$    8\n",
       "14                                              ^.*ab    8\n",
       "33                                                 ^5    8\n",
       "34                                                 ^6    7\n",
       "5                                              ^[A-Z]    7\n",
       "3                                           ^.*[A-Z]$    6\n",
       "13                                             ^.*abc    3\n",
       "9                                                  ^Q    1\n",
       "47                                                 ^9    0\n",
       "46                                                 ^8    0\n",
       "45                                                 ^7    0\n",
       "44                                                 ^6    0\n",
       "43                                                 ^5    0\n",
       "42                                                 ^4    0\n",
       "41                                                 ^3    0\n",
       "40                                                 ^2    0\n",
       "38                                                 ^0    0\n",
       "39                                                 ^1    0"
      ]
     },
     "execution_count": 67,
     "metadata": {},
     "output_type": "execute_result"
    }
   ],
   "source": [
    "pd.DataFrame([list(features),list(reg.feature_importances_)]).T.sort_values(1,ascending=False)"
   ]
  },
  {
   "cell_type": "code",
   "execution_count": 68,
   "metadata": {},
   "outputs": [],
   "source": [
    "df_submit['Times_log'] = df_submit[list(filter(lambda x: 'fold' in x,df_submit.columns))].mean(axis=1)\n",
    "df_submit['Times']=np.exp(df_submit['Times_log'])-1"
   ]
  },
  {
   "cell_type": "code",
   "execution_count": null,
   "metadata": {},
   "outputs": [],
   "source": [
    "df_submit[['Id','Times']].to_csv('submit3.csv',index=False)"
   ]
  },
  {
   "cell_type": "code",
   "execution_count": 70,
   "metadata": {},
   "outputs": [],
   "source": [
    "df_submit[['Id','Times']].to_csv('submi4.csv',index=False)"
   ]
  },
  {
   "cell_type": "code",
   "execution_count": null,
   "metadata": {},
   "outputs": [],
   "source": []
  },
  {
   "cell_type": "code",
   "execution_count": null,
   "metadata": {},
   "outputs": [],
   "source": []
  },
  {
   "cell_type": "code",
   "execution_count": null,
   "metadata": {},
   "outputs": [],
   "source": []
  },
  {
   "cell_type": "code",
   "execution_count": null,
   "metadata": {},
   "outputs": [],
   "source": []
  },
  {
   "cell_type": "code",
   "execution_count": null,
   "metadata": {},
   "outputs": [],
   "source": []
  },
  {
   "cell_type": "code",
   "execution_count": null,
   "metadata": {},
   "outputs": [],
   "source": []
  }
 ],
 "metadata": {
  "kernelspec": {
   "display_name": "Python 3",
   "language": "python",
   "name": "python3"
  },
  "language_info": {
   "codemirror_mode": {
    "name": "ipython",
    "version": 3
   },
   "file_extension": ".py",
   "mimetype": "text/x-python",
   "name": "python",
   "nbconvert_exporter": "python",
   "pygments_lexer": "ipython3",
   "version": "3.6.5"
  }
 },
 "nbformat": 4,
 "nbformat_minor": 2
}
