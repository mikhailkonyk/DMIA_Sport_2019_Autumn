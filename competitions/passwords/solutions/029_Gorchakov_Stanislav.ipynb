{
 "cells": [
  {
   "cell_type": "code",
   "execution_count": 1,
   "metadata": {
    "colab": {
     "base_uri": "https://localhost:8080/",
     "height": 272
    },
    "colab_type": "code",
    "executionInfo": {
     "elapsed": 14610,
     "status": "ok",
     "timestamp": 1570549096990,
     "user": {
      "displayName": "Станислав Горчаков",
      "photoUrl": "https://lh3.googleusercontent.com/a-/AAuE7mDt9HvvXyMG40AdSBiVyWQIDhFBcP60Akm5PUoU=s64",
      "userId": "08560331083924087428"
     },
     "user_tz": -180
    },
    "id": "BGc21_zowlC5",
    "outputId": "ef91c6db-c40e-4cec-facd-a396093c9c52"
   },
   "outputs": [
    {
     "name": "stdout",
     "output_type": "stream",
     "text": [
      "Collecting password_strength\n",
      "  Downloading https://files.pythonhosted.org/packages/1c/d6/08fd888c980589e4e27c2a4177e972481e8881600138e63afb785fe52630/password_strength-0.0.3.post2-py2.py3-none-any.whl\n",
      "Requirement already satisfied: six in /usr/local/lib/python3.6/dist-packages (from password_strength) (1.12.0)\n",
      "Installing collected packages: password-strength\n",
      "Successfully installed password-strength-0.0.3.post2\n",
      "Collecting chars2vec\n",
      "\u001b[?25l  Downloading https://files.pythonhosted.org/packages/04/0a/8c327aae23e0532d239ec7b30446aca765eb5d9547b4c4b09cdd82e49797/chars2vec-0.1.7.tar.gz (8.1MB)\n",
      "\u001b[K     |████████████████████████████████| 8.1MB 3.4MB/s \n",
      "\u001b[?25hBuilding wheels for collected packages: chars2vec\n",
      "  Building wheel for chars2vec (setup.py) ... \u001b[?25l\u001b[?25hdone\n",
      "  Created wheel for chars2vec: filename=chars2vec-0.1.7-cp36-none-any.whl size=8111095 sha256=8b8de67cdd11d5b6f12e395c341bcb85bc7536abaec7729645d38cb7ad1d6f25\n",
      "  Stored in directory: /root/.cache/pip/wheels/97/b6/65/d7e778ef1213ec77d315aea0f536068b96e36cc94c02abbfde\n",
      "Successfully built chars2vec\n",
      "Installing collected packages: chars2vec\n",
      "Successfully installed chars2vec-0.1.7\n"
     ]
    }
   ],
   "source": [
    "!pip install password_strength\n",
    "!pip install chars2vec"
   ]
  },
  {
   "cell_type": "code",
   "execution_count": 2,
   "metadata": {
    "colab": {
     "base_uri": "https://localhost:8080/",
     "height": 34
    },
    "colab_type": "code",
    "executionInfo": {
     "elapsed": 3000,
     "status": "ok",
     "timestamp": 1570549103535,
     "user": {
      "displayName": "Станислав Горчаков",
      "photoUrl": "https://lh3.googleusercontent.com/a-/AAuE7mDt9HvvXyMG40AdSBiVyWQIDhFBcP60Akm5PUoU=s64",
      "userId": "08560331083924087428"
     },
     "user_tz": -180
    },
    "id": "0WOACPH2wUKb",
    "outputId": "f36b92e2-c049-4614-8716-1e389374882c"
   },
   "outputs": [
    {
     "name": "stderr",
     "output_type": "stream",
     "text": [
      "Using TensorFlow backend.\n"
     ]
    }
   ],
   "source": [
    "import numpy as np\n",
    "import pandas as pd\n",
    "import chars2vec\n",
    "from pathlib import Path\n",
    "from password_strength import PasswordStats\n",
    "from sklearn.linear_model import LinearRegression, Ridge, Lasso\n",
    "from sklearn.ensemble.forest import RandomForestRegressor\n",
    "from sklearn.model_selection import train_test_split\n",
    "from sklearn.metrics import mean_squared_log_error\n",
    "from sklearn.metrics import make_scorer\n",
    "from sklearn.model_selection import KFold\n",
    "from sklearn.feature_extraction import FeatureHasher"
   ]
  },
  {
   "cell_type": "code",
   "execution_count": 3,
   "metadata": {
    "colab": {
     "base_uri": "https://localhost:8080/",
     "height": 122
    },
    "colab_type": "code",
    "executionInfo": {
     "elapsed": 18689,
     "status": "ok",
     "timestamp": 1570549123348,
     "user": {
      "displayName": "Станислав Горчаков",
      "photoUrl": "https://lh3.googleusercontent.com/a-/AAuE7mDt9HvvXyMG40AdSBiVyWQIDhFBcP60Akm5PUoU=s64",
      "userId": "08560331083924087428"
     },
     "user_tz": -180
    },
    "id": "92lVmd1Owu3F",
    "outputId": "31faaf07-d53e-4ef6-da61-7de88d549af8"
   },
   "outputs": [
    {
     "name": "stdout",
     "output_type": "stream",
     "text": [
      "Go to this URL in a browser: https://accounts.google.com/o/oauth2/auth?client_id=947318989803-6bn6qk8qdgf4n4g3pfee6491hc0brc4i.apps.googleusercontent.com&redirect_uri=urn%3Aietf%3Awg%3Aoauth%3A2.0%3Aoob&scope=email%20https%3A%2F%2Fwww.googleapis.com%2Fauth%2Fdocs.test%20https%3A%2F%2Fwww.googleapis.com%2Fauth%2Fdrive%20https%3A%2F%2Fwww.googleapis.com%2Fauth%2Fdrive.photos.readonly%20https%3A%2F%2Fwww.googleapis.com%2Fauth%2Fpeopleapi.readonly&response_type=code\n",
      "\n",
      "Enter your authorization code:\n",
      "··········\n",
      "Mounted at /content/drive\n"
     ]
    }
   ],
   "source": [
    "from google.colab import drive\n",
    "drive.mount('/content/drive')"
   ]
  },
  {
   "cell_type": "code",
   "execution_count": 0,
   "metadata": {
    "colab": {
     "base_uri": "https://localhost:8080/",
     "height": 68
    },
    "colab_type": "code",
    "executionInfo": {
     "elapsed": 24853,
     "status": "ok",
     "timestamp": 1570182061413,
     "user": {
      "displayName": "Станислав Горчаков",
      "photoUrl": "https://lh3.googleusercontent.com/a-/AAuE7mDt9HvvXyMG40AdSBiVyWQIDhFBcP60Akm5PUoU=s64",
      "userId": "08560331083924087428"
     },
     "user_tz": -180
    },
    "id": "N3ygG57Sxqp1",
    "outputId": "f01cb66e-aa32-4865-ec50-023c791c0a1c"
   },
   "outputs": [
    {
     "name": "stdout",
     "output_type": "stream",
     "text": [
      "ctb_pred.csv\t       test_w_groups.csv   train_w_groups.csv\n",
      "passwords.ipynb        test_wt_groups.csv  train_wt_groups.csv\n",
      "sample_submission.csv  train.csv\t   Xtest.csv\n"
     ]
    }
   ],
   "source": [
    "!ls drive/My\\ Drive/dmia"
   ]
  },
  {
   "cell_type": "code",
   "execution_count": 0,
   "metadata": {
    "_cell_guid": "79c7e3d0-c299-4dcb-8224-4455121ee9b0",
    "_uuid": "d629ff2d2480ee46fbb7e2d37f6b5fab8052498a",
    "colab": {},
    "colab_type": "code",
    "id": "c8x7cb6BwUKz"
   },
   "outputs": [],
   "source": [
    "PATH_TO_DATA = Path('drive/My Drive/dmia')\n",
    "# !cd .. && ls input/dmia-sport-2019-fall-intro"
   ]
  },
  {
   "cell_type": "code",
   "execution_count": 0,
   "metadata": {
    "colab": {},
    "colab_type": "code",
    "id": "PkEaCClXaTAL"
   },
   "outputs": [],
   "source": [
    "train = pd.read_csv(PATH_TO_DATA / 'train.csv')\n",
    "test = pd.read_csv(PATH_TO_DATA / 'Xtest.csv')"
   ]
  },
  {
   "cell_type": "code",
   "execution_count": 0,
   "metadata": {
    "colab": {
     "base_uri": "https://localhost:8080/",
     "height": 34
    },
    "colab_type": "code",
    "executionInfo": {
     "elapsed": 446,
     "status": "ok",
     "timestamp": 1570086017646,
     "user": {
      "displayName": "Станислав Горчаков",
      "photoUrl": "https://lh3.googleusercontent.com/a-/AAuE7mDt9HvvXyMG40AdSBiVyWQIDhFBcP60Akm5PUoU=s64",
      "userId": "08560331083924087428"
     },
     "user_tz": -180
    },
    "id": "thc_wbGpalcM",
    "outputId": "a7ff7f35-9e74-4d0d-f2e2-270d8717b34f"
   },
   "outputs": [
    {
     "data": {
      "text/plain": [
       "(4151496, 2)"
      ]
     },
     "execution_count": 9,
     "metadata": {
      "tags": []
     },
     "output_type": "execute_result"
    }
   ],
   "source": [
    "train.shape"
   ]
  },
  {
   "cell_type": "code",
   "execution_count": 0,
   "metadata": {
    "colab": {},
    "colab_type": "code",
    "id": "jdLWYPUQyUHm"
   },
   "outputs": [],
   "source": [
    "train['Password'] = train['Password'].fillna('')\n",
    "test['Password'] = test['Password'].fillna('')"
   ]
  },
  {
   "cell_type": "code",
   "execution_count": 0,
   "metadata": {
    "colab": {},
    "colab_type": "code",
    "id": "ZHmSdv1twUMK"
   },
   "outputs": [],
   "source": [
    "def statsPassword(data):\n",
    "    data['alphabet_cardinality'] = data['Password'].apply(lambda x: PasswordStats(x).alphabet_cardinality)\n",
    "    data['entropy_bits'] = data['Password'].apply(lambda x: PasswordStats(x).entropy_bits if len(x) > 0 else 0)\n",
    "    data['length'] = data['Password'].apply(lambda x: PasswordStats(x).length)\n",
    "    data['Ll'] = data['Password'].apply(lambda x: PasswordStats(x).letters_lowercase)\n",
    "    data['repeated_patterns_length'] = data['Password'].apply(lambda x: PasswordStats(x).repeated_patterns_length)\n",
    "    data['Nd'] = data['Password'].apply(lambda x: PasswordStats(x).numbers)\n",
    "    data['sequences_length'] = data['Password'].apply(lambda x: PasswordStats(x).sequences_length)\n",
    "    data['strength'] = data['Password'].apply(lambda x: PasswordStats(x).strength() if len(x) > 0 else 0)\n",
    "    data['weakness_factor'] = data['Password'].apply(lambda x: PasswordStats(x).weakness_factor if len(x) > 0 else 1)\n",
    "    \n",
    "    return data\n",
    "    \n",
    "\n",
    "\n"
   ]
  },
  {
   "cell_type": "code",
   "execution_count": 0,
   "metadata": {
    "colab": {
     "base_uri": "https://localhost:8080/",
     "height": 51
    },
    "colab_type": "code",
    "executionInfo": {
     "elapsed": 516458,
     "status": "ok",
     "timestamp": 1570086868423,
     "user": {
      "displayName": "Станислав Горчаков",
      "photoUrl": "https://lh3.googleusercontent.com/a-/AAuE7mDt9HvvXyMG40AdSBiVyWQIDhFBcP60Akm5PUoU=s64",
      "userId": "08560331083924087428"
     },
     "user_tz": -180
    },
    "id": "sSDoueIxwUMb",
    "outputId": "1173aafa-4780-4d05-a40f-b059ad51ee6e"
   },
   "outputs": [
    {
     "name": "stdout",
     "output_type": "stream",
     "text": [
      "CPU times: user 8min 35s, sys: 437 ms, total: 8min 35s\n",
      "Wall time: 8min 36s\n"
     ]
    }
   ],
   "source": [
    "%%time\n",
    "X = statsPassword(train)\n",
    "test = statsPassword(test).drop(['Id'], axis=1)\n",
    "X.shape, test.shape"
   ]
  },
  {
   "cell_type": "code",
   "execution_count": 0,
   "metadata": {
    "colab": {
     "base_uri": "https://localhost:8080/",
     "height": 34
    },
    "colab_type": "code",
    "executionInfo": {
     "elapsed": 545,
     "status": "ok",
     "timestamp": 1570086898916,
     "user": {
      "displayName": "Станислав Горчаков",
      "photoUrl": "https://lh3.googleusercontent.com/a-/AAuE7mDt9HvvXyMG40AdSBiVyWQIDhFBcP60Akm5PUoU=s64",
      "userId": "08560331083924087428"
     },
     "user_tz": -180
    },
    "id": "NPpa5ihGeKLX",
    "outputId": "1128c6e0-8fa4-4aa9-dd13-f888a9ae0202"
   },
   "outputs": [
    {
     "data": {
      "text/plain": [
       "((4151496, 11), (1037875, 10))"
      ]
     },
     "execution_count": 15,
     "metadata": {
      "tags": []
     },
     "output_type": "execute_result"
    }
   ],
   "source": [
    "X.shape, test.shape"
   ]
  },
  {
   "cell_type": "code",
   "execution_count": 0,
   "metadata": {
    "colab": {
     "base_uri": "https://localhost:8080/",
     "height": 224
    },
    "colab_type": "code",
    "executionInfo": {
     "elapsed": 446,
     "status": "ok",
     "timestamp": 1570086985694,
     "user": {
      "displayName": "Станислав Горчаков",
      "photoUrl": "https://lh3.googleusercontent.com/a-/AAuE7mDt9HvvXyMG40AdSBiVyWQIDhFBcP60Akm5PUoU=s64",
      "userId": "08560331083924087428"
     },
     "user_tz": -180
    },
    "id": "_Ityg5xewUNU",
    "outputId": "d6a3315f-6250-408e-f259-200105654e6f"
   },
   "outputs": [
    {
     "data": {
      "text/html": [
       "<div>\n",
       "<style scoped>\n",
       "    .dataframe tbody tr th:only-of-type {\n",
       "        vertical-align: middle;\n",
       "    }\n",
       "\n",
       "    .dataframe tbody tr th {\n",
       "        vertical-align: top;\n",
       "    }\n",
       "\n",
       "    .dataframe thead th {\n",
       "        text-align: right;\n",
       "    }\n",
       "</style>\n",
       "<table border=\"1\" class=\"dataframe\">\n",
       "  <thead>\n",
       "    <tr style=\"text-align: right;\">\n",
       "      <th></th>\n",
       "      <th>Password</th>\n",
       "      <th>Times</th>\n",
       "      <th>alphabet_cardinality</th>\n",
       "      <th>entropy_bits</th>\n",
       "      <th>length</th>\n",
       "      <th>Ll</th>\n",
       "      <th>repeated_patterns_length</th>\n",
       "      <th>Nd</th>\n",
       "      <th>sequences_length</th>\n",
       "      <th>strength</th>\n",
       "      <th>weakness_factor</th>\n",
       "    </tr>\n",
       "  </thead>\n",
       "  <tbody>\n",
       "    <tr>\n",
       "      <th>0</th>\n",
       "      <td>631XniVx2lS5I</td>\n",
       "      <td>2</td>\n",
       "      <td>13</td>\n",
       "      <td>48.105716</td>\n",
       "      <td>13</td>\n",
       "      <td>4</td>\n",
       "      <td>0</td>\n",
       "      <td>5</td>\n",
       "      <td>0</td>\n",
       "      <td>0.604087</td>\n",
       "      <td>0.0</td>\n",
       "    </tr>\n",
       "    <tr>\n",
       "      <th>1</th>\n",
       "      <td>LEGIT747</td>\n",
       "      <td>1</td>\n",
       "      <td>7</td>\n",
       "      <td>22.458839</td>\n",
       "      <td>8</td>\n",
       "      <td>0</td>\n",
       "      <td>0</td>\n",
       "      <td>3</td>\n",
       "      <td>0</td>\n",
       "      <td>0.249543</td>\n",
       "      <td>0.0</td>\n",
       "    </tr>\n",
       "    <tr>\n",
       "      <th>2</th>\n",
       "      <td>742364es</td>\n",
       "      <td>1</td>\n",
       "      <td>7</td>\n",
       "      <td>22.458839</td>\n",
       "      <td>8</td>\n",
       "      <td>2</td>\n",
       "      <td>0</td>\n",
       "      <td>6</td>\n",
       "      <td>0</td>\n",
       "      <td>0.249543</td>\n",
       "      <td>0.0</td>\n",
       "    </tr>\n",
       "    <tr>\n",
       "      <th>3</th>\n",
       "      <td>3846696477</td>\n",
       "      <td>1</td>\n",
       "      <td>6</td>\n",
       "      <td>25.849625</td>\n",
       "      <td>10</td>\n",
       "      <td>0</td>\n",
       "      <td>4</td>\n",
       "      <td>10</td>\n",
       "      <td>0</td>\n",
       "      <td>0.287218</td>\n",
       "      <td>0.4</td>\n",
       "    </tr>\n",
       "    <tr>\n",
       "      <th>4</th>\n",
       "      <td>laurahop</td>\n",
       "      <td>2</td>\n",
       "      <td>7</td>\n",
       "      <td>22.458839</td>\n",
       "      <td>8</td>\n",
       "      <td>8</td>\n",
       "      <td>0</td>\n",
       "      <td>0</td>\n",
       "      <td>0</td>\n",
       "      <td>0.249543</td>\n",
       "      <td>0.0</td>\n",
       "    </tr>\n",
       "  </tbody>\n",
       "</table>\n",
       "</div>"
      ],
      "text/plain": [
       "        Password  Times  ...  strength  weakness_factor\n",
       "0  631XniVx2lS5I      2  ...  0.604087              0.0\n",
       "1       LEGIT747      1  ...  0.249543              0.0\n",
       "2       742364es      1  ...  0.249543              0.0\n",
       "3     3846696477      1  ...  0.287218              0.4\n",
       "4       laurahop      2  ...  0.249543              0.0\n",
       "\n",
       "[5 rows x 11 columns]"
      ]
     },
     "execution_count": 16,
     "metadata": {
      "tags": []
     },
     "output_type": "execute_result"
    }
   ],
   "source": [
    "X.head()"
   ]
  },
  {
   "cell_type": "code",
   "execution_count": 0,
   "metadata": {
    "colab": {},
    "colab_type": "code",
    "id": "ysNnn6DvwUNb"
   },
   "outputs": [],
   "source": [
    "X.to_csv(PATH_TO_DATA / 'train_wt_groups.csv', index=False)\n",
    "test.to_csv(PATH_TO_DATA / 'test_wt_groups.csv', index=False)"
   ]
  },
  {
   "cell_type": "code",
   "execution_count": 0,
   "metadata": {
    "colab": {},
    "colab_type": "code",
    "id": "DOtBLK6-wUPm"
   },
   "outputs": [],
   "source": [
    "train = pd.read_csv(PATH_TO_DATA / 'train_wt_groups.csv')\n",
    "test = pd.read_csv(PATH_TO_DATA / 'test_wt_groups.csv')"
   ]
  },
  {
   "cell_type": "code",
   "execution_count": 0,
   "metadata": {
    "colab": {},
    "colab_type": "code",
    "id": "pM4xqeK3gAdM"
   },
   "outputs": [],
   "source": [
    "train.loc[train['Password'] == '', 'Times'] = 30\n",
    "train = train.drop(157331)\n",
    "train = train.reset_index(drop=True)"
   ]
  },
  {
   "cell_type": "code",
   "execution_count": 0,
   "metadata": {
    "colab": {},
    "colab_type": "code",
    "id": "4TYI7JHlzB3O"
   },
   "outputs": [],
   "source": [
    "for col in train:\n",
    "    if sum(train[col].isna()) > 0:\n",
    "        print(col)"
   ]
  },
  {
   "cell_type": "code",
   "execution_count": 0,
   "metadata": {
    "colab": {},
    "colab_type": "code",
    "id": "anc1arZQWkmw"
   },
   "outputs": [],
   "source": [
    "from sklearn.model_selection import KFold\n",
    "import numpy as np\n",
    "\n",
    "class TrainModel:\n",
    "    def __init__(self, X, y, test, model, metric, isCat=True, test_size=0.3, random_state=42):\n",
    "        self.X = X.data.reset_index(drop=True).values\n",
    "        self.y = np.log(y.reset_index(drop=True).values + 1)\n",
    "        self.cols = X.data.columns\n",
    "        self.test = test.data\n",
    "        self.model = model\n",
    "        self.isCat = isCat\n",
    "        self.test_size = test_size\n",
    "        self.metric = metric\n",
    "        self.random_state = random_state\n",
    "        self.oof = np.zeros(len(test.data))\n",
    "        self.kfolds = np.zeros(len(X.data))\n",
    "        self.error = 0\n",
    "        self.features_importances = np.zeros(X.data.shape[1])\n",
    "\n",
    "    def fitModel(self, n_splits=5):\n",
    "        kfolds = KFold(n_splits=n_splits)\n",
    "        for train_idx, test_idx in kfolds.split(self.X):\n",
    "            X_train, X_test = self.X[train_idx], self.X[test_idx]\n",
    "            y_train, y_test = self.y[train_idx], self.y[test_idx]\n",
    "            self.model.fit(X_train, y_train)\n",
    "            preds_val = np.exp(self.model.predict(X_test)) - 1\n",
    "            \n",
    "            self.kfolds[test_idx] += preds_val\n",
    "            error = self.metric(list(np.exp(y_test) - 1), list(preds_val))\n",
    "            print('eval_metric: ', error)\n",
    "            self.error += error\n",
    "            preds_test = np.exp(self.model.predict(self.test)) - 1\n",
    "            \n",
    "            self.oof += preds_test\n",
    "            if self.isCat: \n",
    "                self.features_importances += self.model.feature_importances_\n",
    "        self.error /= n_splits\n",
    "        self.oof /= n_splits\n",
    "        self.features_importances /= n_splits\n",
    "  \n",
    "    def getFeaturesImportances(self):\n",
    "        data = pd.DataFrame(self.features_importances, index=self.cols).sort_values(by=0, ascending=False)\n",
    "        data.columns = ['features_importance']\n",
    "        return data\n",
    "\n",
    "    def getError(self):\n",
    "        return self.error \n",
    "\n",
    "    def getOof(self):\n",
    "        return self.oof\n",
    "\n",
    "    def getKfoldsPreds(self):\n",
    "        return self.kfolds"
   ]
  },
  {
   "cell_type": "code",
   "execution_count": 0,
   "metadata": {
    "colab": {},
    "colab_type": "code",
    "id": "XipoYHSD7RM4"
   },
   "outputs": [],
   "source": [
    "from scipy.spatial.distance import euclidean\n",
    "\n",
    "def getSubmission(preds, fileName):\n",
    "    sample_sub = pd.read_csv(PATH_TO_DATA / 'sample_submission.csv', \n",
    "                             index_col='Id')\n",
    "    sample_sub['Times'] = preds\n",
    "    sample_sub.to_csv(PATH_TO_DATA / fileName)\n",
    "\n",
    "def rmsle(y, y_pred):\n",
    "    assert len(y) == len(y_pred)\n",
    "    terms_to_sum = [(np.log(y_pred[i] + 1) - np.log(y[i] + 1)) ** 2.0 for i,pred in enumerate(y_pred)]\n",
    "    return (sum(terms_to_sum) * (1.0/len(y))) ** 0.5\n",
    "\n",
    "def keyBoardDistances(keyA, keyB):\n",
    "    coordsA = _getCoords(keyA)\n",
    "    coordsB = _getCoords(keyB)\n",
    "\n",
    "    return euclidean(coordsA, coordsB)\n",
    "  \n",
    "def _getCoords(key):\n",
    "    keyBoardLines = ['`1234567890-=', \n",
    "                'qwertyuiop[]',\n",
    "                'asdfghjkl;\\'\\\\',\n",
    "                '<zxcvbnm,./']\n",
    "    keyBoardLinesSplitted = [list(line) for line in keyBoardLines]\n",
    "    for lineIdx, line in enumerate(keyBoardLinesSplitted):\n",
    "        try:\n",
    "            charIdx = line.index(key)\n",
    "        return [lineIdx, charIdx]\n",
    "            except ValueError:\n",
    "        continue\n",
    "    return [0, 0]"
   ]
  },
  {
   "cell_type": "code",
   "execution_count": 0,
   "metadata": {
    "colab": {
     "base_uri": "https://localhost:8080/",
     "height": 34
    },
    "colab_type": "code",
    "executionInfo": {
     "elapsed": 535,
     "status": "ok",
     "timestamp": 1570521328123,
     "user": {
      "displayName": "Станислав Горчаков",
      "photoUrl": "https://lh3.googleusercontent.com/a-/AAuE7mDt9HvvXyMG40AdSBiVyWQIDhFBcP60Akm5PUoU=s64",
      "userId": "08560331083924087428"
     },
     "user_tz": -180
    },
    "id": "YqlvTXXsz3wP",
    "outputId": "4cdfeb49-ba7d-4570-e3ba-4c6372efabe0"
   },
   "outputs": [
    {
     "data": {
      "text/plain": [
       "((4151495, 10), (1037875, 10))"
      ]
     },
     "execution_count": 14,
     "metadata": {
      "tags": []
     },
     "output_type": "execute_result"
    }
   ],
   "source": [
    "X = train.drop('Times', axis=1)\n",
    "y = train['Times']\n",
    "X.shape, test.shape"
   ]
  },
  {
   "cell_type": "code",
   "execution_count": 0,
   "metadata": {
    "colab": {
     "base_uri": "https://localhost:8080/",
     "height": 204
    },
    "colab_type": "code",
    "executionInfo": {
     "elapsed": 536,
     "status": "ok",
     "timestamp": 1570103695654,
     "user": {
      "displayName": "Станислав Горчаков",
      "photoUrl": "https://lh3.googleusercontent.com/a-/AAuE7mDt9HvvXyMG40AdSBiVyWQIDhFBcP60Akm5PUoU=s64",
      "userId": "08560331083924087428"
     },
     "user_tz": -180
    },
    "id": "aFd5liOG067C",
    "outputId": "cf1b1aa7-b7d9-4f65-9a64-18d95b9921b9"
   },
   "outputs": [
    {
     "data": {
      "text/html": [
       "<div>\n",
       "<style scoped>\n",
       "    .dataframe tbody tr th:only-of-type {\n",
       "        vertical-align: middle;\n",
       "    }\n",
       "\n",
       "    .dataframe tbody tr th {\n",
       "        vertical-align: top;\n",
       "    }\n",
       "\n",
       "    .dataframe thead th {\n",
       "        text-align: right;\n",
       "    }\n",
       "</style>\n",
       "<table border=\"1\" class=\"dataframe\">\n",
       "  <thead>\n",
       "    <tr style=\"text-align: right;\">\n",
       "      <th></th>\n",
       "      <th>Password</th>\n",
       "      <th>alphabet_cardinality</th>\n",
       "      <th>entropy_bits</th>\n",
       "      <th>length</th>\n",
       "      <th>Ll</th>\n",
       "      <th>repeated_patterns_length</th>\n",
       "      <th>Nd</th>\n",
       "      <th>sequences_length</th>\n",
       "      <th>strength</th>\n",
       "      <th>weakness_factor</th>\n",
       "    </tr>\n",
       "  </thead>\n",
       "  <tbody>\n",
       "    <tr>\n",
       "      <th>0</th>\n",
       "      <td>631XniVx2lS5I</td>\n",
       "      <td>13</td>\n",
       "      <td>48.105716</td>\n",
       "      <td>13</td>\n",
       "      <td>4</td>\n",
       "      <td>0</td>\n",
       "      <td>5</td>\n",
       "      <td>0</td>\n",
       "      <td>0.604087</td>\n",
       "      <td>0.0</td>\n",
       "    </tr>\n",
       "    <tr>\n",
       "      <th>1</th>\n",
       "      <td>LEGIT747</td>\n",
       "      <td>7</td>\n",
       "      <td>22.458839</td>\n",
       "      <td>8</td>\n",
       "      <td>0</td>\n",
       "      <td>0</td>\n",
       "      <td>3</td>\n",
       "      <td>0</td>\n",
       "      <td>0.249543</td>\n",
       "      <td>0.0</td>\n",
       "    </tr>\n",
       "    <tr>\n",
       "      <th>2</th>\n",
       "      <td>742364es</td>\n",
       "      <td>7</td>\n",
       "      <td>22.458839</td>\n",
       "      <td>8</td>\n",
       "      <td>2</td>\n",
       "      <td>0</td>\n",
       "      <td>6</td>\n",
       "      <td>0</td>\n",
       "      <td>0.249543</td>\n",
       "      <td>0.0</td>\n",
       "    </tr>\n",
       "    <tr>\n",
       "      <th>3</th>\n",
       "      <td>3846696477</td>\n",
       "      <td>6</td>\n",
       "      <td>25.849625</td>\n",
       "      <td>10</td>\n",
       "      <td>0</td>\n",
       "      <td>4</td>\n",
       "      <td>10</td>\n",
       "      <td>0</td>\n",
       "      <td>0.287218</td>\n",
       "      <td>0.4</td>\n",
       "    </tr>\n",
       "    <tr>\n",
       "      <th>4</th>\n",
       "      <td>laurahop</td>\n",
       "      <td>7</td>\n",
       "      <td>22.458839</td>\n",
       "      <td>8</td>\n",
       "      <td>8</td>\n",
       "      <td>0</td>\n",
       "      <td>0</td>\n",
       "      <td>0</td>\n",
       "      <td>0.249543</td>\n",
       "      <td>0.0</td>\n",
       "    </tr>\n",
       "  </tbody>\n",
       "</table>\n",
       "</div>"
      ],
      "text/plain": [
       "        Password  alphabet_cardinality  ...  strength  weakness_factor\n",
       "0  631XniVx2lS5I                    13  ...  0.604087              0.0\n",
       "1       LEGIT747                     7  ...  0.249543              0.0\n",
       "2       742364es                     7  ...  0.249543              0.0\n",
       "3     3846696477                     6  ...  0.287218              0.4\n",
       "4       laurahop                     7  ...  0.249543              0.0\n",
       "\n",
       "[5 rows x 10 columns]"
      ]
     },
     "execution_count": 14,
     "metadata": {
      "tags": []
     },
     "output_type": "execute_result"
    }
   ],
   "source": [
    "X.head()"
   ]
  },
  {
   "cell_type": "code",
   "execution_count": 0,
   "metadata": {
    "colab": {},
    "colab_type": "code",
    "id": "EZEogmCA087X"
   },
   "outputs": [],
   "source": [
    "X.loc[:, 'percent_nums'] = X['Nd'] / X['length']\n",
    "test.loc[:, 'percent_nums'] = test['Nd'] / test['length']"
   ]
  },
  {
   "cell_type": "code",
   "execution_count": 0,
   "metadata": {
    "colab": {},
    "colab_type": "code",
    "id": "prPTsCYB1oul"
   },
   "outputs": [],
   "source": [
    "X.loc[:, 'percent_letters'] = X['Ll'] / X['length']\n",
    "test.loc[:, 'percent_letters'] = test['Ll'] / test['length']"
   ]
  },
  {
   "cell_type": "code",
   "execution_count": 0,
   "metadata": {
    "colab": {},
    "colab_type": "code",
    "id": "b3pp87i01_5H"
   },
   "outputs": [],
   "source": [
    "X.loc[:, 'strength_fin'] = (1 - X['weakness_factor']) * X['strength']\n",
    "test.loc[:, 'strength_fin'] = (1 - test['weakness_factor']) * test['strength']"
   ]
  },
  {
   "cell_type": "code",
   "execution_count": 0,
   "metadata": {
    "colab": {},
    "colab_type": "code",
    "id": "Kw2S-6U13gGb"
   },
   "outputs": [],
   "source": [
    "X.loc[:, 'diff_alpabet_cardinality'] = (X['length'] - X['alphabet_cardinality']) / X['length']\n",
    "test.loc[:, 'diff_alpabet_cardinality'] = (test['length'] - test['alphabet_cardinality']) / test['length']"
   ]
  },
  {
   "cell_type": "code",
   "execution_count": 0,
   "metadata": {
    "colab": {},
    "colab_type": "code",
    "id": "mBIixFjQ4BfC"
   },
   "outputs": [],
   "source": [
    "X.loc[:, 'diff_Ll'] = (X['length'] - X['Ll']) / X['length']\n",
    "test.loc[:, 'diff_Ll'] = (test['length'] - test['Ll']) / test['length']"
   ]
  },
  {
   "cell_type": "code",
   "execution_count": 0,
   "metadata": {
    "colab": {},
    "colab_type": "code",
    "id": "wycmvOEG4PV9"
   },
   "outputs": [],
   "source": [
    "X.loc[:, 'diff_Nd'] = (X['length'] - X['Nd']) / X['length']\n",
    "test.loc[:, 'diff_Nd'] = (test['length'] - test['Nd']) / test['length']"
   ]
  },
  {
   "cell_type": "code",
   "execution_count": 0,
   "metadata": {
    "colab": {},
    "colab_type": "code",
    "id": "S99mqhSvmf_A"
   },
   "outputs": [],
   "source": [
    "X.loc[:, 'uniqness'] = X['Password'].apply(lambda x: len(''.join(set(x)))) / X['length']\n",
    "test.loc[:, 'uniqness'] = test['Password'].fillna('').apply(lambda x: len(''.join(set(x)))) / test['length']\n"
   ]
  },
  {
   "cell_type": "code",
   "execution_count": 0,
   "metadata": {
    "colab": {
     "base_uri": "https://localhost:8080/",
     "height": 34
    },
    "colab_type": "code",
    "executionInfo": {
     "elapsed": 517,
     "status": "ok",
     "timestamp": 1570346829931,
     "user": {
      "displayName": "Станислав Горчаков",
      "photoUrl": "https://lh3.googleusercontent.com/a-/AAuE7mDt9HvvXyMG40AdSBiVyWQIDhFBcP60Akm5PUoU=s64",
      "userId": "08560331083924087428"
     },
     "user_tz": -180
    },
    "id": "h9OmqYKH4kxq",
    "outputId": "4ce41f60-b7a9-4a5c-d8fd-b1c49e50ea42"
   },
   "outputs": [
    {
     "data": {
      "text/plain": [
       "((4151495, 17), (1037875, 17))"
      ]
     },
     "execution_count": 18,
     "metadata": {
      "tags": []
     },
     "output_type": "execute_result"
    }
   ],
   "source": [
    "X.shape, test.shape"
   ]
  },
  {
   "cell_type": "code",
   "execution_count": 0,
   "metadata": {
    "colab": {},
    "colab_type": "code",
    "id": "EQgKELIWSWTq"
   },
   "outputs": [],
   "source": [
    "X = X.fillna(0.0)\n",
    "test = test.fillna(0.0)"
   ]
  },
  {
   "cell_type": "code",
   "execution_count": 0,
   "metadata": {
    "colab": {},
    "colab_type": "code",
    "id": "khbnXwfHjbGZ"
   },
   "outputs": [],
   "source": [
    "X['cat_strength'] = pd.cut(X['strength'], 9, labels=list(range(9)))\n",
    "test['cat_strength'] = pd.cut(test['strength'], 9, labels=list(range(9)))"
   ]
  },
  {
   "cell_type": "code",
   "execution_count": 0,
   "metadata": {
    "colab": {
     "base_uri": "https://localhost:8080/",
     "height": 374
    },
    "colab_type": "code",
    "executionInfo": {
     "elapsed": 2262,
     "status": "ok",
     "timestamp": 1570090325503,
     "user": {
      "displayName": "Станислав Горчаков",
      "photoUrl": "https://lh3.googleusercontent.com/a-/AAuE7mDt9HvvXyMG40AdSBiVyWQIDhFBcP60Akm5PUoU=s64",
      "userId": "08560331083924087428"
     },
     "user_tz": -180
    },
    "id": "QjtNM8UdoLJF",
    "outputId": "7658155d-a6ad-4c44-edcd-6148c391d4f3"
   },
   "outputs": [
    {
     "name": "stdout",
     "output_type": "stream",
     "text": [
      "cat_strength\n",
      "high_medium    1.040267\n",
      "high_weak      1.590057\n",
      "low_medium     1.166987\n",
      "low_strong     1.032608\n",
      "low_weak       5.091072\n",
      "medium         1.097602\n",
      "strong         1.014164\n",
      "very_strong    1.019517\n",
      "weak           2.427595\n",
      "Name: Times, dtype: float64\n",
      "weak           0.400905\n",
      "high_weak      0.384312\n",
      "low_medium     0.089121\n",
      "medium         0.048952\n",
      "high_medium    0.033541\n",
      "low_weak       0.024812\n",
      "low_strong     0.013910\n",
      "strong         0.003928\n",
      "very_strong    0.000518\n",
      "Name: cat_strength, dtype: float64\n"
     ]
    }
   ],
   "source": [
    "X_w_target = X.copy()\n",
    "X_w_target['Times'] = y\n",
    "print(X_w_target.groupby(by='cat_strength').agg('mean')['Times'])\n",
    "print(X_w_target['cat_strength'].value_counts(normalize=True))"
   ]
  },
  {
   "cell_type": "code",
   "execution_count": 0,
   "metadata": {
    "colab": {
     "base_uri": "https://localhost:8080/",
     "height": 49
    },
    "colab_type": "code",
    "executionInfo": {
     "elapsed": 688,
     "status": "ok",
     "timestamp": 1570349863610,
     "user": {
      "displayName": "Станислав Горчаков",
      "photoUrl": "https://lh3.googleusercontent.com/a-/AAuE7mDt9HvvXyMG40AdSBiVyWQIDhFBcP60Akm5PUoU=s64",
      "userId": "08560331083924087428"
     },
     "user_tz": -180
    },
    "id": "YudtbxoQIkR8",
    "outputId": "2760a6b0-7806-480e-a565-cedf0b381e02"
   },
   "outputs": [
    {
     "data": {
      "text/html": [
       "<div>\n",
       "<style scoped>\n",
       "    .dataframe tbody tr th:only-of-type {\n",
       "        vertical-align: middle;\n",
       "    }\n",
       "\n",
       "    .dataframe tbody tr th {\n",
       "        vertical-align: top;\n",
       "    }\n",
       "\n",
       "    .dataframe thead th {\n",
       "        text-align: right;\n",
       "    }\n",
       "</style>\n",
       "<table border=\"1\" class=\"dataframe\">\n",
       "  <thead>\n",
       "    <tr style=\"text-align: right;\">\n",
       "      <th></th>\n",
       "      <th>Password</th>\n",
       "      <th>alphabet_cardinality</th>\n",
       "      <th>entropy_bits</th>\n",
       "      <th>length</th>\n",
       "      <th>Ll</th>\n",
       "      <th>repeated_patterns_length</th>\n",
       "      <th>Nd</th>\n",
       "      <th>sequences_length</th>\n",
       "      <th>strength</th>\n",
       "      <th>weakness_factor</th>\n",
       "    </tr>\n",
       "  </thead>\n",
       "  <tbody>\n",
       "  </tbody>\n",
       "</table>\n",
       "</div>"
      ],
      "text/plain": [
       "Empty DataFrame\n",
       "Columns: [Password, alphabet_cardinality, entropy_bits, length, Ll, repeated_patterns_length, Nd, sequences_length, strength, weakness_factor]\n",
       "Index: []"
      ]
     },
     "execution_count": 71,
     "metadata": {
      "tags": []
     },
     "output_type": "execute_result"
    }
   ],
   "source": [
    "X[X['Password'].isna()]"
   ]
  },
  {
   "cell_type": "code",
   "execution_count": 0,
   "metadata": {
    "colab": {
     "base_uri": "https://localhost:8080/",
     "height": 51
    },
    "colab_type": "code",
    "executionInfo": {
     "elapsed": 45905,
     "status": "ok",
     "timestamp": 1570521424640,
     "user": {
      "displayName": "Станислав Горчаков",
      "photoUrl": "https://lh3.googleusercontent.com/a-/AAuE7mDt9HvvXyMG40AdSBiVyWQIDhFBcP60Akm5PUoU=s64",
      "userId": "08560331083924087428"
     },
     "user_tz": -180
    },
    "id": "qBWdnsjc-IkO",
    "outputId": "da513c98-3e8a-40a9-b0d1-c326de3ea7ee"
   },
   "outputs": [
    {
     "name": "stdout",
     "output_type": "stream",
     "text": [
      "CPU times: user 1min 10s, sys: 12 s, total: 1min 22s\n",
      "Wall time: 45.2 s\n"
     ]
    }
   ],
   "source": [
    "%%time\n",
    "from sklearn.decomposition import PCA\n",
    "\n",
    "feat_hasher = FeatureHasher(n_features=100, input_type='string')\n",
    "\n",
    "pca = PCA(n_components=10, tol=0.3, svd_solver='randomized', random_state=42)\n",
    "train_latent_features = pca.fit_transform(feat_hasher.fit_transform(X['Password']).toarray())\n",
    "test_latent_features = pca.transform(feat_hasher.transform(test['Password']).toarray())"
   ]
  },
  {
   "cell_type": "code",
   "execution_count": 0,
   "metadata": {
    "colab": {
     "base_uri": "https://localhost:8080/",
     "height": 34
    },
    "colab_type": "code",
    "executionInfo": {
     "elapsed": 502,
     "status": "ok",
     "timestamp": 1570350196308,
     "user": {
      "displayName": "Станислав Горчаков",
      "photoUrl": "https://lh3.googleusercontent.com/a-/AAuE7mDt9HvvXyMG40AdSBiVyWQIDhFBcP60Akm5PUoU=s64",
      "userId": "08560331083924087428"
     },
     "user_tz": -180
    },
    "id": "CVrxRM6c-Idk",
    "outputId": "a051a029-e6e9-4b6a-b070-55174415b47e"
   },
   "outputs": [
    {
     "data": {
      "text/plain": [
       "(4151495, 10)"
      ]
     },
     "execution_count": 11,
     "metadata": {
      "tags": []
     },
     "output_type": "execute_result"
    }
   ],
   "source": [
    "train_latent_features.shape"
   ]
  },
  {
   "cell_type": "code",
   "execution_count": 0,
   "metadata": {
    "colab": {},
    "colab_type": "code",
    "id": "tSXSPIsZ-IZh"
   },
   "outputs": [],
   "source": [
    "train_latent_features = pd.DataFrame(train_latent_features, columns=[f'latent_{i}' for i in range(1, train_latent_features.shape[1] + 1)])\n",
    "test_latent_features = pd.DataFrame(test_latent_features, columns=[f'latent_{i}' for i in range(1, test_latent_features.shape[1] + 1)])"
   ]
  },
  {
   "cell_type": "code",
   "execution_count": 0,
   "metadata": {
    "colab": {},
    "colab_type": "code",
    "id": "BctvSHrX-IWf"
   },
   "outputs": [],
   "source": [
    "X = pd.concat((X, train_latent_features), axis=1)\n",
    "test = pd.concat((test, test_latent_features), axis=1)"
   ]
  },
  {
   "cell_type": "code",
   "execution_count": 0,
   "metadata": {
    "colab": {},
    "colab_type": "code",
    "id": "tRsR7-diF7X7"
   },
   "outputs": [],
   "source": [
    "param = {'num_leaves': 31,\n",
    "         'min_data_in_leaf': 30, \n",
    "         'objective':'regression',\n",
    "         'max_depth': -1,\n",
    "         'learning_rate': 0.01,\n",
    "         \"min_child_samples\": 20,\n",
    "         \"boosting\": \"gbdt\",\n",
    "         \"feature_fraction\": 0.9,\n",
    "         \"bagging_freq\": 1,\n",
    "         \"bagging_fraction\": 0.9 ,\n",
    "         \"bagging_seed\": 11,\n",
    "         \"metric\": 'rmse',\n",
    "         \"lambda_l1\": 0.1,\n",
    "         \"verbosity\": -1,\n",
    "         \"nthread\": 4,\n",
    "         \"random_state\": 4590}\n",
    "# lgb = LGBMRegressor(**param)"
   ]
  },
  {
   "cell_type": "code",
   "execution_count": 0,
   "metadata": {
    "colab": {},
    "colab_type": "code",
    "id": "jJORg7Mj8z3v"
   },
   "outputs": [],
   "source": [
    "### training by groups with stacking\n",
    "\n",
    "# # !pip install catboost\n",
    "# # from catboost import CatBoostRegressor\n",
    "# from lightgbm import LGBMRegressor\n",
    "# # catboost = CatBoostRegressor(learning_rate=0.01, n_estimators=2000, task_type='GPU', silent=True)\n",
    "# lgb = LGBMRegressor(**param)\n",
    "# ridge = Ridge(alpha=0.3)\n",
    "# reg = LinearRegression()\n",
    "# lasso = Lasso(0.4)\n",
    "# # forest = RandomForestRegressor(n_estimators=100, max_depth=5)\n",
    "\n",
    "\n",
    "\n",
    "# preds = np.zeros(len(test))\n",
    "# for cat_strength in X['cat_strength'].unique():\n",
    "#   print(f'Training {cat_strength}')\n",
    "#   X_tmp = X[X['cat_strength'] == cat_strength].drop(['Password', 'cat_strength'], axis=1).copy()\n",
    "#   # X_tmp = scaleData(X_tmp)\n",
    "#   train_idx = X_tmp.index\n",
    "#   y_tmp = y[train_idx].copy()\n",
    "#   test_tmp = test[test['cat_strength'] == cat_strength].drop(['Password', 'cat_strength'], axis=1).copy()\n",
    "#   # test_tmp = scaleData(test_tmp)\n",
    "#   test_idx = test_tmp.index\n",
    "#   for i, model in enumerate([ridge, reg, lasso]):\n",
    "#     print(f'Train model #{i+1}')\n",
    "#     trainer = TrainModel(pd.DataFrame(X_tmp), y_tmp, pd.DataFrame(test_tmp), model, rmsle, isCat=False)\n",
    "#     trainer.fitModel()\n",
    "#     # print('shapes',X_tmp.shape, y_tmp.shape, test_tmp.shape)\n",
    "#     X_tmp = np.concatenate((X_tmp, trainer.getKfoldsPreds().reshape(-1, 1)), axis=1)\n",
    "#     test_tmp = np.concatenate((test_tmp, trainer.getOof().reshape(-1, 1)), axis=1)\n",
    "#   print('\\nTrain model with stacking: ')\n",
    "#   trainer = TrainModel(pd.DataFrame(X_tmp), y_tmp, pd.DataFrame(test_tmp), lgb, rmsle, isCat=True)\n",
    "#   trainer.fitModel()\n",
    "#   print('Mean metric: ', trainer.getError(), '\\n')\n",
    "#   preds[test_idx] += trainer.getOof()"
   ]
  },
  {
   "cell_type": "code",
   "execution_count": 0,
   "metadata": {
    "colab": {
     "base_uri": "https://localhost:8080/",
     "height": 224
    },
    "colab_type": "code",
    "executionInfo": {
     "elapsed": 556,
     "status": "ok",
     "timestamp": 1570122249682,
     "user": {
      "displayName": "Станислав Горчаков",
      "photoUrl": "https://lh3.googleusercontent.com/a-/AAuE7mDt9HvvXyMG40AdSBiVyWQIDhFBcP60Akm5PUoU=s64",
      "userId": "08560331083924087428"
     },
     "user_tz": -180
    },
    "id": "IzXi5bnGkmcK",
    "outputId": "86674724-d53b-457f-a7f0-725d2b518585"
   },
   "outputs": [
    {
     "data": {
      "text/html": [
       "<div>\n",
       "<style scoped>\n",
       "    .dataframe tbody tr th:only-of-type {\n",
       "        vertical-align: middle;\n",
       "    }\n",
       "\n",
       "    .dataframe tbody tr th {\n",
       "        vertical-align: top;\n",
       "    }\n",
       "\n",
       "    .dataframe thead th {\n",
       "        text-align: right;\n",
       "    }\n",
       "</style>\n",
       "<table border=\"1\" class=\"dataframe\">\n",
       "  <thead>\n",
       "    <tr style=\"text-align: right;\">\n",
       "      <th></th>\n",
       "      <th>Password</th>\n",
       "      <th>alphabet_cardinality</th>\n",
       "      <th>entropy_bits</th>\n",
       "      <th>length</th>\n",
       "      <th>Ll</th>\n",
       "      <th>repeated_patterns_length</th>\n",
       "      <th>Nd</th>\n",
       "      <th>sequences_length</th>\n",
       "      <th>strength</th>\n",
       "      <th>weakness_factor</th>\n",
       "      <th>percent_nums</th>\n",
       "      <th>percent_letters</th>\n",
       "      <th>strength_fin</th>\n",
       "      <th>diff_alpabet_cardinality</th>\n",
       "      <th>diff_Ll</th>\n",
       "      <th>diff_Nd</th>\n",
       "      <th>uniqness</th>\n",
       "      <th>cat_strength</th>\n",
       "    </tr>\n",
       "  </thead>\n",
       "  <tbody>\n",
       "    <tr>\n",
       "      <th>0</th>\n",
       "      <td>631XniVx2lS5I</td>\n",
       "      <td>13</td>\n",
       "      <td>48.105716</td>\n",
       "      <td>13</td>\n",
       "      <td>4</td>\n",
       "      <td>0</td>\n",
       "      <td>5</td>\n",
       "      <td>0</td>\n",
       "      <td>0.604087</td>\n",
       "      <td>0.0</td>\n",
       "      <td>0.384615</td>\n",
       "      <td>0.307692</td>\n",
       "      <td>0.604087</td>\n",
       "      <td>0.000</td>\n",
       "      <td>0.692308</td>\n",
       "      <td>0.615385</td>\n",
       "      <td>1.000</td>\n",
       "      <td>5</td>\n",
       "    </tr>\n",
       "    <tr>\n",
       "      <th>1</th>\n",
       "      <td>LEGIT747</td>\n",
       "      <td>7</td>\n",
       "      <td>22.458839</td>\n",
       "      <td>8</td>\n",
       "      <td>0</td>\n",
       "      <td>0</td>\n",
       "      <td>3</td>\n",
       "      <td>0</td>\n",
       "      <td>0.249543</td>\n",
       "      <td>0.0</td>\n",
       "      <td>0.375000</td>\n",
       "      <td>0.000000</td>\n",
       "      <td>0.249543</td>\n",
       "      <td>0.125</td>\n",
       "      <td>1.000000</td>\n",
       "      <td>0.625000</td>\n",
       "      <td>0.875</td>\n",
       "      <td>2</td>\n",
       "    </tr>\n",
       "    <tr>\n",
       "      <th>2</th>\n",
       "      <td>742364es</td>\n",
       "      <td>7</td>\n",
       "      <td>22.458839</td>\n",
       "      <td>8</td>\n",
       "      <td>2</td>\n",
       "      <td>0</td>\n",
       "      <td>6</td>\n",
       "      <td>0</td>\n",
       "      <td>0.249543</td>\n",
       "      <td>0.0</td>\n",
       "      <td>0.750000</td>\n",
       "      <td>0.250000</td>\n",
       "      <td>0.249543</td>\n",
       "      <td>0.125</td>\n",
       "      <td>0.750000</td>\n",
       "      <td>0.250000</td>\n",
       "      <td>0.875</td>\n",
       "      <td>2</td>\n",
       "    </tr>\n",
       "    <tr>\n",
       "      <th>3</th>\n",
       "      <td>3846696477</td>\n",
       "      <td>6</td>\n",
       "      <td>25.849625</td>\n",
       "      <td>10</td>\n",
       "      <td>0</td>\n",
       "      <td>4</td>\n",
       "      <td>10</td>\n",
       "      <td>0</td>\n",
       "      <td>0.287218</td>\n",
       "      <td>0.4</td>\n",
       "      <td>1.000000</td>\n",
       "      <td>0.000000</td>\n",
       "      <td>0.172331</td>\n",
       "      <td>0.400</td>\n",
       "      <td>1.000000</td>\n",
       "      <td>0.000000</td>\n",
       "      <td>0.600</td>\n",
       "      <td>2</td>\n",
       "    </tr>\n",
       "    <tr>\n",
       "      <th>4</th>\n",
       "      <td>laurahop</td>\n",
       "      <td>7</td>\n",
       "      <td>22.458839</td>\n",
       "      <td>8</td>\n",
       "      <td>8</td>\n",
       "      <td>0</td>\n",
       "      <td>0</td>\n",
       "      <td>0</td>\n",
       "      <td>0.249543</td>\n",
       "      <td>0.0</td>\n",
       "      <td>0.000000</td>\n",
       "      <td>1.000000</td>\n",
       "      <td>0.249543</td>\n",
       "      <td>0.125</td>\n",
       "      <td>0.000000</td>\n",
       "      <td>1.000000</td>\n",
       "      <td>0.875</td>\n",
       "      <td>2</td>\n",
       "    </tr>\n",
       "  </tbody>\n",
       "</table>\n",
       "</div>"
      ],
      "text/plain": [
       "        Password  alphabet_cardinality  ...  uniqness  cat_strength\n",
       "0  631XniVx2lS5I                    13  ...     1.000             5\n",
       "1       LEGIT747                     7  ...     0.875             2\n",
       "2       742364es                     7  ...     0.875             2\n",
       "3     3846696477                     6  ...     0.600             2\n",
       "4       laurahop                     7  ...     0.875             2\n",
       "\n",
       "[5 rows x 18 columns]"
      ]
     },
     "execution_count": 50,
     "metadata": {
      "tags": []
     },
     "output_type": "execute_result"
    }
   ],
   "source": [
    "X.head()"
   ]
  },
  {
   "cell_type": "code",
   "execution_count": 0,
   "metadata": {
    "colab": {
     "base_uri": "https://localhost:8080/",
     "height": 34
    },
    "colab_type": "code",
    "executionInfo": {
     "elapsed": 430,
     "status": "ok",
     "timestamp": 1570350245806,
     "user": {
      "displayName": "Станислав Горчаков",
      "photoUrl": "https://lh3.googleusercontent.com/a-/AAuE7mDt9HvvXyMG40AdSBiVyWQIDhFBcP60Akm5PUoU=s64",
      "userId": "08560331083924087428"
     },
     "user_tz": -180
    },
    "id": "AJEVTVFRDtha",
    "outputId": "96893b8e-ad30-42d2-e99b-96037e6f30ef"
   },
   "outputs": [
    {
     "data": {
      "text/plain": [
       "((4151495, 20), (1037875, 20), (4151495,))"
      ]
     },
     "execution_count": 16,
     "metadata": {
      "tags": []
     },
     "output_type": "execute_result"
    }
   ],
   "source": [
    "X.shape, test.shape, y.shape"
   ]
  },
  {
   "cell_type": "code",
   "execution_count": 0,
   "metadata": {
    "colab": {
     "base_uri": "https://localhost:8080/",
     "height": 102
    },
    "colab_type": "code",
    "executionInfo": {
     "elapsed": 169227,
     "status": "ok",
     "timestamp": 1570521897046,
     "user": {
      "displayName": "Станислав Горчаков",
      "photoUrl": "https://lh3.googleusercontent.com/a-/AAuE7mDt9HvvXyMG40AdSBiVyWQIDhFBcP60Akm5PUoU=s64",
      "userId": "08560331083924087428"
     },
     "user_tz": -180
    },
    "id": "cVNRKs8BjEFV",
    "outputId": "b65fa162-f83c-4be6-a795-5a444a696a6c"
   },
   "outputs": [
    {
     "name": "stdout",
     "output_type": "stream",
     "text": [
      "eval_metric:  0.38802604766966975\n",
      "eval_metric:  0.3837803061211211\n",
      "eval_metric:  0.3860239025109649\n",
      "eval_metric:  0.38739136582196393\n",
      "eval_metric:  0.38563421025710676\n"
     ]
    }
   ],
   "source": [
    "from lightgbm import LGBMRegressor, Dataset\n",
    "\n",
    "X_dropped = X.drop('Password', axis=1)\n",
    "test_dropped = test.drop('Password', axis=1)\n",
    "X_dataset_lgb = Dataset(X_dropped, categorical_feature=[X_dropped.shape[1] - 11])\n",
    "test_dataset_lgb = Dataset(test_dropped, categorical_feature=[X_dropped.shape[1] - 11])\n",
    "lgb = LGBMRegressor(**param)\n",
    "trainer = TrainModel(X_dataset_lgb, y, test_dataset_lgb, lgb, rmsle)\n",
    "trainer.fitModel()"
   ]
  },
  {
   "cell_type": "code",
   "execution_count": 0,
   "metadata": {
    "colab": {
     "base_uri": "https://localhost:8080/",
     "height": 34
    },
    "colab_type": "code",
    "executionInfo": {
     "elapsed": 551,
     "status": "ok",
     "timestamp": 1570521902479,
     "user": {
      "displayName": "Станислав Горчаков",
      "photoUrl": "https://lh3.googleusercontent.com/a-/AAuE7mDt9HvvXyMG40AdSBiVyWQIDhFBcP60Akm5PUoU=s64",
      "userId": "08560331083924087428"
     },
     "user_tz": -180
    },
    "id": "pUs8AYGPHAIP",
    "outputId": "a93dcc9a-bc94-44c4-c3c0-f238e3f47ee3"
   },
   "outputs": [
    {
     "data": {
      "text/plain": [
       "0.38617116647616523"
      ]
     },
     "execution_count": 35,
     "metadata": {
      "tags": []
     },
     "output_type": "execute_result"
    }
   ],
   "source": [
    "trainer.getError()"
   ]
  },
  {
   "cell_type": "code",
   "execution_count": 0,
   "metadata": {
    "colab": {
     "base_uri": "https://localhost:8080/",
     "height": 855
    },
    "colab_type": "code",
    "executionInfo": {
     "elapsed": 683,
     "status": "ok",
     "timestamp": 1570521925336,
     "user": {
      "displayName": "Станислав Горчаков",
      "photoUrl": "https://lh3.googleusercontent.com/a-/AAuE7mDt9HvvXyMG40AdSBiVyWQIDhFBcP60Akm5PUoU=s64",
      "userId": "08560331083924087428"
     },
     "user_tz": -180
    },
    "id": "L6ZfZ99AciCf",
    "outputId": "51907d4d-089e-440d-bb37-5298d03347b2"
   },
   "outputs": [
    {
     "data": {
      "text/html": [
       "<div>\n",
       "<style scoped>\n",
       "    .dataframe tbody tr th:only-of-type {\n",
       "        vertical-align: middle;\n",
       "    }\n",
       "\n",
       "    .dataframe tbody tr th {\n",
       "        vertical-align: top;\n",
       "    }\n",
       "\n",
       "    .dataframe thead th {\n",
       "        text-align: right;\n",
       "    }\n",
       "</style>\n",
       "<table border=\"1\" class=\"dataframe\">\n",
       "  <thead>\n",
       "    <tr style=\"text-align: right;\">\n",
       "      <th></th>\n",
       "      <th>features_importance</th>\n",
       "    </tr>\n",
       "  </thead>\n",
       "  <tbody>\n",
       "    <tr>\n",
       "      <th>length</th>\n",
       "      <td>556.2</td>\n",
       "    </tr>\n",
       "    <tr>\n",
       "      <th>latent_3</th>\n",
       "      <td>377.8</td>\n",
       "    </tr>\n",
       "    <tr>\n",
       "      <th>entropy_bits</th>\n",
       "      <td>248.2</td>\n",
       "    </tr>\n",
       "    <tr>\n",
       "      <th>percent_letters</th>\n",
       "      <td>237.0</td>\n",
       "    </tr>\n",
       "    <tr>\n",
       "      <th>latent_8</th>\n",
       "      <td>229.4</td>\n",
       "    </tr>\n",
       "    <tr>\n",
       "      <th>Nd</th>\n",
       "      <td>143.0</td>\n",
       "    </tr>\n",
       "    <tr>\n",
       "      <th>latent_7</th>\n",
       "      <td>115.0</td>\n",
       "    </tr>\n",
       "    <tr>\n",
       "      <th>latent_10</th>\n",
       "      <td>113.6</td>\n",
       "    </tr>\n",
       "    <tr>\n",
       "      <th>latent_1</th>\n",
       "      <td>108.6</td>\n",
       "    </tr>\n",
       "    <tr>\n",
       "      <th>percent_nums</th>\n",
       "      <td>93.6</td>\n",
       "    </tr>\n",
       "    <tr>\n",
       "      <th>weakness_factor</th>\n",
       "      <td>79.0</td>\n",
       "    </tr>\n",
       "    <tr>\n",
       "      <th>latent_9</th>\n",
       "      <td>78.6</td>\n",
       "    </tr>\n",
       "    <tr>\n",
       "      <th>repeated_patterns_length</th>\n",
       "      <td>70.0</td>\n",
       "    </tr>\n",
       "    <tr>\n",
       "      <th>Ll</th>\n",
       "      <td>67.4</td>\n",
       "    </tr>\n",
       "    <tr>\n",
       "      <th>latent_4</th>\n",
       "      <td>67.2</td>\n",
       "    </tr>\n",
       "    <tr>\n",
       "      <th>diff_alpabet_cardinality</th>\n",
       "      <td>63.4</td>\n",
       "    </tr>\n",
       "    <tr>\n",
       "      <th>diff_Nd</th>\n",
       "      <td>57.2</td>\n",
       "    </tr>\n",
       "    <tr>\n",
       "      <th>sequences_length</th>\n",
       "      <td>56.0</td>\n",
       "    </tr>\n",
       "    <tr>\n",
       "      <th>strength</th>\n",
       "      <td>49.8</td>\n",
       "    </tr>\n",
       "    <tr>\n",
       "      <th>strength_fin</th>\n",
       "      <td>48.0</td>\n",
       "    </tr>\n",
       "    <tr>\n",
       "      <th>diff_Ll</th>\n",
       "      <td>45.0</td>\n",
       "    </tr>\n",
       "    <tr>\n",
       "      <th>alphabet_cardinality</th>\n",
       "      <td>31.2</td>\n",
       "    </tr>\n",
       "    <tr>\n",
       "      <th>latent_5</th>\n",
       "      <td>28.8</td>\n",
       "    </tr>\n",
       "    <tr>\n",
       "      <th>uniqness</th>\n",
       "      <td>18.8</td>\n",
       "    </tr>\n",
       "    <tr>\n",
       "      <th>latent_6</th>\n",
       "      <td>13.2</td>\n",
       "    </tr>\n",
       "    <tr>\n",
       "      <th>latent_2</th>\n",
       "      <td>4.0</td>\n",
       "    </tr>\n",
       "  </tbody>\n",
       "</table>\n",
       "</div>"
      ],
      "text/plain": [
       "                          features_importance\n",
       "length                                  556.2\n",
       "latent_3                                377.8\n",
       "entropy_bits                            248.2\n",
       "percent_letters                         237.0\n",
       "latent_8                                229.4\n",
       "Nd                                      143.0\n",
       "latent_7                                115.0\n",
       "latent_10                               113.6\n",
       "latent_1                                108.6\n",
       "percent_nums                             93.6\n",
       "weakness_factor                          79.0\n",
       "latent_9                                 78.6\n",
       "repeated_patterns_length                 70.0\n",
       "Ll                                       67.4\n",
       "latent_4                                 67.2\n",
       "diff_alpabet_cardinality                 63.4\n",
       "diff_Nd                                  57.2\n",
       "sequences_length                         56.0\n",
       "strength                                 49.8\n",
       "strength_fin                             48.0\n",
       "diff_Ll                                  45.0\n",
       "alphabet_cardinality                     31.2\n",
       "latent_5                                 28.8\n",
       "uniqness                                 18.8\n",
       "latent_6                                 13.2\n",
       "latent_2                                  4.0"
      ]
     },
     "execution_count": 36,
     "metadata": {
      "tags": []
     },
     "output_type": "execute_result"
    }
   ],
   "source": [
    "trainer.getFeaturesImportances()"
   ]
  },
  {
   "cell_type": "code",
   "execution_count": 0,
   "metadata": {
    "colab": {},
    "colab_type": "code",
    "id": "z9gmNs6bWUjT"
   },
   "outputs": [],
   "source": [
    "getSubmission(trainer.getOof(), 'submission.csv')"
   ]
  }
 ],
 "metadata": {
  "accelerator": "GPU",
  "colab": {
   "collapsed_sections": [],
   "machine_shape": "hm",
   "name": "passwords.ipynb",
   "provenance": []
  },
  "kernelspec": {
   "display_name": "Python 3",
   "language": "python",
   "name": "python3"
  },
  "language_info": {
   "codemirror_mode": {
    "name": "ipython",
    "version": 3
   },
   "file_extension": ".py",
   "mimetype": "text/x-python",
   "name": "python",
   "nbconvert_exporter": "python",
   "pygments_lexer": "ipython3",
   "version": "3.5.2"
  }
 },
 "nbformat": 4,
 "nbformat_minor": 1
}
