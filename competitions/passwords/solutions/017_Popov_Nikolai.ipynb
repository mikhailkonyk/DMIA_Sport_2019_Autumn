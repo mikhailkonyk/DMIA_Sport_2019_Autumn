{
 "cells": [
  {
   "cell_type": "code",
   "execution_count": 1,
   "metadata": {},
   "outputs": [],
   "source": [
    "import pandas as pd\n",
    "import numpy as np\n",
    "import csv\n",
    "from password_strength import PasswordStats\n",
    "from nltk.corpus import words\n",
    "from catboost import CatBoostRegressor, Pool, cv\n",
    "import re"
   ]
  },
  {
   "cell_type": "code",
   "execution_count": 2,
   "metadata": {},
   "outputs": [],
   "source": [
    "dfTrain = pd.read_csv('./train.csv')"
   ]
  },
  {
   "cell_type": "code",
   "execution_count": 3,
   "metadata": {},
   "outputs": [],
   "source": [
    "def genFeatures(df):\n",
    "    df['123Seq'] = df['Password'].apply(lambda x:1 if '123' in str(x) else 0)\n",
    "\n",
    "    df['321Seq'] = df['Password'].apply(lambda x:1 if '321' in str(x) else 0)\n",
    "\n",
    "    df['qweSeq'] = df['Password'].apply(lambda x:1 if 'qwe' in str(x) else 0)\n",
    "\n",
    "    df['qaSeq'] = df['Password'].apply(lambda x:1 if 'qa' in str(x) else 0)\n",
    "\n",
    "    df['wsSeq'] = df['Password'].apply(lambda x:1 if 'ws' in str(x) else 0)\n",
    "\n",
    "    df['pasSeq'] = df['Password'].apply(lambda x:1 if 'pas' in str(x) else 0)\n",
    "    \n",
    "    df['lovSeq'] = df['Password'].apply(lambda x:1 if 'lov' in str(x) else 0)\n",
    "    \n",
    "    df['abcSeq'] = df['Password'].apply(lambda x:1 if 'abc' in str(x) else 0)\n",
    "    \n",
    "    df['youSeq'] = df['Password'].apply(lambda x:1 if 'you' in str(x) else 0)\n",
    "\n",
    "    df['countZero'] = df['Password'].apply(lambda x: str(x).count('0'))\n",
    "\n",
    "    df['countOne'] = df['Password'].apply(lambda x: str(x).count('1'))\n",
    "    \n",
    "    df['countTwo'] = df['Password'].apply(lambda x: str(x).count('2'))\n",
    "\n",
    "    df['countA'] = df['Password'].apply(lambda x: str(x).lower().count('a'))\n",
    "    \n",
    "    df['countE'] = df['Password'].apply(lambda x: str(x).lower().count('e'))\n",
    "    \n",
    "    df['countI'] = df['Password'].apply(lambda x: str(x).lower().count('i'))\n",
    "    \n",
    "    df['countO'] = df['Password'].apply(lambda x: str(x).lower().count('o'))\n",
    "    \n",
    "    df['countN'] = df['Password'].apply(lambda x: str(x).lower().count('n'))\n",
    "    \n",
    "    df['countR'] = df['Password'].apply(lambda x: str(x).lower().count('r'))\n",
    "    \n",
    "    df['countS'] = df['Password'].apply(lambda x: str(x).lower().count('s'))\n",
    "\n",
    "    df['sequencesLength'] = df['Password'].apply(lambda x:PasswordStats(str(x)).sequences_length)\n",
    "\n",
    "    df['repeatedPatternsLength'] = df['Password'].apply(lambda x:PasswordStats(str(x)).repeated_patterns_length)\n",
    "\n",
    "    df['weaknessFactor'] = df['Password'].apply(lambda x:PasswordStats(str(x)).weakness_factor)\n",
    "\n",
    "    df['entropy'] = df['Password'].apply(lambda x:PasswordStats(str(x)).entropy_bits)\n",
    "\n",
    "    df['charCount'] = df['Password'].apply(lambda x:len(list(str(x))))\n",
    "\n",
    "    df['numerics'] = df['Password'].apply(lambda x: len([str(x) for x in list(str(x)) if str(x).isdigit()]))\n",
    "\n",
    "    df['alpha'] = df['Password'].apply(lambda x: len([x for x in list(str(x)) if x.isalpha()]))\n",
    "\n",
    "    vowels = ['a', 'e', 'i', 'o', 'u']\n",
    "    df['vowels'] = df['Password'].apply(lambda x: len([x for x in list(str(x).lower()) if x in vowels]))\n",
    "\n",
    "    df['consonants'] = df['Password'].apply(lambda x: (len([x for x in list(str(x).lower()) if x not in vowels and x.isalpha()])))\n",
    "\n",
    "    specialSymbols = ['`', '~', '!', '@', '#', '$', '%', '^', '&', '*', '(', ')',\n",
    "                      '-', '_','+', '=', ':', ';', ',', '.', '?', '//', '\\\\']\n",
    "    df['specialSymbols'] = df['Password'].apply(lambda x: len([x for x in list(str(x)) if x in specialSymbols]))\n",
    "\n",
    "    alf = ['A','B','C','D','E','F','G','H','I','J','K','L','M','N','O','P','Q','R','S','T','U','V','W','X','Y','Z']\n",
    "    df['upperCaseNumber'] = df['Password'].apply(lambda x: (len([x for x in list(str(x)) if x in alf])))\n",
    "\n",
    "    setOfWords = set(words.words())\n",
    "    df['isRealWord'] = df['Password'].apply(lambda x: 1 if re.sub(r'[0-9]+', '', str(x).lower()) in setOfWords else 0)\n",
    "\n",
    "    df['unicChars'] = df['Password'].apply(lambda x: len(set(str(x))))\n",
    "\n",
    "    df['numToLenRatio'] = df['numerics']/df['charCount']\n",
    "\n",
    "    df['alphaToLenRatio'] = df['alpha']/df['charCount']\n",
    "\n",
    "    df['vowelsToLenRatio'] = df['vowels']/df['charCount']\n",
    "\n",
    "    df['consonantsToLenRatio'] = df['consonants']/df['charCount']\n",
    "\n",
    "    df['specialSymbolsToLenRatio'] = df['specialSymbols']/df['charCount']\n",
    "\n",
    "    df['upperCaseNumberToLenRatio'] = df['upperCaseNumber']/df['charCount']\n",
    "\n",
    "    df['unicCharsToLenRatio'] = df['unicChars']/df['charCount']"
   ]
  },
  {
   "cell_type": "code",
   "execution_count": 4,
   "metadata": {},
   "outputs": [],
   "source": [
    "#Selection of features by feature importances\n",
    "features = ['countZero', 'countOne', 'countTwo', 'weaknessFactor', 'entropy', 'charCount', 'numerics',\n",
    "           'isRealWord', 'numToLenRatio', 'alphaToLenRatio', 'vowelsToLenRatio', 'upperCaseNumberToLenRatio']"
   ]
  },
  {
   "cell_type": "code",
   "execution_count": 5,
   "metadata": {},
   "outputs": [],
   "source": [
    "genFeatures(dfTrain)"
   ]
  },
  {
   "cell_type": "code",
   "execution_count": 6,
   "metadata": {},
   "outputs": [],
   "source": [
    "y = dfTrain['Times'].apply(lambda x: np.log(x + 1))"
   ]
  },
  {
   "cell_type": "code",
   "execution_count": 7,
   "metadata": {},
   "outputs": [],
   "source": [
    "X = dfTrain[features]"
   ]
  },
  {
   "cell_type": "code",
   "execution_count": 17,
   "metadata": {},
   "outputs": [
    {
     "data": {
      "text/plain": [
       "\"cv_dataset = Pool(X, y)\\nparams = {'iterations': 200, \\n          'depth': 7, \\n          'loss_function': 'RMSE', \\n          'l2_leaf_reg' : 20,\\n          'learning_rate' : 0.7,\\n          'verbose': False}\\nscores = cv(cv_dataset, params, plot=True)\""
      ]
     },
     "execution_count": 17,
     "metadata": {},
     "output_type": "execute_result"
    }
   ],
   "source": [
    "#Validation of model\n",
    "\"\"\"cv_dataset = Pool(X, y)\n",
    "params = {'iterations': 200, \n",
    "          'depth': 7, \n",
    "          'loss_function': 'RMSE', \n",
    "          'l2_leaf_reg' : 20,\n",
    "          'learning_rate' : 0.7,\n",
    "          'verbose': False}\n",
    "scores = cv(cv_dataset, params, plot=True)\"\"\""
   ]
  },
  {
   "cell_type": "code",
   "execution_count": 9,
   "metadata": {},
   "outputs": [],
   "source": [
    "model = CatBoostRegressor(iterations=200,\n",
    "                          depth=7,\n",
    "                          l2_leaf_reg=20,\n",
    "                          learning_rate=0.7,\n",
    "                          loss_function='RMSE',\n",
    "                          logging_level='Silent')"
   ]
  },
  {
   "cell_type": "code",
   "execution_count": 10,
   "metadata": {},
   "outputs": [
    {
     "data": {
      "text/plain": [
       "<catboost.core.CatBoostRegressor at 0x1c8cdfd0>"
      ]
     },
     "execution_count": 10,
     "metadata": {},
     "output_type": "execute_result"
    }
   ],
   "source": [
    "model.fit(X, y)"
   ]
  },
  {
   "cell_type": "code",
   "execution_count": 11,
   "metadata": {},
   "outputs": [
    {
     "data": {
      "text/plain": [
       "[('alphaToLenRatio', 17.35144079108872),\n",
       " ('isRealWord', 15.264402375976449),\n",
       " ('numToLenRatio', 12.800019910262774),\n",
       " ('numerics', 10.497912547621727),\n",
       " ('charCount', 9.440575605251317),\n",
       " ('entropy', 7.675769762442507),\n",
       " ('countOne', 6.963002830929904),\n",
       " ('countZero', 6.916005201448985),\n",
       " ('weaknessFactor', 4.859685821889643),\n",
       " ('upperCaseNumberToLenRatio', 4.5582177696342105),\n",
       " ('countTwo', 1.9789757090489775),\n",
       " ('vowelsToLenRatio', 1.6939916744047774)]"
      ]
     },
     "execution_count": 11,
     "metadata": {},
     "output_type": "execute_result"
    }
   ],
   "source": [
    "importance = model.feature_importances_\n",
    "impDict = {}\n",
    "for i in range(0, len(importance)):\n",
    "    impDict[features[i]]=importance[i]\n",
    "\n",
    "sorted(impDict.items(), key=lambda x: x[1], reverse=True)"
   ]
  },
  {
   "cell_type": "code",
   "execution_count": 12,
   "metadata": {},
   "outputs": [],
   "source": [
    "dfTest = pd.read_csv('./Xtest.csv')"
   ]
  },
  {
   "cell_type": "code",
   "execution_count": 13,
   "metadata": {},
   "outputs": [],
   "source": [
    "genFeatures(dfTest)"
   ]
  },
  {
   "cell_type": "code",
   "execution_count": 14,
   "metadata": {},
   "outputs": [],
   "source": [
    "XTest = dfTest[features]"
   ]
  },
  {
   "cell_type": "code",
   "execution_count": 15,
   "metadata": {},
   "outputs": [],
   "source": [
    "yPred = model.predict(XTest)"
   ]
  },
  {
   "cell_type": "code",
   "execution_count": 16,
   "metadata": {},
   "outputs": [],
   "source": [
    "submission = dfTest['Id'].to_frame()\n",
    "submission['Times'] = pd.DataFrame({'Times': (np.exp(yPred) - 1)})\n",
    "submission[['Id', 'Times']].to_csv('test_boost_v9.txt', index=False)"
   ]
  }
 ],
 "metadata": {
  "kernelspec": {
   "display_name": "Python 2",
   "language": "python",
   "name": "python2"
  },
  "language_info": {
   "codemirror_mode": {
    "name": "ipython",
    "version": 2
   },
   "file_extension": ".py",
   "mimetype": "text/x-python",
   "name": "python",
   "nbconvert_exporter": "python",
   "pygments_lexer": "ipython2",
   "version": "2.7.15"
  }
 },
 "nbformat": 4,
 "nbformat_minor": 2
}
