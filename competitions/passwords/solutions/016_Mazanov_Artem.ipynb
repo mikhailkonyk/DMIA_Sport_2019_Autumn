{
 "cells": [
  {
   "cell_type": "code",
   "execution_count": 2,
   "metadata": {},
   "outputs": [],
   "source": [
    "from rmsle import rmsle\n",
    "\n",
    "import pandas as pd\n",
    "import numpy as np\n",
    "from sklearn.tree import DecisionTreeClassifier\n",
    "from sklearn.ensemble import RandomForestClassifier, RandomForestRegressor, GradientBoostingRegressor\n",
    "from sklearn.ensemble import ExtraTreesClassifier, ExtraTreesRegressor\n",
    "from sklearn.neighbors import KNeighborsClassifier, KNeighborsRegressor\n",
    "\n",
    "from sklearn.model_selection import train_test_split, cross_val_score, GridSearchCV\n",
    "\n",
    "from sklearn.metrics import make_scorer, mean_squared_error\n",
    "import xgboost as xgb\n",
    "import lightgbm"
   ]
  },
  {
   "cell_type": "code",
   "execution_count": 3,
   "metadata": {},
   "outputs": [],
   "source": [
    "train_df = pd.read_csv(r'data\\train.csv')\n",
    "test_df = pd.read_csv(r'data\\Xtest.csv')\n",
    "\n",
    "train_df.fillna('', inplace=True)\n",
    "test_df.fillna('', inplace=True)"
   ]
  },
  {
   "cell_type": "code",
   "execution_count": 4,
   "metadata": {},
   "outputs": [],
   "source": [
    "train_dict = train_df.set_index('Password')['Times'].to_dict()\n",
    "test_list = list(test_df['Password'])"
   ]
  },
  {
   "cell_type": "code",
   "execution_count": 5,
   "metadata": {},
   "outputs": [
    {
     "name": "stdout",
     "output_type": "stream",
     "text": [
      "4151496 1037875\n"
     ]
    }
   ],
   "source": [
    "print(len(train_df), len(test_df))"
   ]
  },
  {
   "cell_type": "code",
   "execution_count": 6,
   "metadata": {},
   "outputs": [],
   "source": [
    "def get_type(c):\n",
    "    if c.isdigit():\n",
    "        return 0\n",
    "    elif c >= 'a' and c <= 'z':\n",
    "        return 1\n",
    "    elif c >= 'A' and c <= 'Z':\n",
    "        return 2\n",
    "    return 3\n",
    "\n",
    "def get_year_position(s):\n",
    "    for year in range(1900, 2019):\n",
    "        index = s.find(str(year))\n",
    "        if index != -1:\n",
    "            return index\n",
    "    return -1\n",
    "\n",
    "def get_features(passwords):\n",
    "    d = {'Len':[], 'IsDigit':[], 'DigitAmount':[], 'LowCharAmount':[], 'UpCharAmount':[], 'CoolCharAmount':[], \n",
    "         'ContDigitAmount':[], 'ContLowCharAmount':[], 'ContUpCharAmount':[], 'ContCoolCharAmount':[], 'ContainsYear':[],\n",
    "        'IsFullDate':[], 'IsYearInTheEnd':[]}\n",
    "\n",
    "    for i, elem in enumerate(passwords):\n",
    "        ps = str(elem)\n",
    "        d['Len'].append(len(ps))\n",
    "        try:\n",
    "            d['IsDigit'].append(int(str.isdigit(ps)))\n",
    "        except:\n",
    "            d['IsDigit'].append(0)\n",
    "        \n",
    "        all_amounts = [0] * 4\n",
    "        cont_ams = [0] * 4\n",
    "        cont_cur_ams = [0] * 4\n",
    "        \n",
    "        last_type = -1\n",
    "        cur_type = -1\n",
    "        \n",
    "        for c in ps:\n",
    "            cur_type = get_type(c)\n",
    "            all_amounts[cur_type] += 1\n",
    "            if last_type == -1:\n",
    "                last_type = cur_type\n",
    "                cont_cur_ams[cur_type] += 1\n",
    "                continue\n",
    "            if last_type == cur_type:\n",
    "                cont_cur_ams[cur_type] += 1\n",
    "                continue\n",
    "            cont_ams[last_type] = max(cont_ams[last_type], cont_cur_ams[last_type])\n",
    "            cont_cur_ams[last_type] = 0\n",
    "            cont_cur_ams[cur_type] += 1\n",
    "            last_type = cur_type\n",
    "            \n",
    "        for i in range(len(cont_ams)):\n",
    "            cont_ams[i] = max(cont_ams[i], cont_cur_ams[i])\n",
    "        \n",
    "        amounts_titles = ['DigitAmount', 'LowCharAmount', 'UpCharAmount', 'CoolCharAmount']\n",
    "        cont_am_titles = ['ContDigitAmount', 'ContLowCharAmount', 'ContUpCharAmount', 'ContCoolCharAmount']\n",
    "        \n",
    "        for i in range(len(all_amounts)):\n",
    "            d[amounts_titles[i]].append(all_amounts[i])\n",
    "            d[cont_am_titles[i]].append(cont_ams[i])\n",
    "            \n",
    "        year_position = get_year_position(ps)\n",
    "        d['ContainsYear'].append(year_position != -1)\n",
    "        d['IsYearInTheEnd'].append(year_position + 4 == len(ps))\n",
    "        \n",
    "        d['IsFullDate'].append(len(ps) == 8 and d['IsDigit'][-1] != 0 and d['ContainsYear'][-1] != 0)\n",
    "\n",
    "    return pd.DataFrame.from_dict(d)"
   ]
  },
  {
   "cell_type": "code",
   "execution_count": 7,
   "metadata": {},
   "outputs": [],
   "source": [
    "train_y = np.log(np.array(train_df['Times']) + 1)"
   ]
  },
  {
   "cell_type": "code",
   "execution_count": 8,
   "metadata": {},
   "outputs": [],
   "source": [
    "train_list = train_df['Password']\n",
    "\n",
    "train_x = get_features(train_list)"
   ]
  },
  {
   "cell_type": "code",
   "execution_count": 36,
   "metadata": {},
   "outputs": [
    {
     "name": "stdout",
     "output_type": "stream",
     "text": [
      "   Len  IsDigit  DigitAmount  LowCharAmount  UpCharAmount  CoolCharAmount  \\\n",
      "0   13        0            5              4             4               0   \n",
      "1    8        0            3              0             5               0   \n",
      "2    8        0            6              2             0               0   \n",
      "3   10        1           10              0             0               0   \n",
      "4    8        0            0              8             0               0   \n",
      "5    7        0            6              1             0               0   \n",
      "6    8        0            1              3             4               0   \n",
      "7    7        0            4              3             0               0   \n",
      "8    8        0            0              8             0               0   \n",
      "9    9        0            8              1             0               0   \n",
      "\n",
      "   ContDigitAmount  ContLowCharAmount  ContUpCharAmount  ContCoolCharAmount  \\\n",
      "0                3                  2                 1                   0   \n",
      "1                3                  0                 5                   0   \n",
      "2                6                  2                 0                   0   \n",
      "3               10                  0                 0                   0   \n",
      "4                0                  8                 0                   0   \n",
      "5                6                  1                 0                   0   \n",
      "6                1                  2                 3                   0   \n",
      "7                4                  3                 0                   0   \n",
      "8                0                  8                 0                   0   \n",
      "9                8                  1                 0                   0   \n",
      "\n",
      "   ContainsYear  IsFullDate  IsYearInTheEnd  \n",
      "0         False       False           False  \n",
      "1         False       False           False  \n",
      "2         False       False           False  \n",
      "3         False       False           False  \n",
      "4         False       False           False  \n",
      "5         False       False           False  \n",
      "6         False       False           False  \n",
      "7         False       False           False  \n",
      "8         False       False           False  \n",
      "9          True       False           False  \n"
     ]
    }
   ],
   "source": [
    "print(train_x[:10])"
   ]
  },
  {
   "cell_type": "code",
   "execution_count": 10,
   "metadata": {},
   "outputs": [],
   "source": [
    "rmse_scorer = make_scorer(mean_squared_error, greater_is_better=False)\n",
    "\n",
    "elements_amount = 10000\n",
    "r_state = 42"
   ]
  },
  {
   "cell_type": "code",
   "execution_count": 11,
   "metadata": {},
   "outputs": [
    {
     "name": "stdout",
     "output_type": "stream",
     "text": [
      "rmse: -0.142 (+/- 0.014)\n"
     ]
    }
   ],
   "source": [
    "rfr_clf = RandomForestRegressor(n_estimators=100, random_state=r_state)\n",
    "\n",
    "scores_rfr = cross_val_score(rfr_clf, train_x[:elements_amount], train_y[:elements_amount], \n",
    "                             cv=5, scoring=rmse_scorer, verbose=0)\n",
    "print(\"rmse: %0.3f (+/- %0.3f)\" % (scores_rfr.mean(), scores_rfr.std()))"
   ]
  },
  {
   "cell_type": "code",
   "execution_count": 12,
   "metadata": {},
   "outputs": [
    {
     "name": "stdout",
     "output_type": "stream",
     "text": [
      "rmse: -0.154 (+/- 0.017)\n"
     ]
    }
   ],
   "source": [
    "from sklearn import svm\n",
    "\n",
    "svr_clf = svm.SVR(gamma='auto')\n",
    "\n",
    "scores_svr = cross_val_score(svr_clf, train_x[:elements_amount], train_y[:elements_amount], \n",
    "                             cv=5, scoring=rmse_scorer, verbose=0)\n",
    "print(\"rmse: %0.3f (+/- %0.3f)\" % (scores_svr.mean(), scores_svr.std()))"
   ]
  },
  {
   "cell_type": "code",
   "execution_count": 13,
   "metadata": {},
   "outputs": [
    {
     "name": "stdout",
     "output_type": "stream",
     "text": [
      "rmse: -0.158 (+/- 0.017)\n"
     ]
    }
   ],
   "source": [
    "from sklearn import svm\n",
    "from sklearn.linear_model import SGDRegressor\n",
    "\n",
    "sgd_clf = SGDRegressor(max_iter=1000, tol=1e-3)\n",
    "\n",
    "scores_sgd = cross_val_score(sgd_clf, train_x[:elements_amount], train_y[:elements_amount], cv=5, \n",
    "                             scoring=rmse_scorer, verbose=0)\n",
    "print(\"rmse: %0.3f (+/- %0.3f)\" % (scores_sgd.mean(), scores_sgd.std()))"
   ]
  },
  {
   "cell_type": "code",
   "execution_count": 14,
   "metadata": {},
   "outputs": [
    {
     "name": "stdout",
     "output_type": "stream",
     "text": [
      "rmse: -0.186 (+/- 0.021)\n"
     ]
    }
   ],
   "source": [
    "xgb_clf = xgb.XGBClassifier(n_estimators=100, random_state=r_state)\n",
    "\n",
    "scores_xgb = cross_val_score(xgb_clf, train_x[:elements_amount], train_y[:elements_amount], cv=5, \n",
    "                             scoring=rmse_scorer, verbose=0)\n",
    "print(\"rmse: %0.3f (+/- %0.3f)\" % (scores_xgb.mean(), scores_xgb.std()))"
   ]
  },
  {
   "cell_type": "code",
   "execution_count": 15,
   "metadata": {},
   "outputs": [
    {
     "name": "stdout",
     "output_type": "stream",
     "text": [
      "rmse: -0.141 (+/- 0.015)\n"
     ]
    }
   ],
   "source": [
    "lgbm_clf = lightgbm.LGBMRegressor(n_estimators=100, random_state=r_state)\n",
    "\n",
    "scores_lgbm = cross_val_score(lgbm_clf, train_x[:elements_amount], train_y[:elements_amount], cv=5,\n",
    "                              scoring=rmse_scorer, verbose=0)\n",
    "print(\"rmse: %0.3f (+/- %0.3f)\" % (scores_lgbm.mean(), scores_lgbm.std()))"
   ]
  },
  {
   "cell_type": "code",
   "execution_count": 16,
   "metadata": {},
   "outputs": [],
   "source": [
    "test_list = test_df['Password']\n",
    "    \n",
    "test_x = get_features(test_list)"
   ]
  },
  {
   "cell_type": "code",
   "execution_count": 17,
   "metadata": {},
   "outputs": [
    {
     "data": {
      "text/plain": [
       "LGBMRegressor(boosting_type='gbdt', class_weight=None, colsample_bytree=1.0,\n",
       "       importance_type='split', learning_rate=0.1, max_depth=-1,\n",
       "       min_child_samples=20, min_child_weight=0.001, min_split_gain=0.0,\n",
       "       n_estimators=100, n_jobs=-1, num_leaves=31, objective=None,\n",
       "       random_state=42, reg_alpha=0.0, reg_lambda=0.0, silent=True,\n",
       "       subsample=1.0, subsample_for_bin=200000, subsample_freq=0)"
      ]
     },
     "execution_count": 17,
     "metadata": {},
     "output_type": "execute_result"
    }
   ],
   "source": [
    "from sklearn import svm\n",
    "\n",
    "#rf_clf = RandomForestClassifier(n_estimators=1000, n_jobs=6)\n",
    "#rf_clf = RandomForestRegressor(n_estimators=1000)\n",
    "#rf_clf = DecisionTreeClassifier()\n",
    "#rf_clf = svm.LinearSVR(tol=1e-5)\n",
    "#svr_clf = svm.SVR(gamma='auto')\n",
    "#xgb_clf = xgb.XGBClassifier(n_estimators=100)\n",
    "lgbm_clf = lightgbm.LGBMRegressor(n_estimators=100, random_state=r_state)\n",
    "\n",
    "lgbm_clf.fit(train_x, train_y)"
   ]
  },
  {
   "cell_type": "code",
   "execution_count": 18,
   "metadata": {},
   "outputs": [],
   "source": [
    "answer = np.exp(np.array(lgbm_clf.predict(test_x))) - 1"
   ]
  },
  {
   "cell_type": "code",
   "execution_count": 20,
   "metadata": {},
   "outputs": [],
   "source": [
    "def improve_answer(arr, ps_list, tr_dict):\n",
    "    am = 0\n",
    "    diff_arr = [1, -1, 2, -2, 3, -3]\n",
    "    for idx, ps in enumerate(ps_list):\n",
    "        index = get_year_position(ps)\n",
    "        if index == -1:\n",
    "            continue\n",
    "        \n",
    "        nearest_values = []\n",
    "        \n",
    "        year = int(ps[index:index + 4])\n",
    "        for diff in diff_arr:\n",
    "            new_year = year + diff\n",
    "            new_pass = '{0}{1}{2}'.format(ps[:index], str(new_year), ps[index + 4:])\n",
    "            times = tr_dict.get(new_pass)\n",
    "            if times != None:\n",
    "                nearest_values.append(times)\n",
    "        \n",
    "        if len(nearest_values) != 0:\n",
    "            arr[idx] = np.exp(np.sum(np.log(np.array(nearest_values) + 1)) / len(nearest_values)) - 1\n",
    "            am += 1\n",
    "    print(am)"
   ]
  },
  {
   "cell_type": "code",
   "execution_count": 21,
   "metadata": {
    "scrolled": true
   },
   "outputs": [
    {
     "name": "stdout",
     "output_type": "stream",
     "text": [
      "22517\n"
     ]
    }
   ],
   "source": [
    "improve_answer(answer, test_list, train_dict)"
   ]
  },
  {
   "cell_type": "code",
   "execution_count": 22,
   "metadata": {},
   "outputs": [],
   "source": [
    "answer_df = pd.DataFrame([range(len(answer)), answer]).T"
   ]
  },
  {
   "cell_type": "code",
   "execution_count": 24,
   "metadata": {},
   "outputs": [],
   "source": [
    "answer_df.columns=['ID', 'Times']\n",
    "answer_df = answer_df.astype({'ID': 'int32'})\n",
    "answer_df.to_csv(r'predictions\\lgbm_year_improved.csv', index=False)"
   ]
  },
  {
   "cell_type": "code",
   "execution_count": 25,
   "metadata": {},
   "outputs": [],
   "source": [
    "from collections import Counter\n",
    "\n",
    "c = Counter(train_y)"
   ]
  },
  {
   "cell_type": "code",
   "execution_count": 26,
   "metadata": {},
   "outputs": [
    {
     "name": "stdout",
     "output_type": "stream",
     "text": [
      "[(0.6931471805599453, 3547155),\n",
      " (1.0986122886681098, 309205),\n",
      " (1.3862943611198906, 96462),\n",
      " (1.6094379124341003, 47704),\n",
      " (1.791759469228055, 27903),\n",
      " (1.9459101490553132, 18627),\n",
      " (2.0794415416798357, 13635),\n",
      " (2.1972245773362196, 10567),\n",
      " (2.302585092994046, 8235),\n",
      " (2.3978952727983707, 6775)]\n"
     ]
    }
   ],
   "source": [
    "from pprint import pprint\n",
    "pprint(c.most_common(10))"
   ]
  },
  {
   "cell_type": "code",
   "execution_count": 27,
   "metadata": {},
   "outputs": [],
   "source": [
    "train_stat = []\n",
    "\n",
    "for item in train_dict.items():\n",
    "    train_stat.append(item)"
   ]
  },
  {
   "cell_type": "code",
   "execution_count": 28,
   "metadata": {},
   "outputs": [],
   "source": [
    "train_stat.sort(key=lambda x:x[1], reverse=True)"
   ]
  },
  {
   "cell_type": "code",
   "execution_count": 29,
   "metadata": {},
   "outputs": [
    {
     "name": "stdout",
     "output_type": "stream",
     "text": [
      "[('2000', 1861),\n",
      " ('1990', 733),\n",
      " ('1991', 720),\n",
      " ('1992', 709),\n",
      " ('1989', 613),\n",
      " ('1988', 564),\n",
      " ('1993', 564),\n",
      " ('1987', 464),\n",
      " ('1986', 444),\n",
      " ('1984', 442),\n",
      " ('1969', 428),\n",
      " ('1980', 415),\n",
      " ('1979', 407),\n",
      " ('1994', 388),\n",
      " ('1977', 382),\n",
      " ('1981', 351),\n",
      " ('1974', 343),\n",
      " ('1975', 342),\n",
      " ('1966', 340),\n",
      " ('1982', 335),\n",
      " ('1978', 332),\n",
      " ('1976', 328),\n",
      " ('1968', 327),\n",
      " ('1973', 324),\n",
      " ('1972', 320),\n",
      " ('1970', 306),\n",
      " ('1967', 302),\n",
      " ('2001', 294),\n",
      " ('1971', 290),\n",
      " ('1963', 262),\n",
      " ('1995', 257),\n",
      " ('1965', 247),\n",
      " ('1961', 220),\n",
      " ('2002', 210),\n",
      " ('1999', 206),\n",
      " ('1960', 197),\n",
      " ('1996', 189),\n",
      " ('2020', 180),\n",
      " ('1962', 175),\n",
      " ('1959', 160),\n",
      " ('1957', 151),\n",
      " ('1955', 140),\n",
      " ('1998', 129),\n",
      " ('1956', 129),\n",
      " ('1954', 125),\n",
      " ('2003', 121),\n",
      " ('2004', 110),\n",
      " ('1953', 108),\n",
      " ('1997', 103),\n",
      " ('2010', 101),\n",
      " ('2005', 100),\n",
      " ('1945', 93),\n",
      " ('1947', 86),\n",
      " ('1948', 84),\n",
      " ('2008', 83),\n",
      " ('1949', 81),\n",
      " ('1951', 78),\n",
      " ('1941', 77),\n",
      " ('1946', 75),\n",
      " ('2009', 74),\n",
      " ('1942', 72),\n",
      " ('2006', 71),\n",
      " ('1950', 70),\n",
      " ('2007', 67),\n",
      " ('1943', 65),\n",
      " ('1944', 62),\n",
      " ('1905', 62),\n",
      " ('2012', 55),\n",
      " ('1906', 54),\n",
      " ('1911', 54),\n",
      " ('2011', 53),\n",
      " ('1912', 48),\n",
      " ('1908', 46),\n",
      " ('1902', 44),\n",
      " ('1900', 44),\n",
      " ('1917', 42),\n",
      " ('1932', 38),\n",
      " ('1907', 38),\n",
      " ('1933', 37),\n",
      " ('1901', 35),\n",
      " ('1936', 34),\n",
      " ('1937', 34),\n",
      " ('1934', 33),\n",
      " ('1920', 31),\n",
      " ('1928', 31),\n",
      " ('1904', 30),\n",
      " ('1929', 29),\n",
      " ('1913', 29),\n",
      " ('1921', 27),\n",
      " ('1938', 27),\n",
      " ('1923', 26),\n",
      " ('1922', 26),\n",
      " ('1935', 26),\n",
      " ('1925', 25),\n",
      " ('1931', 23),\n",
      " ('1916', 22),\n",
      " ('2013', 19),\n",
      " ('1927', 19),\n",
      " ('2014', 17),\n",
      " ('1915', 14),\n",
      " ('2019', 12),\n",
      " ('2017', 9),\n",
      " ('2016', 8),\n",
      " ('2015', 6)]\n"
     ]
    }
   ],
   "source": [
    "from pprint import pprint\n",
    "\n",
    "tmp_stat = list(filter(lambda x: len(x[0]) == 4 and str.isdigit(x[0]) and x[0] >= '1900' and x[0] <= '2020', train_stat))\n",
    "\n",
    "pprint(tmp_stat)"
   ]
  },
  {
   "cell_type": "code",
   "execution_count": 30,
   "metadata": {},
   "outputs": [
    {
     "name": "stdout",
     "output_type": "stream",
     "text": [
      "['1823',\n",
      " '1835',\n",
      " '1839',\n",
      " '1842',\n",
      " '1843',\n",
      " '1844',\n",
      " '1854',\n",
      " '1859',\n",
      " '1860',\n",
      " '1861',\n",
      " '1865',\n",
      " '1874',\n",
      " '1890',\n",
      " '1903',\n",
      " '1909',\n",
      " '1910',\n",
      " '1914',\n",
      " '1918',\n",
      " '1919',\n",
      " '1924',\n",
      " '1926',\n",
      " '1930',\n",
      " '1939',\n",
      " '1940',\n",
      " '1952',\n",
      " '1958',\n",
      " '1964',\n",
      " '1983',\n",
      " '1985',\n",
      " '2018']\n"
     ]
    }
   ],
   "source": [
    "test_stat = []\n",
    "\n",
    "for item in test_list:\n",
    "    test_stat.append(item)\n",
    "    \n",
    "tmp_test_stat = list(filter(lambda x: len(x) == 4 and str.isdigit(x) and x >= '1800' and x <= '2020', test_stat))\n",
    "\n",
    "pprint(sorted(tmp_test_stat))"
   ]
  }
 ],
 "metadata": {
  "kernelspec": {
   "display_name": "Python 3",
   "language": "python",
   "name": "python3"
  },
  "language_info": {
   "codemirror_mode": {
    "name": "ipython",
    "version": 3
   },
   "file_extension": ".py",
   "mimetype": "text/x-python",
   "name": "python",
   "nbconvert_exporter": "python",
   "pygments_lexer": "ipython3",
   "version": "3.7.1"
  }
 },
 "nbformat": 4,
 "nbformat_minor": 2
}
