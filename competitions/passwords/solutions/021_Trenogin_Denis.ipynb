{
 "cells": [
  {
   "cell_type": "code",
   "execution_count": 1,
   "metadata": {},
   "outputs": [],
   "source": [
    "import numpy as np\n",
    "import pandas as pd\n",
    "from sklearn.linear_model import LinearRegression\n",
    "from sklearn.ensemble import RandomForestRegressor\n",
    "from sklearn.model_selection import cross_val_score, train_test_split\n",
    "from xgboost import XGBRegressor\n",
    "\n",
    "import nltk\n",
    "from nltk.corpus import words\n",
    "\n",
    "import matplotlib.pyplot as plt\n",
    "%matplotlib inline"
   ]
  },
  {
   "cell_type": "code",
   "execution_count": 2,
   "metadata": {},
   "outputs": [],
   "source": [
    "def rmsle(y_true, y_pred):\n",
    "    return np.sqrt(np.mean((np.log(y_true + 1) - np.log(y_pred + 1)) ** 2))"
   ]
  },
  {
   "cell_type": "code",
   "execution_count": 3,
   "metadata": {},
   "outputs": [],
   "source": [
    "def save_submission(y_pred):\n",
    "    y_pred_df = pd.DataFrame(y_pred, columns=[\"Times\"])\n",
    "    y_pred_df.index.name = \"Id\"\n",
    "    y_pred_df.to_csv(\"data/y_test.csv\")"
   ]
  },
  {
   "cell_type": "code",
   "execution_count": 4,
   "metadata": {},
   "outputs": [],
   "source": [
    "words_set = set(words.words())"
   ]
  },
  {
   "cell_type": "markdown",
   "metadata": {},
   "source": [
    "## Data"
   ]
  },
  {
   "cell_type": "code",
   "execution_count": 5,
   "metadata": {},
   "outputs": [],
   "source": [
    "data = pd.read_csv(\"data/train.csv\")\n",
    "data.dropna(subset=[\"Password\"], inplace=True)"
   ]
  },
  {
   "cell_type": "code",
   "execution_count": 6,
   "metadata": {},
   "outputs": [],
   "source": [
    "X = data[[\"Password\"]]\n",
    "y = data[\"Times\"]"
   ]
  },
  {
   "cell_type": "code",
   "execution_count": 7,
   "metadata": {},
   "outputs": [
    {
     "name": "stderr",
     "output_type": "stream",
     "text": [
      "C:\\Users\\treno\\Anaconda3\\lib\\site-packages\\numpy\\lib\\arraysetops.py:569: FutureWarning: elementwise comparison failed; returning scalar instead, but in the future will perform elementwise comparison\n",
      "  mask |= (ar1 == a)\n"
     ]
    }
   ],
   "source": [
    "MODE = 'test'\n",
    "if MODE == 'validation':\n",
    "    X_train, X_test, y_train, y_test = train_test_split(X, y, test_size=0.3, shuffle=True, random_state=42)\n",
    "elif MODE == 'test':\n",
    "    X_train = X.copy()\n",
    "    y_train = y.copy()\n",
    "    X_test = pd.read_csv('data/Xtest.csv', index_col=0).fillna(\"\")"
   ]
  },
  {
   "cell_type": "code",
   "execution_count": 8,
   "metadata": {},
   "outputs": [],
   "source": [
    "def preprocess_X(X_):\n",
    "    X_ = X_.copy()\n",
    "    X_[\"pass_len\"] = X_[\"Password\"].str.len()\n",
    "    X_[\"numeric\"] = X_[\"Password\"].str.isdigit()\n",
    "    X_[\"alphabetic\"] = X_[\"Password\"].str.isalpha()\n",
    "\n",
    "    X_[\"lower_char\"] = X_[\"Password\"].str.islower()\n",
    "    X_[\"upper_char\"] = X_[\"Password\"].str.isupper()\n",
    "\n",
    "    X_[\"has_spec_char\"] = X_[\"Password\"].str.contains(\"^((?![a-zA-Z0-9]).)*$\")\n",
    "\n",
    "    X_[\"hard_pass\"] = ~X_[\"numeric\"] & ~X_[\"alphabetic\"] & ~X_[\"lower_char\"] & ~X_[\"upper_char\"]\n",
    "\n",
    "    X_[\"has_pass\"] = X_[\"Password\"].str.lower().str.contains(\"pass\")\n",
    "    X_[\"has_password\"] = X_[\"Password\"].str.lower().str.contains(\"password\")\n",
    "    X_[\"has_123\"] = X_[\"Password\"].str.contains(\"123\")\n",
    "    X_[\"has_12345\"] = X_[\"Password\"].str.contains(\"12345\")\n",
    "    X_[\"has_321\"] = X_[\"Password\"].str.contains(\"321\")\n",
    "    X_[\"has_54321\"] = X_[\"Password\"].str.contains(\"54321\")\n",
    "    X_[\"has_qazwsx\"] = X_[\"Password\"].str.lower().str.contains(\"qazwsx\")\n",
    "    X_[\"has_qwerty\"] = X_[\"Password\"].str.lower().str.contains(\"qwerty\")\n",
    "    X_[\"has_asdfgh\"] = X_[\"Password\"].str.lower().str.contains(\"asdfgh\")\n",
    "    X_[\"has_zxcvbn\"] = X_[\"Password\"].str.lower().str.contains(\"zxcvbn\")\n",
    "\n",
    "    X_[\"unique_symbols\"] = X_[\"Password\"].apply(lambda x: len(set(x)))\n",
    "    X_[\"unique_symbols_share\"] = (X_[\"unique_symbols\"] / X_[\"pass_len\"]).fillna(0)\n",
    "\n",
    "    X_[\"complexity\"] = (~X_[\"alphabetic\"] * 10\n",
    "                         + (~X_[\"numeric\"] & ~X_[\"lower_char\"]) * 26\n",
    "                         + (~X_[\"numeric\"] & ~X_[\"upper_char\"]) * 26\n",
    "                         + X_[\"has_spec_char\"] * 32)\n",
    "    X_[\"entropy\"] = np.log(X_[\"complexity\"]) / np.log(2) * X_[\"pass_len\"]\n",
    "    \n",
    "    X_[\"is_word\"] = X_[\"Password\"].str.lower().apply(lambda x: x in words_set)\n",
    "    X_[\"is_word_and_1sym\"] = X_[\"Password\"].str.lower().apply(lambda x: x[:-1] in words_set)\n",
    "    X_[\"is_word_and_2sym\"] = X_[\"Password\"].str.lower().apply(lambda x: x[:-2] in words_set)\n",
    "    X_[\"is_word_and_3sym\"] = X_[\"Password\"].str.lower().apply(lambda x: x[:-3] in words_set)\n",
    "    \n",
    "    X_[\"is_palindrome\"] = X_[\"Password\"] == X_[\"Password\"].str[::-1]\n",
    "#     X_[\"has_phone_number\"] = X_[\"Password\"].str.contains(\"89[0-8][0-9]{8}\")\n",
    "    X_[\"is_date\"] = (X_[\"Password\"].str.contains(\"^19[0-9]{2}[0-1][0-9][0-3][0-9]$\")\n",
    "                     & ~X_[\"Password\"].str.contains(\"^19[0-9]{2}1[3-9][0-3][0-9]$\")\n",
    "                     | X_[\"Password\"].str.contains(\"^20[0-9]{2}[0-1][0-9][0-3][0-9]$\")\n",
    "                     & ~X_[\"Password\"].str.contains(\"^20[0-9]{2}1[3-9][0-3][0-9]$\"))\n",
    "    X_[\"is_date_with_decade\"] = X_[\"Password\"].loc[X_[\"is_date\"]].copy().str[:3].astype(int)\n",
    "    X_[\"is_date_with_decade\"].fillna(0, inplace=True)\n",
    "\n",
    "    X_.drop([\"Password\"], axis=1, inplace=True)\n",
    "    \n",
    "    return X_"
   ]
  },
  {
   "cell_type": "code",
   "execution_count": 9,
   "metadata": {},
   "outputs": [
    {
     "name": "stderr",
     "output_type": "stream",
     "text": [
      "C:\\Users\\treno\\Anaconda3\\lib\\site-packages\\ipykernel_launcher.py:10: UserWarning: This pattern has match groups. To actually get the groups, use str.extract.\n",
      "  # Remove the CWD from sys.path while we load stuff.\n"
     ]
    },
    {
     "name": "stdout",
     "output_type": "stream",
     "text": [
      "Wall time: 2min 2s\n"
     ]
    }
   ],
   "source": [
    "%%time\n",
    "X_train = preprocess_X(X_train)"
   ]
  },
  {
   "cell_type": "code",
   "execution_count": 10,
   "metadata": {},
   "outputs": [
    {
     "name": "stderr",
     "output_type": "stream",
     "text": [
      "C:\\Users\\treno\\Anaconda3\\lib\\site-packages\\ipykernel_launcher.py:10: UserWarning: This pattern has match groups. To actually get the groups, use str.extract.\n",
      "  # Remove the CWD from sys.path while we load stuff.\n"
     ]
    },
    {
     "name": "stdout",
     "output_type": "stream",
     "text": [
      "Wall time: 29.3 s\n"
     ]
    }
   ],
   "source": [
    "%%time \n",
    "X_test = preprocess_X(X_test)"
   ]
  },
  {
   "cell_type": "markdown",
   "metadata": {},
   "source": [
    "## Baseline"
   ]
  },
  {
   "cell_type": "code",
   "execution_count": 11,
   "metadata": {},
   "outputs": [
    {
     "name": "stdout",
     "output_type": "stream",
     "text": [
      "Optimal score is 0.4092197443727306 with constant prediction of 1.265433528519321.\n"
     ]
    }
   ],
   "source": [
    "opt_const = np.exp(np.mean(np.log(y_train + 1))) - 1\n",
    "print(f\"Optimal score is {rmsle(y_train, opt_const)} with constant prediction of {opt_const}.\")"
   ]
  },
  {
   "cell_type": "code",
   "execution_count": 12,
   "metadata": {},
   "outputs": [],
   "source": [
    "y_test_pred = pd.DataFrame(opt_const, index=X_test.index, columns=[\"Times\"])\n",
    "y_test_pred.index.name = \"Id\"\n",
    "y_test_pred.to_csv(\"data/y_test.csv\")"
   ]
  },
  {
   "cell_type": "markdown",
   "metadata": {},
   "source": [
    "## Random Forest"
   ]
  },
  {
   "cell_type": "code",
   "execution_count": 13,
   "metadata": {},
   "outputs": [],
   "source": [
    "X_train_ = X_train.astype(float)\n",
    "X_test_ = X_test.astype(float)"
   ]
  },
  {
   "cell_type": "code",
   "execution_count": 87,
   "metadata": {},
   "outputs": [
    {
     "name": "stdout",
     "output_type": "stream",
     "text": [
      "Wall time: 6min 6s\n"
     ]
    },
    {
     "data": {
      "text/plain": [
       "array([0.37622217, 0.37592861, 0.37641954])"
      ]
     },
     "execution_count": 87,
     "metadata": {},
     "output_type": "execute_result"
    }
   ],
   "source": [
    "%%time\n",
    "np.sqrt(-cross_val_score(RandomForestRegressor(n_estimators=10, n_jobs=4, random_state=42),\n",
    "                         X_train_, np.log(y_train + 1), scoring=\"neg_mean_squared_error\", cv=3))"
   ]
  },
  {
   "cell_type": "code",
   "execution_count": 14,
   "metadata": {},
   "outputs": [
    {
     "name": "stdout",
     "output_type": "stream",
     "text": [
      "Wall time: 3min 58s\n"
     ]
    },
    {
     "data": {
      "text/plain": [
       "RandomForestRegressor(bootstrap=True, criterion='mse', max_depth=None,\n",
       "                      max_features=0.5, max_leaf_nodes=None,\n",
       "                      min_impurity_decrease=0.0, min_impurity_split=None,\n",
       "                      min_samples_leaf=1, min_samples_split=2,\n",
       "                      min_weight_fraction_leaf=0.0, n_estimators=20, n_jobs=4,\n",
       "                      oob_score=False, random_state=42, verbose=0,\n",
       "                      warm_start=False)"
      ]
     },
     "execution_count": 14,
     "metadata": {},
     "output_type": "execute_result"
    }
   ],
   "source": [
    "%%time\n",
    "model_rf = RandomForestRegressor(n_estimators=20, n_jobs=4, max_features=0.5, random_state=42)\n",
    "model_rf.fit(X_train_, np.log(y_train + 1))"
   ]
  },
  {
   "cell_type": "code",
   "execution_count": 16,
   "metadata": {},
   "outputs": [
    {
     "name": "stdout",
     "output_type": "stream",
     "text": [
      "Train score: 0.3750783255866485\n"
     ]
    }
   ],
   "source": [
    "print(f\"Train score: {rmsle(y_train, np.exp(model_rf.predict(X_train_)) - 1)}\")\n",
    "if MODE == \"validation\":\n",
    "    print(f\"Test score: {rmsle(y_test, np.exp(model_rf.predict(X_test_)) - 1)}\")"
   ]
  },
  {
   "cell_type": "code",
   "execution_count": 17,
   "metadata": {},
   "outputs": [],
   "source": [
    "y_test_pred = np.exp(model_rf.predict(X_test_)) - 1\n",
    "save_submission(y_test_pred)"
   ]
  },
  {
   "cell_type": "markdown",
   "metadata": {},
   "source": [
    "## XGBoost"
   ]
  },
  {
   "cell_type": "code",
   "execution_count": 118,
   "metadata": {},
   "outputs": [],
   "source": [
    "X_train_ = X_train.astype(float)"
   ]
  },
  {
   "cell_type": "code",
   "execution_count": 123,
   "metadata": {},
   "outputs": [
    {
     "name": "stdout",
     "output_type": "stream",
     "text": [
      "Wall time: 21min 39s\n"
     ]
    },
    {
     "data": {
      "text/plain": [
       "array([0.37616835, 0.37588593, 0.37646179])"
      ]
     },
     "execution_count": 123,
     "metadata": {},
     "output_type": "execute_result"
    }
   ],
   "source": [
    "%%time\n",
    "np.sqrt(-cross_val_score(XGBRegressor(n_estimators=100, max_depth=5, n_jobs=4, random_state=42),\n",
    "                         X_train_, np.log(y_train + 1), scoring=\"neg_mean_squared_error\", cv=3))"
   ]
  },
  {
   "cell_type": "code",
   "execution_count": 128,
   "metadata": {},
   "outputs": [
    {
     "name": "stdout",
     "output_type": "stream",
     "text": [
      "Train score: 0.3750912985946533\n",
      "Wall time: 13min 27s\n"
     ]
    }
   ],
   "source": [
    "%%time\n",
    "model_gb = XGBRegressor(n_estimators=100, max_depth=7, n_jobs=4, random_state=42, learning_rate=0.5)\n",
    "model_gb.fit(X_train_, np.log(y_train + 1))\n",
    "print(f\"Train score: {rmsle(y_train, np.exp(model_gb.predict(X_train_)) - 1)}\")"
   ]
  },
  {
   "cell_type": "code",
   "execution_count": 129,
   "metadata": {},
   "outputs": [
    {
     "name": "stdout",
     "output_type": "stream",
     "text": [
      "Train score: 0.37506122756145993\n"
     ]
    }
   ],
   "source": [
    "print(f\"Train score: {rmsle(y_train, np.exp((model_rf.predict(X_train_) + model_gb.predict(X_train_)) / 2) - 1)}\")"
   ]
  }
 ],
 "metadata": {
  "kernelspec": {
   "display_name": "Python 3",
   "language": "python",
   "name": "python3"
  },
  "language_info": {
   "codemirror_mode": {
    "name": "ipython",
    "version": 3
   },
   "file_extension": ".py",
   "mimetype": "text/x-python",
   "name": "python",
   "nbconvert_exporter": "python",
   "pygments_lexer": "ipython3",
   "version": "3.7.3"
  }
 },
 "nbformat": 4,
 "nbformat_minor": 4
}
