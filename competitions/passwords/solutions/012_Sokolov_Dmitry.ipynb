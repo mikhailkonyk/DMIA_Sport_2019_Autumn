{
 "cells": [
  {
   "cell_type": "markdown",
   "metadata": {},
   "source": [
    "# DMIA sport intro: How frequent is this password?"
   ]
  },
  {
   "cell_type": "markdown",
   "metadata": {},
   "source": [
    "**Данный ноутбук выполнялся на платформе Kaggle, как Kaggle kernel. Из библиотек машинного обучения использовался только sklearn. В первой версии ноутбука использовался только случайный лес с чуть более глубокими деревьями, чем в данном ноутбуке. Также в нем использовалось разделение на обучающую и валидационную выборки. Увеличение глубины деревьев случайного леса приводило к снижению ошибки, как на обучаюющей, так и на валидационной выборке. Правда это снижение было достаточно скромным. Поэтому для более существенного улучшения результата была обучена модель градиентного бустинга.**"
   ]
  },
  {
   "cell_type": "code",
   "execution_count": 1,
   "metadata": {
    "_cell_guid": "b1076dfc-b9ad-4769-8c92-a6c4dae69d19",
    "_uuid": "8f2839f25d086af736a60e9eeb907d3b93b6e0e5"
   },
   "outputs": [
    {
     "name": "stdout",
     "output_type": "stream",
     "text": [
      "/kaggle/input/dmia-sport-2019-fall-intro/Xtest.csv\n",
      "/kaggle/input/dmia-sport-2019-fall-intro/train.csv\n",
      "/kaggle/input/dmia-sport-2019-fall-intro/sample_submission.csv\n"
     ]
    }
   ],
   "source": [
    "import numpy as np # linear algebra\n",
    "import pandas as pd # data processing, CSV file I/O (e.g. pd.read_csv)\n",
    "\n",
    "# Input data files are available in the \"../input/\" directory.\n",
    "# For example, running this (by clicking run or pressing Shift+Enter) will list all files under the input directory\n",
    "\n",
    "import os\n",
    "for dirname, _, filenames in os.walk('/kaggle/input'):\n",
    "    for filename in filenames:\n",
    "        print(os.path.join(dirname, filename))\n",
    "\n",
    "# Any results you write to the current directory are saved as output."
   ]
  },
  {
   "cell_type": "code",
   "execution_count": 2,
   "metadata": {
    "_cell_guid": "79c7e3d0-c299-4dcb-8224-4455121ee9b0",
    "_uuid": "d629ff2d2480ee46fbb7e2d37f6b5fab8052498a"
   },
   "outputs": [],
   "source": [
    "from sklearn.model_selection import train_test_split\n",
    "from sklearn.metrics import mean_squared_error\n",
    "from sklearn.ensemble import ExtraTreesRegressor\n",
    "from sklearn.feature_extraction.text import CountVectorizer"
   ]
  },
  {
   "cell_type": "code",
   "execution_count": 3,
   "metadata": {},
   "outputs": [],
   "source": [
    "train = pd.read_csv('/kaggle/input/dmia-sport-2019-fall-intro/train.csv', dtype={'Times':np.uint16}, keep_default_na=False)\n",
    "test = pd.read_csv('/kaggle/input/dmia-sport-2019-fall-intro/Xtest.csv', index_col=['Id'], keep_default_na=False)"
   ]
  },
  {
   "cell_type": "markdown",
   "metadata": {},
   "source": [
    "**В следующих 2-х ячейках - простая функция для определения \"среднего расстояния между соседними символами на клавиатуре\". Она была написана, чтобы отловить те пароли, в которых идут подряд несколько расположенных рядом (или одинаковых) клавиш. Эта функция считает расстояние между одинаковыми или соседними (в одном ряду) клавишами равным нулю. Впрочем, значение (feature importance) признака, сгенерированного этой функцией, для моделей случайного леса оказалось не очень существенным. А эксперименты с разными вариантами функции показали, что от выбора таких вариантов почти ничего не меняется.**"
   ]
  },
  {
   "cell_type": "code",
   "execution_count": 4,
   "metadata": {},
   "outputs": [],
   "source": [
    "kbdrows=[\"`1234567890-=\", \"~!@#$%^&*()_+\", \"qwertyuiop[]\\\\\", \"asdfghjkl;'\", \"zxcvbnm,./\"]\n",
    "kbddists = {}\n",
    "for i1, row1 in enumerate(kbdrows):\n",
    "    for j1, ch1 in enumerate(row1):\n",
    "        for i2, row2 in enumerate(kbdrows):\n",
    "            for j2, ch2 in enumerate(row2):\n",
    "                if min(i1, i2) == 0 and max(i1, i2) > 1:\n",
    "                    kbddists[(ch1, ch2)] = abs(i1 - i2 - 1) + abs(j1 - j2)*(abs(j1 - j2) > 1)\n",
    "                else:\n",
    "                    kbddists[(ch1, ch2)] = abs(i1 - i2) + abs(j1 - j2)*(abs(j1 - j2) > 1)      "
   ]
  },
  {
   "cell_type": "code",
   "execution_count": 5,
   "metadata": {},
   "outputs": [],
   "source": [
    "def avedist(s):\n",
    "    if len(s) < 2:\n",
    "        return 0\n",
    "    a = 0;\n",
    "    for i in range(len(s)-1):\n",
    "        a += kbddists.get((s[i], s[i+1]), 5)\n",
    "    return a/(len(s) - 1)"
   ]
  },
  {
   "cell_type": "markdown",
   "metadata": {},
   "source": [
    "**Далее вычисляются 14 простых признаков: длина пароля, количество уникальных символов в нем, количества и доли уникальных цифр, строчных и прописных букв, всех букв и букв вместе с цифрами среди уникальных символов пароля, а также упомянутое ранее среднее расстояние между соседними символами на клавиатуре. Возможно какие-то из этих признаков извыточны в силу высокой скорелированности, но для случайного леса и градиентного бустинга на деревьях это не помеха.**"
   ]
  },
  {
   "cell_type": "code",
   "execution_count": 6,
   "metadata": {},
   "outputs": [],
   "source": [
    "df = pd.concat([train.drop('Times', axis=1), test], sort=False)"
   ]
  },
  {
   "cell_type": "code",
   "execution_count": 7,
   "metadata": {},
   "outputs": [],
   "source": [
    "df['len'] = df.Password.str.len().astype('int8')"
   ]
  },
  {
   "cell_type": "code",
   "execution_count": 8,
   "metadata": {},
   "outputs": [],
   "source": [
    "digits = set('0123456789')\n",
    "uppers = set('ABCDEFGHIJKLMNOPQRSTUVWXYZ')\n",
    "lowers = set('abcdefghijklmnopqrstuvwxyz')"
   ]
  },
  {
   "cell_type": "code",
   "execution_count": 9,
   "metadata": {},
   "outputs": [
    {
     "name": "stdout",
     "output_type": "stream",
     "text": [
      "CPU times: user 41.4 s, sys: 3.86 s, total: 45.3 s\n",
      "Wall time: 44.9 s\n"
     ]
    }
   ],
   "source": [
    "%%time\n",
    "df['set'] = df.Password.apply(lambda s: set(s))\n",
    "df['nunique'] = df['set'].apply(len).astype('int8')\n",
    "df['digit'] = df['set'].apply(lambda x: len(x & digits)).astype('int8')\n",
    "df['upper'] = df['set'].apply(lambda x: len(x & uppers)).astype('int8')\n",
    "df['lower'] = df['set'].apply(lambda x: len(x & lowers)).astype('int8')\n",
    "df['letters'] = df['upper'] + df['lower']\n",
    "df['alpha'] = df['digit'] + df['letters']\n",
    "df['nunique_share'] = df['nunique'] / df['len']\n",
    "df['digit_share'] = df['digit'] / df['nunique']\n",
    "df['upper_share'] = df['upper'] / df['nunique']\n",
    "df['lower_share'] = df['lower'] / df['nunique']\n",
    "df['letters_share'] = df['letters'] / df['nunique']\n",
    "df['alpha_share'] = df['alpha'] / df['nunique']"
   ]
  },
  {
   "cell_type": "code",
   "execution_count": 10,
   "metadata": {},
   "outputs": [],
   "source": [
    "df.fillna(0, inplace=True)\n",
    "df.drop('set', axis=1, inplace=True)"
   ]
  },
  {
   "cell_type": "code",
   "execution_count": 11,
   "metadata": {},
   "outputs": [
    {
     "name": "stdout",
     "output_type": "stream",
     "text": [
      "CPU times: user 32.5 s, sys: 368 ms, total: 32.9 s\n",
      "Wall time: 32.8 s\n"
     ]
    }
   ],
   "source": [
    "%%time\n",
    "df['avedist'] = df['Password'].str.lower().apply(avedist)"
   ]
  },
  {
   "cell_type": "code",
   "execution_count": 12,
   "metadata": {},
   "outputs": [],
   "source": [
    "df.drop('Password', axis=1, inplace=True)"
   ]
  },
  {
   "cell_type": "code",
   "execution_count": 13,
   "metadata": {},
   "outputs": [
    {
     "name": "stdout",
     "output_type": "stream",
     "text": [
      "<class 'pandas.core.frame.DataFrame'>\n",
      "Int64Index: 5189371 entries, 0 to 1037874\n",
      "Data columns (total 14 columns):\n",
      "len              int8\n",
      "nunique          int8\n",
      "digit            int8\n",
      "upper            int8\n",
      "lower            int8\n",
      "letters          int8\n",
      "alpha            int8\n",
      "nunique_share    float64\n",
      "digit_share      float64\n",
      "upper_share      float64\n",
      "lower_share      float64\n",
      "letters_share    float64\n",
      "alpha_share      float64\n",
      "avedist          float64\n",
      "dtypes: float64(7), int8(7)\n",
      "memory usage: 351.4 MB\n"
     ]
    }
   ],
   "source": [
    "df.info()"
   ]
  },
  {
   "cell_type": "markdown",
   "metadata": {},
   "source": [
    "**Далее в качестве признаков добавляются 1000 наиболее часто встречавшихся в паролях обучающей выборки 3-грамм. Ограничившись 3-граммами мы наверняка избежим чрезмерной подстройки под обучающую выборку и, в то же время, получим шанс обучиться на небольшом числе наиболее характерных для \"парольного\" языка сочитаний символов, которые априори могут быть и не очевидными. (На самом деле, результат работы первой версии этого ноутбука показал, что добавление небольшого числа 4- и 5-грамм чуть-чуть уменьшает значение ошибки на валидационной выборке.)**"
   ]
  },
  {
   "cell_type": "code",
   "execution_count": 14,
   "metadata": {},
   "outputs": [
    {
     "name": "stdout",
     "output_type": "stream",
     "text": [
      "CPU times: user 0 ns, sys: 0 ns, total: 0 ns\n",
      "Wall time: 34.8 µs\n"
     ]
    }
   ],
   "source": [
    "%%time\n",
    "countvect = CountVectorizer(analyzer='char', ngram_range=(3,3), max_features=1000)"
   ]
  },
  {
   "cell_type": "code",
   "execution_count": 15,
   "metadata": {},
   "outputs": [],
   "source": [
    "from scipy.sparse import hstack\n",
    "sparse_train = hstack([df[:len(train)].values, \n",
    "                       countvect.fit_transform(train['Password'])]).tocsr()\n",
    "y = train['Times']"
   ]
  },
  {
   "cell_type": "markdown",
   "metadata": {},
   "source": [
    "**Далее обучается случайный лес из 30 деревьев максимальной глубины 11 со случайным выбором порогов для разбиения по каждой переменой (скорее всего, это несколько ускоряет работу алгоритма). На Kaggle этот алгоритм работал целых полчаса.**"
   ]
  },
  {
   "cell_type": "code",
   "execution_count": 16,
   "metadata": {},
   "outputs": [
    {
     "name": "stdout",
     "output_type": "stream",
     "text": [
      "CPU times: user 1h 53min, sys: 6.03 s, total: 1h 53min 6s\n",
      "Wall time: 29min 54s\n"
     ]
    },
    {
     "data": {
      "text/plain": [
       "ExtraTreesRegressor(bootstrap=False, criterion='mse', max_depth=11,\n",
       "                    max_features='auto', max_leaf_nodes=None,\n",
       "                    min_impurity_decrease=0.0, min_impurity_split=None,\n",
       "                    min_samples_leaf=1, min_samples_split=2,\n",
       "                    min_weight_fraction_leaf=0.0, n_estimators=30, n_jobs=-1,\n",
       "                    oob_score=False, random_state=11, verbose=0,\n",
       "                    warm_start=False)"
      ]
     },
     "execution_count": 16,
     "metadata": {},
     "output_type": "execute_result"
    }
   ],
   "source": [
    "%%time \n",
    "rf = ExtraTreesRegressor(n_estimators=30, max_depth=11, random_state=11, n_jobs=-1)\n",
    "rf.fit(sparse_train, np.log1p(y))"
   ]
  },
  {
   "cell_type": "code",
   "execution_count": 17,
   "metadata": {},
   "outputs": [
    {
     "name": "stdout",
     "output_type": "stream",
     "text": [
      "Forest msle on train set: 0.13685412775885444\n"
     ]
    }
   ],
   "source": [
    "print('Forest msle on train set:', mean_squared_error(rf.predict(sparse_train), np.log1p(y)))"
   ]
  },
  {
   "cell_type": "markdown",
   "metadata": {},
   "source": [
    "**С использованием случайного леса среднеквадратическая ошибка на обучающей выборке составила примерно 0.137, а RMSLE - 0.37.**\n",
    "\n",
    "**Посмотрим теперь на наиболее значимые с точки зрения случайного леса признаки (с большими feature importances).**"
   ]
  },
  {
   "cell_type": "code",
   "execution_count": 18,
   "metadata": {},
   "outputs": [
    {
     "name": "stdout",
     "output_type": "stream",
     "text": [
      "Feature ranking\n",
      "1. len (0.208516)\n",
      "2. digit_share (0.071312)\n",
      "3. lower_share (0.071040)\n",
      "4. nunique (0.066824)\n",
      "5. nunique_share (0.062559)\n",
      "6. letters_share (0.052412)\n",
      "7. 198 (0.045000)\n",
      "8. alpha (0.040708)\n",
      "9. 197 (0.034777)\n",
      "10. digit (0.033354)\n",
      "11. 199 (0.030103)\n",
      "12. 196 (0.025839)\n",
      "13. lower (0.019469)\n",
      "14. letters (0.018818)\n",
      "15. avedist (0.017446)\n",
      "16. 119 (0.016680)\n",
      "17. 219 (0.016009)\n",
      "18. upper_share (0.011714)\n",
      "19. 195 (0.008682)\n",
      "20. 123 (0.008169)\n",
      "21. 051 (0.007704)\n",
      "22. upper (0.007591)\n",
      "23. 081 (0.007001)\n",
      "24. 011 (0.006604)\n",
      "25. 041 (0.005826)\n",
      "26. 121 (0.005801)\n",
      "27. 071 (0.005451)\n",
      "28. 061 (0.005160)\n",
      "29. 111 (0.005100)\n",
      "30. 021 (0.005000)\n",
      "31. 031 (0.004581)\n",
      "32. 200 (0.004260)\n",
      "33. er1 (0.003182)\n",
      "34. 091 (0.002684)\n",
      "35. ter (0.001793)\n",
      "36. alpha_share (0.001557)\n",
      "37. 519 (0.001451)\n",
      "38. 345 (0.001447)\n",
      "39. 619 (0.001374)\n",
      "40. 078 (0.001362)\n",
      "41. 101 (0.001295)\n",
      "42. 419 (0.001248)\n",
      "43. 194 (0.001244)\n",
      "44. 019 (0.001238)\n",
      "45. 098 (0.001234)\n",
      "46. ing (0.001219)\n",
      "47. 234 (0.001105)\n",
      "48. 193 (0.001091)\n",
      "49. 719 (0.001077)\n",
      "50. ers (0.001066)\n",
      "51. qwe (0.001058)\n",
      "52. cke (0.001038)\n",
      "53. 088 (0.001004)\n",
      "54. 456 (0.001000)\n",
      "55. 108 (0.000971)\n",
      "56. ang (0.000939)\n",
      "57. 319 (0.000875)\n",
      "58. man (0.000874)\n",
      "59. 068 (0.000811)\n",
      "60. 010 (0.000788)\n",
      "61. lly (0.000787)\n",
      "62. 819 (0.000739)\n",
      "63. 919 (0.000708)\n",
      "64. ong (0.000699)\n",
      "65. 090 (0.000655)\n",
      "66. uck (0.000629)\n",
      "67. 191 (0.000500)\n",
      "68. 110 (0.000480)\n",
      "69. nny (0.000463)\n",
      "70. nge (0.000452)\n",
      "71. asd (0.000435)\n",
      "72. y12 (0.000429)\n",
      "73. fuc (0.000427)\n",
      "74. 221 (0.000399)\n",
      "75. blu (0.000393)\n",
      "76. 567 (0.000386)\n",
      "77. a19 (0.000379)\n",
      "78. key (0.000374)\n",
      "79. on1 (0.000357)\n",
      "80. tig (0.000350)\n",
      "81. 058 (0.000309)\n",
      "82. 120 (0.000297)\n",
      "83. tte (0.000269)\n",
      "84. ack (0.000255)\n",
      "85. ick (0.000246)\n",
      "86. a12 (0.000234)\n",
      "87. lov (0.000230)\n",
      "88. wor (0.000229)\n",
      "89. ker (0.000227)\n",
      "90. aaa (0.000222)\n",
      "91. ass (0.000219)\n",
      "92. 020 (0.000218)\n",
      "93. ndy (0.000210)\n",
      "94. mas (0.000209)\n",
      "95. 080 (0.000204)\n",
      "96. tes (0.000201)\n",
      "97. bla (0.000197)\n",
      "98. 038 (0.000195)\n",
      "99. a20 (0.000192)\n",
      "100. 192 (0.000187)\n",
      "101. pas (0.000181)\n",
      "102. ran (0.000180)\n",
      "103. ove (0.000175)\n",
      "104. oot (0.000173)\n",
      "105. ger (0.000173)\n",
      "106. 789 (0.000172)\n",
      "107. 028 (0.000167)\n",
      "108. 230 (0.000166)\n",
      "109. ust (0.000166)\n",
      "110. 678 (0.000157)\n",
      "111. 000 (0.000143)\n",
      "112. 048 (0.000143)\n",
      "113. ion (0.000143)\n",
      "114. las (0.000142)\n",
      "115. hun (0.000140)\n",
      "116. oki (0.000139)\n",
      "117. ood (0.000137)\n",
      "118. ike (0.000134)\n",
      "119. 018 (0.000133)\n",
      "120. arl (0.000132)\n",
      "121. mar (0.000129)\n",
      "122. rty (0.000128)\n",
      "123. 212 (0.000125)\n",
      "124. 321 (0.000123)\n",
      "125. 112 (0.000121)\n",
      "126. mic (0.000120)\n",
      "127. xxx (0.000120)\n",
      "128. per (0.000116)\n",
      "129. sex (0.000115)\n",
      "130. mon (0.000115)\n",
      "131. e12 (0.000113)\n",
      "132. 240 (0.000112)\n",
      "133. ill (0.000108)\n",
      "134. lle (0.000108)\n",
      "135. ord (0.000108)\n",
      "136. nth (0.000107)\n",
      "137. all (0.000106)\n",
      "138. cha (0.000105)\n",
      "139. red (0.000104)\n",
      "140. nna (0.000104)\n",
      "141. dog (0.000104)\n",
      "142. ste (0.000103)\n",
      "143. 999 (0.000102)\n",
      "144. bil (0.000097)\n",
      "145. nce (0.000097)\n"
     ]
    }
   ],
   "source": [
    "f_names = np.r_[df.columns.values, \n",
    "                countvect.get_feature_names()]\n",
    "importances = rf.feature_importances_\n",
    "indices = np.argsort(importances)[::-1]\n",
    "print('Feature ranking')\n",
    "for f in range(145):\n",
    "    print('%d. %s (%f)' % (f+1, f_names[indices[f]], importances[indices[f]]))"
   ]
  },
  {
   "cell_type": "markdown",
   "metadata": {},
   "source": [
    "**Первое, что бросается в глаза, помимо созданных ранее признаков заметное значение имеют цифровые 3-граммы 196, 197, 198, 199, которые по-видимому являются началом, используемых в паролях годов рождения.**"
   ]
  },
  {
   "cell_type": "markdown",
   "metadata": {},
   "source": [
    "**Чтобы понизить ошибку воспользуемся алгоритмом градиентного бустинга. Для ускорения работы используем эксперементальной для sklearn моделью HistGradientBoostingRegressor. К сожалению, данный алгоритм пока не умеет работать с разреженными матрицами. Поэтому для того, чтобы точно не выйти за границы памяти, установленные для Kaggle kernel, мы будем использовать только первые 140 наиболее важных с точки зрения случайного леса признаков.**"
   ]
  },
  {
   "cell_type": "code",
   "execution_count": 19,
   "metadata": {},
   "outputs": [],
   "source": [
    "del rf"
   ]
  },
  {
   "cell_type": "code",
   "execution_count": 20,
   "metadata": {},
   "outputs": [],
   "source": [
    "from sklearn.experimental import enable_hist_gradient_boosting\n",
    "from sklearn.ensemble import HistGradientBoostingRegressor\n",
    "gb = HistGradientBoostingRegressor(max_iter=400, max_leaf_nodes=47, random_state=11)"
   ]
  },
  {
   "cell_type": "code",
   "execution_count": 21,
   "metadata": {},
   "outputs": [
    {
     "data": {
      "text/plain": [
       "(4151496, 140)"
      ]
     },
     "execution_count": 21,
     "metadata": {},
     "output_type": "execute_result"
    }
   ],
   "source": [
    "dense_train = sparse_train[:, indices[:140]].toarray()\n",
    "del sparse_train\n",
    "dense_train.shape"
   ]
  },
  {
   "cell_type": "code",
   "execution_count": 22,
   "metadata": {},
   "outputs": [
    {
     "name": "stdout",
     "output_type": "stream",
     "text": [
      "CPU times: user 25min 56s, sys: 7.54 s, total: 26min 3s\n",
      "Wall time: 6min 49s\n"
     ]
    },
    {
     "data": {
      "text/plain": [
       "HistGradientBoostingRegressor(l2_regularization=0.0, learning_rate=0.1,\n",
       "                              loss='least_squares', max_bins=256,\n",
       "                              max_depth=None, max_iter=400, max_leaf_nodes=47,\n",
       "                              min_samples_leaf=20, n_iter_no_change=None,\n",
       "                              random_state=11, scoring=None, tol=1e-07,\n",
       "                              validation_fraction=0.1, verbose=0)"
      ]
     },
     "execution_count": 22,
     "metadata": {},
     "output_type": "execute_result"
    }
   ],
   "source": [
    "%%time\n",
    "gb.fit(dense_train, np.log1p(y))"
   ]
  },
  {
   "cell_type": "code",
   "execution_count": 23,
   "metadata": {},
   "outputs": [
    {
     "name": "stdout",
     "output_type": "stream",
     "text": [
      "Boosting msle on train set: 0.1272702588621421\n"
     ]
    }
   ],
   "source": [
    "print('Boosting msle on train set:', mean_squared_error(gb.predict(dense_train), np.log1p(y)))"
   ]
  },
  {
   "cell_type": "markdown",
   "metadata": {},
   "source": [
    "**Градиентный бустинг считался всего 7 минут, но заметно снизил ошибку в сравнении со случайным лесом. RMSLE на обучающей выборке составляет примерно 0,357. На приватной части тестовой выборки она составила 0.359.**"
   ]
  },
  {
   "cell_type": "markdown",
   "metadata": {},
   "source": [
    "**Сгенерируем файл ответов для загрузки на Kaggle.**"
   ]
  },
  {
   "cell_type": "code",
   "execution_count": 24,
   "metadata": {},
   "outputs": [],
   "source": [
    "del dense_train"
   ]
  },
  {
   "cell_type": "code",
   "execution_count": 25,
   "metadata": {},
   "outputs": [
    {
     "data": {
      "text/plain": [
       "(1037875, 140)"
      ]
     },
     "execution_count": 25,
     "metadata": {},
     "output_type": "execute_result"
    }
   ],
   "source": [
    "dense_test = hstack([df[len(train):].values, \n",
    "                     countvect.transform(test['Password'])]).tocsr()[:, indices[:140]].toarray()\n",
    "dense_test.shape"
   ]
  },
  {
   "cell_type": "code",
   "execution_count": 26,
   "metadata": {},
   "outputs": [],
   "source": [
    "test['Times'] = np.expm1(gb.predict(dense_test))"
   ]
  },
  {
   "cell_type": "code",
   "execution_count": 27,
   "metadata": {},
   "outputs": [],
   "source": [
    "del dense_test"
   ]
  },
  {
   "cell_type": "code",
   "execution_count": 28,
   "metadata": {},
   "outputs": [
    {
     "name": "stdout",
     "output_type": "stream",
     "text": [
      "<class 'pandas.core.frame.DataFrame'>\n",
      "Int64Index: 1037875 entries, 0 to 1037874\n",
      "Data columns (total 2 columns):\n",
      "Password    1037875 non-null object\n",
      "Times       1037875 non-null float64\n",
      "dtypes: float64(1), object(1)\n",
      "memory usage: 23.8+ MB\n"
     ]
    }
   ],
   "source": [
    "test.info()"
   ]
  },
  {
   "cell_type": "code",
   "execution_count": 29,
   "metadata": {},
   "outputs": [],
   "source": [
    "test[['Times']].to_csv('submit_2.csv', index_label='Id')"
   ]
  },
  {
   "cell_type": "code",
   "execution_count": 30,
   "metadata": {},
   "outputs": [
    {
     "data": {
      "text/html": [
       "<div>\n",
       "<style scoped>\n",
       "    .dataframe tbody tr th:only-of-type {\n",
       "        vertical-align: middle;\n",
       "    }\n",
       "\n",
       "    .dataframe tbody tr th {\n",
       "        vertical-align: top;\n",
       "    }\n",
       "\n",
       "    .dataframe thead th {\n",
       "        text-align: right;\n",
       "    }\n",
       "</style>\n",
       "<table border=\"1\" class=\"dataframe\">\n",
       "  <thead>\n",
       "    <tr style=\"text-align: right;\">\n",
       "      <th></th>\n",
       "      <th>Password</th>\n",
       "      <th>Times</th>\n",
       "    </tr>\n",
       "    <tr>\n",
       "      <th>Id</th>\n",
       "      <th></th>\n",
       "      <th></th>\n",
       "    </tr>\n",
       "  </thead>\n",
       "  <tbody>\n",
       "    <tr>\n",
       "      <td>178387</td>\n",
       "      <td>2081198</td>\n",
       "      <td>0.029114</td>\n",
       "    </tr>\n",
       "    <tr>\n",
       "      <td>71214</td>\n",
       "      <td>y0919199</td>\n",
       "      <td>0.108382</td>\n",
       "    </tr>\n",
       "    <tr>\n",
       "      <td>318177</td>\n",
       "      <td>1983081</td>\n",
       "      <td>0.127280</td>\n",
       "    </tr>\n",
       "    <tr>\n",
       "      <td>387770</td>\n",
       "      <td>j1970091</td>\n",
       "      <td>0.184417</td>\n",
       "    </tr>\n",
       "    <tr>\n",
       "      <td>391218</td>\n",
       "      <td>20608153198</td>\n",
       "      <td>0.204502</td>\n",
       "    </tr>\n",
       "    <tr>\n",
       "      <td>...</td>\n",
       "      <td>...</td>\n",
       "      <td>...</td>\n",
       "    </tr>\n",
       "    <tr>\n",
       "      <td>704375</td>\n",
       "      <td>33333333</td>\n",
       "      <td>348.087630</td>\n",
       "    </tr>\n",
       "    <tr>\n",
       "      <td>900990</td>\n",
       "      <td>55555555</td>\n",
       "      <td>348.087630</td>\n",
       "    </tr>\n",
       "    <tr>\n",
       "      <td>604320</td>\n",
       "      <td>66666666</td>\n",
       "      <td>348.087630</td>\n",
       "    </tr>\n",
       "    <tr>\n",
       "      <td>701469</td>\n",
       "      <td>777777</td>\n",
       "      <td>617.561016</td>\n",
       "    </tr>\n",
       "    <tr>\n",
       "      <td>410501</td>\n",
       "      <td>000000</td>\n",
       "      <td>832.749165</td>\n",
       "    </tr>\n",
       "  </tbody>\n",
       "</table>\n",
       "<p>1037875 rows × 2 columns</p>\n",
       "</div>"
      ],
      "text/plain": [
       "           Password       Times\n",
       "Id                             \n",
       "178387      2081198    0.029114\n",
       "71214      y0919199    0.108382\n",
       "318177      1983081    0.127280\n",
       "387770     j1970091    0.184417\n",
       "391218  20608153198    0.204502\n",
       "...             ...         ...\n",
       "704375     33333333  348.087630\n",
       "900990     55555555  348.087630\n",
       "604320     66666666  348.087630\n",
       "701469       777777  617.561016\n",
       "410501       000000  832.749165\n",
       "\n",
       "[1037875 rows x 2 columns]"
      ]
     },
     "execution_count": 30,
     "metadata": {},
     "output_type": "execute_result"
    }
   ],
   "source": [
    "test.sort_values(by='Times')"
   ]
  }
 ],
 "metadata": {
  "kernelspec": {
   "display_name": "Python 3",
   "language": "python",
   "name": "python3"
  },
  "language_info": {
   "codemirror_mode": {
    "name": "ipython",
    "version": 3
   },
   "file_extension": ".py",
   "mimetype": "text/x-python",
   "name": "python",
   "nbconvert_exporter": "python",
   "pygments_lexer": "ipython3",
   "version": "3.6.9"
  }
 },
 "nbformat": 4,
 "nbformat_minor": 1
}
